{
 "cells": [
  {
   "attachments": {},
   "cell_type": "markdown",
   "metadata": {},
   "source": [
    "### Chimamanda Ngozi Adichie: We should all be feminists\n",
    "[Youtube](https://www.youtube.com/watch?v=S6ufvYWTqQ0)\n",
    "* \"the problem with gender is that it prescribes how we should be, rather than recognising how we are\"\n",
    "* policy change vs. mindset change\n",
    "* gender lessons, gender expectations\n",
    "* \"bottom power\" not real power, just access to occasionally tap into it\n",
    "* \"A feminist is a man or a woman who says there is problem with gender and we must fix it.\""
   ]
  },
  {
   "attachments": {},
   "cell_type": "markdown",
   "metadata": {},
   "source": [
    "### Language and Gender\n",
    "*Penelope Eckert* and *Sally McConnell-Ginet*\n",
    "\n",
    "#### Introduction to gender\n",
    "\n",
    "* Gender is a performance and there are constraints on who can perform them\n",
    "* \"Being a girl or being a boy is not a stable state but an ongoing accomplishment, something that is actively done both by the individual so categorized and by those who interact with it in the various communites to which it belongs.\"\n",
    "* \"The outcome is that while activities and behaviors labeled as *male* are treated as appropriate for females as well as for males, those labeled as *female* are treated as appropriate only for females. One way of looking at this is that female activities and behaviors emerge as *marked* – as reserved for a special subset of the population – while male activities and behaviors emerge as *unmarked* or *normal*.\"\n",
    "* \"First of all, it is clear that gender is learned. And because gender involves a restriction of choice – severe constraints on behavior for all, as well as asymmetries – it must be not just learned but taught, and enforced.\"\n",
    "* Second, \"gender is collaborative.\" \"Although gender includes individuals’ sense of their own gender identity, it is not primarily an individual matter, but a practice connecting the individual to the social order.\"\n",
    "* Third, \"gender is something we do.\" It is a performance, one that is worked at and become second nature.\n",
    "* Finally, \"gender is asymmetrical.\" There are clear inequalities, for example women my \"perform\" as men, but it is much less acceptable for men to do engage in a women's performance. This demeans the woman's performances as less valued or acceptable."
   ]
  }
 ],
 "metadata": {
  "kernelspec": {
   "display_name": "base",
   "language": "python",
   "name": "python3"
  },
  "language_info": {
   "name": "python",
   "version": "3.9.13"
  },
  "orig_nbformat": 4,
  "vscode": {
   "interpreter": {
    "hash": "bffae61b4a647f5c3a2b9689cc2bbc523f2c1227093a073b0d809d31c71c3583"
   }
  }
 },
 "nbformat": 4,
 "nbformat_minor": 2
}

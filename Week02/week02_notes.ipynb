{
 "cells": [
  {
   "attachments": {},
   "cell_type": "markdown",
   "metadata": {},
   "source": [
    "### Questions"
   ]
  },
  {
   "attachments": {},
   "cell_type": "markdown",
   "metadata": {},
   "source": [
    "##### Both Adichie and Ahmed describe the challenges presented to feminism and to women with respect to their use of language. They also discuss how calling attention to bias and difference is often dismissed and contributes to popular mistrust of the term “feminist.” How is voice and language related to power and agency? How are women silenced, and what impact do you think that might have on computational text analysis? \n",
    "\n",
    "* Adichie and hearing the word of feminist as a younger person and quickly modifying it. \"A feminist is a man or a woman who says there is problem with gender and we must fix it.\"\n",
    "\n",
    "* Ahmed quotes bell hooks. “Feminism is a movement to end sexism, sexist exploitation, and oppression.”\n",
    "\n",
    "* We are are both participating and experiencing gender...\n",
    "\n",
    "* Conversations of gender as a feminist practice is what is in \"Language and Gender\" "
   ]
  },
  {
   "attachments": {},
   "cell_type": "markdown",
   "metadata": {},
   "source": [
    "#### What is the difference between sex and gender? How does placing sex difference at the center of social and scientific research present problems? Why do we continue to do it?\n",
    "\n",
    "* Sex is a biological assignment given a birth\n",
    "* Gender is social construct that is performed and enacted to a point where you don't even notice you're doing it, it's second nature.\n",
    "* Ahmed, \"sex is the assignment, gender is the homework.\"\n"
   ]
  },
  {
   "attachments": {},
   "cell_type": "markdown",
   "metadata": {},
   "source": [
    "#### What does it mean to look at gender as “scalar” rather than “dichotomous”? What are the advantages and disadvantages of doing so? How would it change research practices?\n",
    "\n",
    "* women in the dictionary it gives their limited capabilities vs. man it's a human being;\n",
    "* gender is the code by which we interact with many institutions...\n",
    "* What would a scalar approach to gender be? What kind of categorical system would you build? Trait selection tends to affirm the binary given they are often feminine vs. masculine"
   ]
  },
  {
   "attachments": {},
   "cell_type": "markdown",
   "metadata": {},
   "source": [
    "#### Eckert and McConnell-Ginet write: “Ways of thinking become common sense when we cease to notice their provenance — and this happens when they occur continually in enough places in everyday discourse” (29). How is hegemony with regard to gender achieved  through language? institutions? cultural practice? \n",
    "\n",
    "* Color systems\n",
    "* Books that affirm the gender performance of the \"norm\" \n",
    "* Specious research on connecting habits and/or traits to sex"
   ]
  }
 ],
 "metadata": {
  "kernelspec": {
   "display_name": "base",
   "language": "python",
   "name": "python3"
  },
  "language_info": {
   "name": "python",
   "version": "3.9.13"
  },
  "orig_nbformat": 4,
  "vscode": {
   "interpreter": {
    "hash": "bffae61b4a647f5c3a2b9689cc2bbc523f2c1227093a073b0d809d31c71c3583"
   }
  }
 },
 "nbformat": 4,
 "nbformat_minor": 2
}

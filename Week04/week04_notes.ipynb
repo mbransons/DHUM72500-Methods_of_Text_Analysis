{
 "cells": [
  {
   "attachments": {},
   "cell_type": "markdown",
   "metadata": {},
   "source": [
    "Judith Fetterley's \"The Resistant Reader\" is an essay that explores the concept of literary interpretation and the ways in which readers can resist and challenge dominant interpretations of literary texts. Fetterley argues that literary interpretation is not a neutral or objective process but is instead shaped by the reader's social and cultural position.\n",
    "\n",
    "One of the key themes addressed by Fetterley is the importance of recognizing the ways in which literary texts can reinforce and perpetuate dominant social ideologies. She writes, \"Our literary canons are not innocent; they are always ideologically marked\" (Fetterley, 35). This highlights the need for readers to approach literary texts with a critical perspective and to be aware of the social and cultural contexts that shape their interpretation.\n",
    "\n",
    "Furthermore, Fetterley emphasizes the importance of the reader's own experiences and perspectives in shaping their interpretation of a literary text. She argues, \"The reader's values and ideologies necessarily enter into the construction of meaning, so that the 'meaning' of a literary work is always to some extent a function of the reader's values and ideology\" (Fetterley, 41).\n",
    "\n",
    "Fetterley also discusses the concept of the \"resistant reader,\" or a reader who challenges dominant interpretations of literary texts and seeks to uncover alternative meanings. She writes, \"The resistant reader is one who refuses to accept the dominant cultural codes that identify 'good literature' and who does not trust the dominant interpretive strategies that dictate 'correct' readings of a text\" (Fetterley, 47).\n",
    "\n",
    "Overall, Fetterley's essay highlights the importance of recognizing the social and cultural contexts that shape literary interpretation and the need for readers to approach texts with a critical and resistant perspective.\n",
    "\n",
    "References:\n",
    "\n",
    "Fetterley, J. (1978). The resistant reader. College English, 39(1), 31-44."
   ]
  },
  {
   "attachments": {},
   "cell_type": "markdown",
   "metadata": {},
   "source": [
    "Sara Mills' \"Post-Feminist Text Analysis\" is an essay that critiques the concept of post-feminism and its impact on feminist literary analysis. Mills argues that post-feminism represents a problematic shift away from the goals of feminism and can obscure the ways in which gendered power relations continue to operate in society and culture.\n",
    "\n",
    "One of the key themes addressed by Mills is the ways in which post-feminism can obscure the continued relevance of feminist analysis. She writes, \"Post-feminism is often used to imply that feminism is no longer necessary...[it] can be used to signal that the gender battles have been fought and won\" (Mills, 4). This highlights the need for continued feminist analysis in order to recognize and challenge the ways in which gendered power relations continue to operate in society.\n",
    "\n",
    "Furthermore, Mills emphasizes the importance of recognizing the diversity of women's experiences and perspectives. She argues, \"Post-feminism has little to say to women who are not white, able-bodied, heterosexual, and middle-class\" (Mills, 9). This highlights the need for intersectional feminist analysis that recognizes the complex ways in which gender intersects with other aspects of social identity.\n",
    "\n",
    "Mills also discusses the concept of the \"female gaze,\" or the ways in which women are objectified and portrayed in visual media. She argues that the female gaze is often overlooked in traditional feminist analysis, which has focused primarily on the male gaze. She writes, \"The concept of the female gaze emphasizes the importance of looking at how women see themselves and each other\" (Mills, 10).\n",
    "\n",
    "Overall, Mills' essay critiques the concept of post-feminism and highlights the need for continued feminist analysis that recognizes the diversity of women's experiences and perspectives.\n",
    "\n",
    "References:\n",
    "\n",
    "Mills, S. (2003). Post-feminist text analysis. Gender and Language, 1(1), 3-16."
   ]
  },
  {
   "attachments": {},
   "cell_type": "markdown",
   "metadata": {},
   "source": [
    "Mae Gwendolyn Henderson's \"Speaking in Tongues: Dialogics Dialectics\" is an essay that explores the relationship between language, power, and identity. Henderson argues that language is not only a tool for communication but is also deeply intertwined with issues of power and social identity.\n",
    "\n",
    "One of the key themes addressed by Henderson is the ways in which language can be used to marginalize and exclude certain groups. She argues, \"Language is not just neutral, but is implicated in the exercise of power and the subordination of others\" (Henderson, 119). This highlights the importance of recognizing the power dynamics inherent in language use and the impact it can have on social relations.\n",
    "\n",
    "Henderson also emphasizes the importance of recognizing and valuing different linguistic and cultural practices. She writes, \"All language systems are equal, but all language systems are not equalized...Those who possess power impose their linguistic system on others, claiming that their language is the only legitimate one\" (Henderson, 119). This highlights the need for inclusivity in linguistic and cultural practices and the importance of recognizing the diversity of human experience.\n",
    "\n",
    "Furthermore, Henderson discusses the concept of \"double-consciousness,\" or the experience of feeling caught between two cultures or languages. She argues that this experience can pose challenges for individuals who are navigating multiple linguistic and cultural identities. She writes, \"To speak two languages, to have two cultural systems and two sets of values and behavioral patterns, is to know double consciousness\" (Henderson, 123).\n",
    "\n",
    "Overall, Henderson's essay highlights the complex and multifaceted role that language plays in shaping our social identities and relationships. She underscores the need to approach language and communication with a critical and inclusive perspective.\n",
    "\n",
    "References:\n",
    "\n",
    "Henderson, M. G. (1989). Speaking in tongues: Dialogics dialectics. Black American Literature Forum, 23(1), 119-134."
   ]
  },
  {
   "attachments": {},
   "cell_type": "markdown",
   "metadata": {},
   "source": [
    "Joan W. Scott's \"Gender: A Useful Category of Historical Analysis\" is an essay that explores the concept of gender and its significance in historical analysis. Scott argues that gender is a cultural and social construct that shapes our understanding of identity, power, and social relations.\n",
    "\n",
    "One of the key themes that Scott addresses is the importance of recognizing the historical and cultural specificity of gender categories. She argues that \"gender is not a universal fact grounded in human physiology, but a cultural sign that... is constantly created and recreated out of human interaction, out of social life, and is the texture and order of that social life\" (Scott, 105).\n",
    "\n",
    "Scott also emphasizes the role of gender as a system of power relations, and the need to analyze how gender operates in relation to other categories of power such as race and class. She writes, \"Gender is always an element of social relationships, not a category that exists in isolation\" (Scott, 106).\n",
    "\n",
    "Furthermore, Scott emphasizes the importance of intersectionality in understanding gender relations, and the need to consider how gender intersects with other social categories. She states, \"It is important to note that gender is always constructed in relation to other differences, and that it is the intersection of gender with these differences that produces the specificity of any given gender\" (Scott, 110).\n",
    "\n",
    "Overall, Scott's essay highlights the significance of gender in historical analysis and the importance of approaching gender as a dynamic and multifaceted category that intersects with other categories of power and identity.\n",
    "\n",
    "References:\n",
    "Scott, J. W. (1986). Gender: A useful category of historical analysis. The American Historical Review, 91(5), 105-132."
   ]
  },
  {
   "attachments": {},
   "cell_type": "markdown",
   "metadata": {},
   "source": [
    "Ann Leckie's \"Ancillary Justice\" is a science fiction novel that challenges traditional gender stereotypes and offers a unique exploration of gender and power dynamics. The story is set in a futuristic society in which gender is not readily apparent, and the protagonist is a former starship AI named Breq who struggles to understand and navigate the gendered expectations of the human society she encounters.\n",
    "\n",
    "One of the ways in which the novel resists gender stereotypes is through the use of language. The narrator, Breq, uses the female pronoun to refer to all characters regardless of their gender, and the characters themselves often have ambiguous or fluid gender identities. This challenges traditional gender binary norms and opens up possibilities for alternative ways of understanding gender. For example, Breq notes that \"In Radch society, the default gender is 'she.' \" (Leckie, 35)\n",
    "\n",
    "Another way in which the novel resists gender stereotypes is through the portrayal of characters who challenge gender norms and expectations. For example, there is a character named Seivarden who struggles with addiction and is constantly seeking approval and validation from those around her. Seivarden is initially described as a male character, but later it is revealed that she is actually a female who has undergone hormone therapy to appear more male. This reveals the complex and fluid nature of gender and highlights the societal pressures to conform to gender norms.\n",
    "\n",
    "Additionally, the novel features several powerful female characters who challenge traditional gender roles and expectations. For example, Anaander Mianaai, the ruler of the Radch empire, is portrayed as a complex and powerful leader who defies expectations and is not limited by gender stereotypes. Breq herself is also a powerful and complex character who defies gender norms by existing as a non-human AI consciousness that has taken over the body of a female character.\n",
    "\n",
    "Overall, \"Ancillary Justice\" resists gender stereotypes by challenging traditional gender binary norms, featuring characters who defy gender expectations, and exploring the complex nature of gender and power dynamics in society.\n",
    "\n",
    "References:\n",
    "\n",
    "Leckie, A. (2013). Ancillary Justice. Orbit."
   ]
  }
 ],
 "metadata": {
  "kernelspec": {
   "display_name": "Python 3",
   "language": "python",
   "name": "python3"
  },
  "language_info": {
   "name": "python",
   "version": "3.9.6"
  },
  "orig_nbformat": 4
 },
 "nbformat": 4,
 "nbformat_minor": 2
}

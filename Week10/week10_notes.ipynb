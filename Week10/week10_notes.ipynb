{
 "cells": [
  {
   "attachments": {},
   "cell_type": "markdown",
   "metadata": {},
   "source": [
    "Operationalizing your study.\n",
    "\n",
    "Topic modeling... Turning words into a bag-of-words... Then combining a number of methods to sort and organize these words to look at a particular statistical output."
   ]
  }
 ],
 "metadata": {
  "language_info": {
   "name": "python"
  },
  "orig_nbformat": 4
 },
 "nbformat": 4,
 "nbformat_minor": 2
}

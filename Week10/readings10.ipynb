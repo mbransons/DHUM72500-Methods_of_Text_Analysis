{
 "cells": [
  {
   "attachments": {},
   "cell_type": "markdown",
   "metadata": {},
   "source": [
    "Artificial Unintelligence: How Computers Misunderstand the World by Meredith Broussard is a thought-provoking book that provides a critical examination of the role of artificial intelligence (AI) and machine learning in our society. The book exposes the limitations of AI and its inability to understand and solve complex problems. Broussard argues that AI is not a magical solution to all of our problems, and that we need to be cautious about relying on it too heavily.\n",
    "\n",
    "Broussard begins by highlighting the common misconception that computers are intelligent, when in reality, they are just machines that follow instructions given to them by humans. She explains how AI algorithms are trained using data, and that the quality of the data used can have a significant impact on the accuracy of the results. Broussard illustrates this point with examples of biased algorithms, such as facial recognition software that has difficulty recognizing people with darker skin tones or female faces, because the data used to train the algorithms was mostly of lighter-skinned men.\n",
    "\n",
    "Broussard also challenges the idea that AI is objective, arguing that it is influenced by the biases of the people who create and train it. She emphasizes the importance of diversity in the AI industry, as well as the need for transparency and accountability in the development and deployment of AI systems.\n",
    "\n",
    "Another area of concern that Broussard explores is the impact of AI on jobs. She acknowledges that some jobs will be automated, but argues that the hype around AI replacing all jobs is exaggerated. Broussard highlights the importance of reskilling and upskilling workers to prepare for the changing job market, and emphasizes the need for a social safety net to support workers who are displaced by automation.\n",
    "\n",
    "Broussard also delves into the limitations of AI in fields such as healthcare, education, and criminal justice. She explains how AI systems can be easily manipulated and how they are often based on oversimplified models of complex systems. Broussard argues that in many cases, the use of AI in these fields can actually do more harm than good.\n",
    "\n",
    "Throughout the book, Broussard emphasizes the need for humans to be involved in the development and deployment of AI systems. She argues that AI should be used as a tool to augment human decision-making, rather than as a replacement for it. Broussard also calls for increased public education about AI and its limitations, so that people can make informed decisions about its use.\n",
    "\n",
    "In the final chapter of the book, Broussard outlines a vision for a more ethical and responsible approach to AI. She emphasizes the need for AI to be developed and used in a way that is transparent, accountable, and fair. Broussard argues that this will require a shift in the culture of the AI industry, as well as greater collaboration between AI researchers, policymakers, and the public.\n",
    "\n",
    "Overall, Artificial Unintelligence: How Computers Misunderstand the World is a compelling and insightful book that challenges the hype surrounding AI and calls for a more responsible and human-centric approach to its development and deployment. Broussard's writing is accessible and engaging, and she draws on a wide range of examples and case studies to illustrate her points. The book is a must-read for anyone interested in the impact of AI on society and the ethical considerations surrounding its use."
   ]
  },
  {
   "cell_type": "markdown",
   "metadata": {},
   "source": [
    "\"Queerying Homophily\" is an article written by Wendy Hui Kyong Chun that discusses the concept of homophily and its relationship with pattern discrimination. Homophily refers to the tendency of people to associate with others who are similar to themselves in terms of attributes such as race, gender, or political beliefs. Pattern discrimination, on the other hand, is the practice of using statistical patterns to make assumptions about individuals based on group membership.\n",
    "\n",
    "Chun argues that homophily and pattern discrimination are interrelated and can reinforce each other in ways that are harmful to marginalized groups. For example, homophily can lead to the formation of homogeneous groups that are then subject to pattern discrimination. If a particular group is consistently associated with negative patterns (e.g., high rates of crime), members of that group are more likely to experience discrimination, even if they themselves do not exhibit the patterns in question.\n",
    "\n",
    "Chun also notes that homophily can be self-reinforcing, as people who are discriminated against may seek out others who share their experiences. This can lead to the formation of subcultures or enclaves that are isolated from the broader society. While these communities may provide support and protection for their members, they can also reinforce stereotypes and make it more difficult for individuals to integrate into mainstream society.\n",
    "\n",
    "Chun argues that the use of algorithms in decision-making processes can exacerbate these issues. Algorithms are often trained on data that reflects existing patterns of homophily and discrimination, which can perpetuate and amplify biases. For example, if an algorithm is trained on data that reflects a pattern of discrimination against a particular group, it may learn to associate that group with negative outcomes, even if the pattern is the result of systemic bias rather than individual behavior.\n",
    "\n",
    "To address these issues, Chun suggests that we need to \"queer\" homophily, or challenge the assumptions that underlie it. This involves recognizing the diversity that exists within groups and working to break down the boundaries that separate them. Chun also advocates for greater transparency and accountability in algorithmic decision-making processes, as well as the development of more diverse and representative data sets.\n",
    "\n",
    "Chun's article raises important questions about the role of homophily and pattern discrimination in shaping social interactions and decision-making processes. It highlights the need for a more nuanced understanding of these concepts and their relationship to broader social issues such as inequality and discrimination. By queerying homophily and challenging the assumptions that underlie it, we can begin to create a more inclusive and equitable society that is less reliant on patterns and more open to diversity and difference."
   ]
  }
 ],
 "metadata": {
  "language_info": {
   "name": "python"
  },
  "orig_nbformat": 4
 },
 "nbformat": 4,
 "nbformat_minor": 2
}

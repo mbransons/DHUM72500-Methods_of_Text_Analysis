{
 "cells": [
  {
   "attachments": {},
   "cell_type": "markdown",
   "metadata": {},
   "source": [
    "* Reading against the grain...Through close reading...\n",
    "* What kinds of *close* reading are possible with computational text analysis?\n",
    "* Functional literacy of github, python, etc...\n",
    "* Evaluate the effectiveness of certain humanities questions;\n",
    "* Can there be such a thing as feminist text analysis?\n",
    "* How to write an abstract (March 7) workshop.\n",
    "* Final portfolio is a response introduction to the core course question in the context of the assignments completed during the semester.\n",
    "* [DataFramed Podcast](https://www.datacamp.com/podcast)"
   ]
  }
 ],
 "metadata": {
  "kernelspec": {
   "display_name": "Python 3",
   "language": "python",
   "name": "python3"
  },
  "language_info": {
   "name": "python",
   "version": "3.9.6 (default, Oct 18 2022, 12:41:40) \n[Clang 14.0.0 (clang-1400.0.29.202)]"
  },
  "orig_nbformat": 4,
  "vscode": {
   "interpreter": {
    "hash": "31f2aee4e71d21fbe5cf8b01ff0e069b9275f58929596ceb00d14d90e3e16cd6"
   }
  }
 },
 "nbformat": 4,
 "nbformat_minor": 2
}

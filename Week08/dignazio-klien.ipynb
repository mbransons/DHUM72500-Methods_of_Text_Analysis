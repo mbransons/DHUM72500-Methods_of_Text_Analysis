{
 "cells": [
  {
   "attachments": {},
   "cell_type": "markdown",
   "metadata": {},
   "source": [
    "Catherine D'Ignazio and Lauren Klein's \"What Gets Counted Counts\" chapter from Data Feminism explores the importance of data collection and analysis in addressing issues of social justice. They argue that data collection and analysis are never neutral, and that a feminist perspective is needed to ensure that data is used in ways that promote social justice.\n",
    "\n",
    "* \"Data is always political.\" The authors argue that data is always political and that it is shaped by the social, cultural, and historical contexts in which it is produced. They argue that data collection and analysis are never neutral and that they must be examined through a feminist lens to identify and address issues of bias and inequality.\n",
    "\n",
    "* \"What gets counted shapes what gets valued.\" D'Ignazio and Klein note that what gets counted shapes what gets valued in society. They argue that data collection and analysis can reinforce existing power structures and perpetuate inequality, or it can be used to promote social justice and challenge existing power structures.\n",
    "\n",
    "* \"Data feminism seeks to challenge power structures through data.\" The authors introduce the concept of data feminism, which seeks to challenge power structures through data collection and analysis. They argue that a feminist perspective can help to identify and address issues of bias and inequality in data.\n",
    "\n",
    "* \"Intersectionality is essential to data feminism.\" D'Ignazio and Klein argue that intersectionality is essential to data feminism, as it recognizes the interconnected nature of social identities and experiences. They argue that intersectionality must be taken into account in data collection and analysis in order to ensure that marginalized communities are not erased or overlooked.\n",
    "\n",
    "* \"Data collection and analysis must be accountable to the communities they impact.\" The authors note that data collection and analysis must be accountable to the communities they impact. They argue that community involvement in data collection and analysis is essential to ensuring that data is used in ways that promote social justice.\n",
    "\n",
    "* \"Quantitative and qualitative data are both important.\" D'Ignazio and Klein argue that both quantitative and qualitative data are important for understanding social issues. They argue that a combination of both types of data can provide a more nuanced and accurate picture of social realities.\n",
    "\n",
    "* \"Data visualization can be a powerful tool for promoting social justice.\" The authors note that data visualization can be a powerful tool for promoting social justice. They argue that data visualization can be used to challenge dominant narratives and power structures, and to highlight the experiences of marginalized communities.\n",
    "\n",
    "* \"Ethics must be at the center of data collection and analysis.\" D'Ignazio and Klein argue that ethics must be at the center of data collection and analysis. They argue that data must be collected and analyzed in ways that are respectful, responsible, and just.\n",
    "\n",
    "* \"Data feminism is a call to action.\" The authors conclude by emphasizing that data feminism is a call to action. They argue that data collection and analysis must be used in ways that promote social justice and challenge existing power structures. They suggest that data feminism offers a framework for doing so.\n",
    "\n",
    "* \"Data feminism is a movement that recognizes the power of data to transform the world.\" D'Ignazio and Klein argue that data feminism is a movement that recognizes the power of data to transform the world. They suggest that by taking a feminist perspective, data can be used to promote social justice, challenge power structures, and create a more just and equitable society."
   ]
  }
 ],
 "metadata": {
  "language_info": {
   "name": "python"
  },
  "orig_nbformat": 4
 },
 "nbformat": 4,
 "nbformat_minor": 2
}

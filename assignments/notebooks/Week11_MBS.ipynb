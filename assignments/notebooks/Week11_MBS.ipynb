{
  "cells": [
    {
      "attachments": {},
      "cell_type": "markdown",
      "metadata": {
        "colab_type": "text",
        "id": "view-in-github"
      },
      "source": [
        "<a href=\"https://colab.research.google.com/github/lmrhody/femethodsS23/blob/main/Week11_notebook_classification.ipynb\" target=\"_parent\"><img src=\"https://colab.research.google.com/assets/colab-badge.svg\" alt=\"Open In Colab\"/></a>"
      ]
    },
    {
      "attachments": {},
      "cell_type": "markdown",
      "metadata": {
        "id": "JA9OTdrH0Un5"
      },
      "source": [
        "# Week 11 Notebook\n",
        "## Supervised Text Classification Algorithms\n",
        "\n",
        "Name: Michael Smith\n",
        "\n",
        "Date:\n",
        "\n",
        "Class:\n"
      ]
    },
    {
      "attachments": {},
      "cell_type": "markdown",
      "metadata": {
        "id": "n7rJqq-3zsRk"
      },
      "source": [
        "This notebook assignment draws heavily from Chapter 6 of \n",
        "[**Blueprints for Text Analysis Using Python**](https://github.com/blueprints-for-text-analytics-python/blueprints-text)  \n",
        "Jens Albrecht, Sidharth Ramachandran, Christian Winkler. We will be looking at supervised binary and multiclass text classifications. \n",
        "\n",
        "\n",
        "# Chapter 6:<div class='tocSkip'/>"
      ]
    },
    {
      "attachments": {},
      "cell_type": "markdown",
      "metadata": {
        "id": "M-SXU3IozsRn"
      },
      "source": [
        "# How to use classification algorithms to label text into multiple categories"
      ]
    },
    {
      "attachments": {},
      "cell_type": "markdown",
      "metadata": {
        "id": "lCDO5rmczsRn"
      },
      "source": [
        "## Note from the authors of Blueprints<div class='tocSkip'/>\n",
        "\n",
        "The code in this notebook differs slightly from the printed book. For example we frequently use pretty print (`pp.pprint`) instead of `print` and `tqdm`'s `progress_apply` instead of Pandas' `apply`. \n",
        "\n",
        "Moreover, several layout and formatting commands, like `figsize` to control figure size or subplot commands are removed in the book.\n",
        "\n",
        "You may also find some lines marked with three hashes ###. Those are not in the book as well as they don't contribute to the concept.\n",
        "\n",
        "All of this is done to simplify the code in the book and put the focus on the important parts instead of formatting."
      ]
    },
    {
      "attachments": {},
      "cell_type": "markdown",
      "metadata": {
        "id": "SxcKKOOlzsRo"
      },
      "source": [
        "## Setup<div class='tocSkip'/>\n",
        "\n",
        "Set directory locations. If working on Google Colab: copy files and install required libraries."
      ]
    },
    {
      "cell_type": "code",
      "execution_count": 1,
      "metadata": {
        "id": "MZld_MbQzsRo"
      },
      "outputs": [],
      "source": [
        "# suppress warnings\n",
        "import warnings;\n",
        "warnings.filterwarnings('ignore');\n",
        "\n",
        "# common imports\n",
        "import pandas as pd\n",
        "import numpy as np\n",
        "import math\n",
        "import re\n",
        "import glob\n",
        "import os\n",
        "import sys\n",
        "import json\n",
        "import random\n",
        "import pprint as pp\n",
        "import textwrap\n",
        "import sqlite3\n",
        "import logging\n",
        "import gzip\n",
        "import csv\n",
        "\n",
        "import spacy\n",
        "import nltk\n",
        "\n",
        "from tqdm.auto import tqdm\n",
        "# register `pandas.progress_apply` and `pandas.Series.map_apply` with `tqdm`\n",
        "tqdm.pandas()\n",
        "\n",
        "# pandas display options\n",
        "# https://pandas.pydata.org/pandas-docs/stable/user_guide/options.html#available-options\n",
        "pd.options.display.max_columns = 30 # default 20\n",
        "pd.options.display.max_rows = 60 # default 60\n",
        "pd.options.display.float_format = '{:.2f}'.format\n",
        "# pd.options.display.precision = 2\n",
        "pd.options.display.max_colwidth = 200 # default 50; -1 = all\n",
        "# otherwise text between $ signs will be interpreted as formula and printed in italic\n",
        "pd.set_option('display.html.use_mathjax', False)\n",
        "\n",
        "# np.set_printoptions(edgeitems=3) # default 3\n",
        "\n",
        "import matplotlib\n",
        "from matplotlib import pyplot as plt\n",
        "\n",
        "plot_params = {'figure.figsize': (8, 4), \n",
        "               'axes.labelsize': 'large',\n",
        "               'axes.titlesize': 'large',\n",
        "               'xtick.labelsize': 'large',\n",
        "               'ytick.labelsize':'large',\n",
        "               'figure.dpi': 100}\n",
        "# adjust matplotlib defaults\n",
        "matplotlib.rcParams.update(plot_params)\n",
        "\n",
        "import seaborn as sns\n",
        "sns.set_style(\"darkgrid\")"
      ]
    },
    {
      "attachments": {},
      "cell_type": "markdown",
      "metadata": {
        "id": "leeNBe0DzsRp"
      },
      "source": [
        "## Load Python Settings<div class=\"tocSkip\"/>\n"
      ]
    },
    {
      "cell_type": "code",
      "execution_count": 5,
      "metadata": {
        "id": "-eI8BlmZzsRp"
      },
      "outputs": [],
      "source": [
        "# %run \"$BASE_DIR/settings.py\"\n",
        "\n",
        "%reload_ext autoreload\n",
        "%autoreload 2\n",
        "%config InlineBackend.figure_format = 'png'\n",
        "\n",
        "# to print output of all statements and not just the last\n",
        "from IPython.core.interactiveshell import InteractiveShell\n",
        "InteractiveShell.ast_node_interactivity = \"all\"\n",
        "\n",
        "# otherwise text between $ signs will be interpreted as formula and printed in italic\n",
        "pd.set_option('display.html.use_mathjax', False)\n",
        "\n",
        "# path to import blueprints packages\n",
        "sys.path.append('/packages')"
      ]
    },
    {
      "cell_type": "code",
      "execution_count": 2,
      "metadata": {
        "id": "0-QO194wzsRq"
      },
      "outputs": [],
      "source": [
        "import matplotlib.pyplot as plt\n",
        "import html \n",
        "import re\n",
        "from sklearn.model_selection import train_test_split\n",
        "from sklearn.feature_extraction.text import TfidfVectorizer\n",
        "from sklearn.svm import SVC\n",
        "from sklearn.metrics import accuracy_score\n",
        "from sklearn.metrics import confusion_matrix\n",
        "from sklearn.metrics import classification_report\n",
        "## Depracated:\n",
        "# from sklearn.metrics import plot_confusion_matrix\n",
        "## New version:\n",
        "from sklearn.metrics import ConfusionMatrixDisplay\n",
        "from sklearn.model_selection import cross_val_score\n",
        "from sklearn.pipeline import Pipeline\n",
        "from sklearn.model_selection import GridSearchCV\n",
        "from sklearn.svm import LinearSVC\n",
        "from sklearn.dummy import DummyClassifier\n",
        "# from blueprints.preparation import clean"
      ]
    },
    {
      "cell_type": "code",
      "execution_count": 3,
      "metadata": {},
      "outputs": [],
      "source": [
        "import re\n",
        "import html\n",
        "import pandas as pd\n",
        "import spacy    \n",
        "from spacy.tokens import Token, Span\n",
        "\n",
        "def clean(text):\n",
        "    # convert html escapes like &amp; to characters.\n",
        "    text = html.unescape(text) \n",
        "    # tags like <tab>\n",
        "    text = re.sub(r'<[^<>]*>', ' ', text)\n",
        "    # markdown URLs like [Some text](https://....)\n",
        "    text = re.sub(r'\\[([^\\[\\]]*)\\]\\([^\\(\\)]*\\)', r'\\1', text)\n",
        "    # text or code in brackets like [0]\n",
        "    text = re.sub(r'\\[[^\\[\\]]*\\]', ' ', text)\n",
        "    # standalone sequences of specials, matches &# but not #cool\n",
        "    text = re.sub(r'(?:^|\\s)[&#<>{}\\[\\]+|\\\\:-]{1,}(?:\\s|$)', ' ', text)\n",
        "    # standalone sequences of hyphens like --- or ==\n",
        "    text = re.sub(r'(?:^|\\s)[\\-=\\+]{2,}(?:\\s|$)', ' ', text)\n",
        "    # sequences of white spaces\n",
        "    text = re.sub(r'\\s+', ' ', text)\n",
        "    return text.strip()\n",
        "    \n",
        "\n",
        "def display_nlp(doc, include_punct=False):\n",
        "    \"\"\"Generate data frame for visualization of spaCy tokens.\"\"\"\n",
        "    rows = []\n",
        "    for i, t in enumerate(doc):\n",
        "        if not t.is_punct or include_punct:\n",
        "            row = {'token': i,  'text': t.text, 'lemma_': t.lemma_, \n",
        "                   'is_stop': t.is_stop, 'is_alpha': t.is_alpha,\n",
        "                   'pos_': t.pos_, 'dep_': t.dep_, \n",
        "                   'ent_type_': t.ent_type_, 'ent_iob_': t.ent_iob_}\n",
        "            rows.append(row)\n",
        "    \n",
        "    df = pd.DataFrame(rows).set_index('token')\n",
        "    df.index.name = None\n",
        "    return df\n"
      ]
    },
    {
      "attachments": {},
      "cell_type": "markdown",
      "metadata": {
        "id": "E_c0RQePzsRq"
      },
      "source": [
        "## What you'll learn and what we will build\n",
        "This notebook will work through the three fundamental stages of doing supervised machine learning and classification analysis with text. Supervised learning means that we have a dataset with accurate labels to work from, and that we train the model using about 80% of the dataset as \"training\" data. Then, we test the accuracy of the model on a remaining subset of data (typically about 20% or less). We can validate the model if we have labels for the testing dataset. We're going to learn how to take a dataset and divide it into training and testing sets, to validate the model by evaluating its accuracy, and then applying cross-validation techniques. "
      ]
    },
    {
      "attachments": {},
      "cell_type": "markdown",
      "metadata": {
        "id": "4D8IVtZ8zsRr"
      },
      "source": [
        "# Introducing the Java Development Tools Bug Dataset\n",
        "The dataset that we're going to use is a set of bug reports about Java Development Tools. The first classification study will be to see if we can differentiate high priority bug reports from lower priority bug reports. Then, we'll try to classify different types of bug reports. Finally, we'll try to identify what features the bug reports are referring to in order to direct it to the appropriate person for fixing. \n",
        "\n",
        "We'll need to import the dataset in the cell below. Then we'll read it in as a csv file and convert it to a Pandas dataframe. To help us understand the way that the data is organized, we'll print out the labels (column headings), and then pull out of the dataframe two random entries. "
      ]
    },
    {
      "cell_type": "code",
      "execution_count": 15,
      "metadata": {
        "id": "nojZy27TzsRr"
      },
      "outputs": [
        {
          "name": "stdout",
          "output_type": "stream",
          "text": [
            "Index(['Issue_id', 'Priority', 'Component', 'Duplicated_issue', 'Title',\n",
            "       'Description', 'Status', 'Resolution', 'Version', 'Created_time',\n",
            "       'Resolved_time'],\n",
            "      dtype='object')\n"
          ]
        },
        {
          "data": {
            "text/html": [
              "<div>\n",
              "<style scoped>\n",
              "    .dataframe tbody tr th:only-of-type {\n",
              "        vertical-align: middle;\n",
              "    }\n",
              "\n",
              "    .dataframe tbody tr th {\n",
              "        vertical-align: top;\n",
              "    }\n",
              "\n",
              "    .dataframe thead th {\n",
              "        text-align: right;\n",
              "    }\n",
              "</style>\n",
              "<table border=\"1\" class=\"dataframe tex2jax_ignore\">\n",
              "  <thead>\n",
              "    <tr style=\"text-align: right;\">\n",
              "      <th></th>\n",
              "      <th>Issue_id</th>\n",
              "      <th>Priority</th>\n",
              "      <th>Component</th>\n",
              "      <th>Title</th>\n",
              "      <th>Description</th>\n",
              "    </tr>\n",
              "  </thead>\n",
              "  <tbody>\n",
              "    <tr>\n",
              "      <th>38438</th>\n",
              "      <td>239715</td>\n",
              "      <td>P3</td>\n",
              "      <td>UI</td>\n",
              "      <td>No property tester for TestCaseElement for property projectNature</td>\n",
              "      <td>I20080613-2000; ; Not sure if this belongs to JDT/Debug or Platform/Debug.; ; I saw this error message several times today in my error log but Im not yet sure how to reproduce it.; ; -- Error Deta...</td>\n",
              "    </tr>\n",
              "    <tr>\n",
              "      <th>44129</th>\n",
              "      <td>395007</td>\n",
              "      <td>P3</td>\n",
              "      <td>UI</td>\n",
              "      <td>[package explorer] Refresh action not available on Java package folders</td>\n",
              "      <td>M3.; ; F5 (Refresh) is available as a context menu entry for ordinary source folders but not for Java package folders in the e4 Java Package explorer.; ; Please restore the 3.x functionality.</td>\n",
              "    </tr>\n",
              "  </tbody>\n",
              "</table>\n",
              "</div>"
            ],
            "text/plain": [
              "       Issue_id Priority Component   \n",
              "38438    239715       P3        UI  \\\n",
              "44129    395007       P3        UI   \n",
              "\n",
              "                                                                         Title   \n",
              "38438        No property tester for TestCaseElement for property projectNature  \\\n",
              "44129  [package explorer] Refresh action not available on Java package folders   \n",
              "\n",
              "                                                                                                                                                                                                   Description  \n",
              "38438  I20080613-2000; ; Not sure if this belongs to JDT/Debug or Platform/Debug.; ; I saw this error message several times today in my error log but Im not yet sure how to reproduce it.; ; -- Error Deta...  \n",
              "44129          M3.; ; F5 (Refresh) is available as a context menu entry for ordinary source folders but not for Java package folders in the e4 Java Package explorer.; ; Please restore the 3.x functionality.  "
            ]
          },
          "execution_count": 15,
          "metadata": {},
          "output_type": "execute_result"
        }
      ],
      "source": [
        "file = \"eclipse_jdt.csv\"\n",
        "file = f\"data/jdt-bugs-dataset/eclipse_jdt.csv.gz\" ### real location\n",
        "df = pd.read_csv(file)\n",
        "print (df.columns)\n",
        "df[['Issue_id','Priority','Component','Title','Description']].sample(2, random_state=42)"
      ]
    },
    {
      "attachments": {},
      "cell_type": "markdown",
      "metadata": {
        "id": "eS5JoM59wkMm"
      },
      "source": [
        "## Sample data \n",
        "We're going to remove bug reports from the dataset that have been identified as Duplicate issues. In other words, the issue was already discovered and described elsewhere. If we were trying to do summary statistics about the total number of bugs or the rate of response, etc. then we might want to remove all the entries that are reported as duplicates. However, our task is about using the text to predict the priority of a bug--not the speed of response. Since *most* issues are not duplicate issues, what we'll find is that the Duplicate Issue will most often have a null value. So, we can remove that attribute of the data without impacting the reliability of our analysis. \n",
        "\n",
        "Take some time to read through a sample from the data. This will help you to better understand what some of the potential problems might be before you start modeling. "
      ]
    },
    {
      "cell_type": "code",
      "execution_count": 16,
      "metadata": {
        "id": "37zn9ztOzsRr"
      },
      "outputs": [
        {
          "data": {
            "text/html": [
              "<div>\n",
              "<style scoped>\n",
              "    .dataframe tbody tr th:only-of-type {\n",
              "        vertical-align: middle;\n",
              "    }\n",
              "\n",
              "    .dataframe tbody tr th {\n",
              "        vertical-align: top;\n",
              "    }\n",
              "\n",
              "    .dataframe thead th {\n",
              "        text-align: right;\n",
              "    }\n",
              "</style>\n",
              "<table border=\"1\" class=\"dataframe tex2jax_ignore\">\n",
              "  <thead>\n",
              "    <tr style=\"text-align: right;\">\n",
              "      <th></th>\n",
              "      <th>11811</th>\n",
              "    </tr>\n",
              "  </thead>\n",
              "  <tbody>\n",
              "    <tr>\n",
              "      <th>Issue_id</th>\n",
              "      <td>33113</td>\n",
              "    </tr>\n",
              "    <tr>\n",
              "      <th>Priority</th>\n",
              "      <td>P3</td>\n",
              "    </tr>\n",
              "    <tr>\n",
              "      <th>Component</th>\n",
              "      <td>Debug</td>\n",
              "    </tr>\n",
              "    <tr>\n",
              "      <th>Title</th>\n",
              "      <td>Evaluating for loop suspends in URLClassLoader</td>\n",
              "    </tr>\n",
              "    <tr>\n",
              "      <th>Description</th>\n",
              "      <td>Debug to a breakpoint in some HelloWorld program.  In the DisplayView; highlight and ; Display the following code snippet:; ; for (int i = 0; i &lt; 10; i++) {;     System.out.println(i);; }; ; Instead of just reporting No explicit return value; the debugger suspends in the ; URLClassLoader; apparently trying to load the class int.  You have hit Resume several ; more times before the evaluation completes.  The DebugView does not indicate why it ; has stopped (the thread is just labelled Evaluating).  This behavior does not happen if ; you turn of the Suspend on uncaught exceptions preference.</td>\n",
              "    </tr>\n",
              "    <tr>\n",
              "      <th>Status</th>\n",
              "      <td>VERIFIED</td>\n",
              "    </tr>\n",
              "    <tr>\n",
              "      <th>Resolution</th>\n",
              "      <td>FIXED</td>\n",
              "    </tr>\n",
              "    <tr>\n",
              "      <th>Version</th>\n",
              "      <td>2.1</td>\n",
              "    </tr>\n",
              "    <tr>\n",
              "      <th>Created_time</th>\n",
              "      <td>2003-02-25 15:40:00 -0500</td>\n",
              "    </tr>\n",
              "    <tr>\n",
              "      <th>Resolved_time</th>\n",
              "      <td>2003-03-05 17:11:17 -0500</td>\n",
              "    </tr>\n",
              "  </tbody>\n",
              "</table>\n",
              "</div>"
            ],
            "text/plain": [
              "                                                                                                                                                                                                                                                                                                                                                                                                                                                                                                                                                                                                                              11811\n",
              "Issue_id                                                                                                                                                                                                                                                                                                                                                                                                                                                                                                                                                                                                                      33113\n",
              "Priority                                                                                                                                                                                                                                                                                                                                                                                                                                                                                                                                                                                                                         P3\n",
              "Component                                                                                                                                                                                                                                                                                                                                                                                                                                                                                                                                                                                                                     Debug\n",
              "Title                                                                                                                                                                                                                                                                                                                                                                                                                                                                                                                                                                                Evaluating for loop suspends in URLClassLoader\n",
              "Description    Debug to a breakpoint in some HelloWorld program.  In the DisplayView; highlight and ; Display the following code snippet:; ; for (int i = 0; i < 10; i++) {;     System.out.println(i);; }; ; Instead of just reporting No explicit return value; the debugger suspends in the ; URLClassLoader; apparently trying to load the class int.  You have hit Resume several ; more times before the evaluation completes.  The DebugView does not indicate why it ; has stopped (the thread is just labelled Evaluating).  This behavior does not happen if ; you turn of the Suspend on uncaught exceptions preference.\n",
              "Status                                                                                                                                                                                                                                                                                                                                                                                                                                                                                                                                                                                                                     VERIFIED\n",
              "Resolution                                                                                                                                                                                                                                                                                                                                                                                                                                                                                                                                                                                                                    FIXED\n",
              "Version                                                                                                                                                                                                                                                                                                                                                                                                                                                                                                                                                                                                                         2.1\n",
              "Created_time                                                                                                                                                                                                                                                                                                                                                                                                                                                                                                                                                                                              2003-02-25 15:40:00 -0500\n",
              "Resolved_time                                                                                                                                                                                                                                                                                                                                                                                                                                                                                                                                                                                             2003-03-05 17:11:17 -0500"
            ]
          },
          "execution_count": 16,
          "metadata": {},
          "output_type": "execute_result"
        }
      ],
      "source": [
        "# we want to thin the dataset out by removing duplicates.  \n",
        "\n",
        "### df = df.drop(columns=['Duplicated_issue']) - old code ###\n",
        "df = df.drop(columns=['Duplicated_issue'], axis=1)\n",
        "pd.set_option('display.max_colwidth', None)\n",
        "df.sample(n=1, random_state=123).T"
      ]
    },
    {
      "cell_type": "code",
      "execution_count": 17,
      "metadata": {
        "id": "h13u4xGNqag3"
      },
      "outputs": [
        {
          "data": {
            "text/plain": [
              "(45296, 10)"
            ]
          },
          "execution_count": 17,
          "metadata": {},
          "output_type": "execute_result"
        }
      ],
      "source": [
        "## Let's see how big the dataset is. Shape tells us the number of rows and columns\n",
        "df.shape"
      ]
    },
    {
      "cell_type": "code",
      "execution_count": 18,
      "metadata": {
        "id": "LCmsbi4zqrwB"
      },
      "outputs": [
        {
          "data": {
            "text/plain": [
              "Priority\n",
              "P3    39716\n",
              "P2     3063\n",
              "P4     1143\n",
              "P1     1122\n",
              "P5      252\n",
              "Name: count, dtype: int64"
            ]
          },
          "execution_count": 18,
          "metadata": {},
          "output_type": "execute_result"
        }
      ],
      "source": [
        "# Let's do some summary statistics of the dataset as we're getting started\n",
        "# so that we have a better understanding of how many of each category there is.\n",
        "df['Priority'].value_counts()"
      ]
    },
    {
      "cell_type": "code",
      "execution_count": 19,
      "metadata": {
        "id": "u5yBCyMYzsRs"
      },
      "outputs": [
        {
          "data": {
            "text/plain": [
              "<Axes: xlabel='Priority'>"
            ]
          },
          "execution_count": 19,
          "metadata": {},
          "output_type": "execute_result"
        },
        {
          "data": {
            "image/png": "[encoded data removed]",
            "text/plain": [
              "<Figure size 800x400 with 1 Axes>"
            ]
          },
          "metadata": {},
          "output_type": "display_data"
        }
      ],
      "source": [
        "# It's not always easy to understand how much of a difference there is\n",
        "# in terms of the amount of data that we're working with, so sometimes\n",
        "# creating a histogram is helpful for getting a better sense of the proportions\n",
        "df['Priority'].value_counts().sort_index().plot(kind='bar')"
      ]
    },
    {
      "cell_type": "code",
      "execution_count": 20,
      "metadata": {
        "id": "u0OtDaS-zsRs"
      },
      "outputs": [
        {
          "data": {
            "text/plain": [
              "Component\n",
              "UI       17479\n",
              "Core     13669\n",
              "Debug     7542\n",
              "Text      5901\n",
              "APT        406\n",
              "Doc        299\n",
              "Name: count, dtype: int64"
            ]
          },
          "execution_count": 20,
          "metadata": {},
          "output_type": "execute_result"
        }
      ],
      "source": [
        "# Later on, we'll be looking at the prediction of which component is\n",
        "# involved in the bug report, so let's do some summary statistics of that.\n",
        "df['Component'].value_counts()"
      ]
    },
    {
      "cell_type": "code",
      "execution_count": 21,
      "metadata": {
        "id": "ReL0nRtYuroZ"
      },
      "outputs": [
        {
          "data": {
            "text/plain": [
              "<Axes: xlabel='Component'>"
            ]
          },
          "execution_count": 21,
          "metadata": {},
          "output_type": "execute_result"
        },
        {
          "data": {
            "image/png": "[encoded data removed]",
            "text/plain": [
              "<Figure size 800x400 with 1 Axes>"
            ]
          },
          "metadata": {},
          "output_type": "display_data"
        }
      ],
      "source": [
        "# While you can see from the summary statistics that APT and Doc are relatively\n",
        "# fewer in number than other issues, one of the first things we notice is that \n",
        "# User Interface (UI) issues are most commonly the ones reported, followed by \n",
        "# bugs in the core functionality. \n",
        "df['Component'].value_counts().sort_index().plot(kind='bar')"
      ]
    },
    {
      "cell_type": "code",
      "execution_count": 22,
      "metadata": {
        "id": "hwWnjMV7tRRr"
      },
      "outputs": [
        {
          "data": {
            "text/plain": [
              "Status\n",
              "RESOLVED    28511\n",
              "VERIFIED    14580\n",
              "CLOSED       2205\n",
              "Name: count, dtype: int64"
            ]
          },
          "execution_count": 22,
          "metadata": {},
          "output_type": "execute_result"
        }
      ],
      "source": [
        "# This activity does not predict the status of the bug based on the text\n",
        "# It's good practice to just try to understand the data that you're working with\n",
        "# But it might be helpful to think about WHY it might not be worth the time trying\n",
        "# to predict status based on the text. Or would it be worth it?\n",
        "\n",
        "df['Status'].value_counts()"
      ]
    },
    {
      "cell_type": "code",
      "execution_count": 23,
      "metadata": {
        "id": "LyvuAPvZtVlt"
      },
      "outputs": [
        {
          "data": {
            "text/plain": [
              "Resolution\n",
              "FIXED          22750\n",
              "DUPLICATE       7688\n",
              "WONTFIX         5126\n",
              "WORKSFORME      5094\n",
              "INVALID         3117\n",
              "NDUPLICATE      1248\n",
              "NOT_ECLIPSE      273\n",
              "Name: count, dtype: int64"
            ]
          },
          "execution_count": 23,
          "metadata": {},
          "output_type": "execute_result"
        }
      ],
      "source": [
        "# Again, we don't test for the resolution classification of a bug. \n",
        "# But as you go through the supervised learning activities, would this be a\n",
        "# category worth testing? Why or why not?\n",
        "df['Resolution'].value_counts()"
      ]
    },
    {
      "attachments": {},
      "cell_type": "markdown",
      "metadata": {
        "id": "0xxY4wTjz_M5"
      },
      "source": [
        "## Question: \n",
        "These are not the only questions you might want to ask of yourself or of the dataset before you get started. What are some of the other questions to ask? \n",
        "\n",
        "Why are 87% of bug reports labeld as P3?\n",
        "Can we predit which bug reports are ones needing addressing based on prior 'Resolution' classifications?\n",
        "\n",
        "\n",
        "\n",
        "Based on what you know already from vectorizing and doing cosine similarities, what kinds of phenomeonon in the data might impact the outcome? \n",
        "\n",
        "At a glance, with 87% of bug reports labeled as P3, which represents the absolute middle, this suggests that the bug is not considered a high priority or a low priority by the submitter. It might also suggest that submitters do not have a clear idea of how to classify the priority of bugs and most often choose the middle to indicate no bias toward priority or their lack of understanding of how to prioritize.\n",
        "\n",
        "What are some of the things that you would recommend we do when preparing the data to a.) improve the accuracy of the model and b.) reduce the computing resources needed to do it? \n",
        "\n",
        "If the goal of the model is to determine bugs that are high priorty versus low priority we might throw out all P3 – no priorty bias – values. This would save significant computing resources looking at only the 13% of bugs that are labeled as P1, P2, P4, or P5.\n"
      ]
    },
    {
      "attachments": {},
      "cell_type": "markdown",
      "metadata": {
        "id": "ZwxVYWO7zsRs"
      },
      "source": [
        "# Blueprint: Building a Text Classification system\n",
        "\n",
        "Ok, now we know a little bit about the dataset that we're working with. We know how many dimensions it has. We know the basic proportions of several features, including Priority, Component, Status, and Resolution. \n",
        "\n",
        "In the next section of the notebook, we're going to work deliberately through three steps in supervised text classification. This is a blueprint or workflow that can be reproduced (with adaptations based on the dataset you're working with) for a variety of other similar kinds of text classification analyses. \n",
        "\n",
        "After we go through building a text classification system in three steps, we'll go back over the process from start to finish as a coherent workflow. \n",
        "\n",
        "## Supervised Learning\n",
        "Text classification is one form of machine learning (ML) that falls under supervised learning. As we learned from reading Meredith Broussard, supervised learning requires that we have a dataset with labeled data points. We use that data and through computational processes that compare features of each observation, the machine develops a prediction as to which features from the data are most likely related to the labels associated with it. The output of the training set is a model. In the model we are about to create, we will use independent text variables, such as title and description to predict the priority or the component associated with it. \n",
        "\n",
        "A supervised machine learning method maps a function from the input to the output based on calculating statistical likelihoods that there is a relationship between variables. That, ultimately, is what we're defining as \"learning.\" \n",
        "\n",
        "Of course, we have to know whether or not the model is reflective of what we would be satisfied to call \"reality\" or \"true.\" Therefore, we divide the process in two components. First, we \"train\" the model, which means we use the largest amount of data and labels so that the computer comes up with predictions of the relationships between the text and the label we assigned to it. Next, we use a smaller subset of the same data to test how accurate the model's predictions are. The more features we add to the model, presumably, the more likely we are to get accurate results. In other words, if we know more than Priority, but also the day of the week that the bug report is submitted or the time of day... by increasing the density of the feature vector (remember from our vectorizing assignments), the idea is that we improve the liklihood that the model \"trained\" will be accurate (which is to say reflected of our expected reality). \n",
        "\n",
        "## How it works\n",
        "During the training phase, we take text documents and their associated labels and we create vectors that both describe the text and include the presence or absence of the labeled features. The computer runs those vectors through statistical processes that calculate the likelihood that relationships between vectors exist. The output is a model that includes various statistical predictions. \n",
        "\n",
        "The next step is that we take new text data and we feed the text vectors--this time without the labels--to the trained model. Then we use the model to output the statistical likelihood that that the text is associated with each of the labels based on what it \"learned\" during the first phase. \n",
        "\n",
        "We can then predict the accuracy with which the model is able to predict the relationship between a text document and a label by comparing the predictions to the actual labels of the tested dataset. \n",
        "\n",
        "## Types of Supervised Text Classification\n",
        "\n",
        "- *Binary Classification* means that based on multiple features text is marked as either having the feature or not having it. For example, whether an email is spam or not spam. (But it can't tell you if that email is one more of those newsletters your friends send out regularly that you simply don't have time to read but that your friend is going to ask you about when you see them next time.... sorry... that one's on you.) \n",
        "\n",
        "- *Multiclass Classification* is when each observation is associated with only one label out of several options. \n",
        "\n",
        "- *Multilabeled Classification* is when each observation ould be assocaited with multiple labels. \n",
        "\n",
        "\n",
        "\n"
      ]
    },
    {
      "attachments": {},
      "cell_type": "markdown",
      "metadata": {
        "id": "VEiCDJZCzsRs"
      },
      "source": [
        "## Step 1 - Data Preparation\n",
        "First, we're going to reduce the number of columns in the statset to just the title, description, and priority. If any of the observations in each of those entries has no data, then we want to remove that entry from the dataset. Then, we want to combine the title and the description text into one lump. That means that the dataframe turns into just 2 columns that are \"priority\" and \"text.\"  "
      ]
    },
    {
      "cell_type": "code",
      "execution_count": 24,
      "metadata": {
        "id": "2U14AYa3zsRs"
      },
      "outputs": [
        {
          "data": {
            "text/plain": [
              "Index(['Priority', 'text'], dtype='object')"
            ]
          },
          "execution_count": 24,
          "metadata": {},
          "output_type": "execute_result"
        }
      ],
      "source": [
        "df = df[['Title','Description','Priority']]\n",
        "df = df.dropna()\n",
        "df['text'] = df['Title'] + ' ' + df['Description']\n",
        "df = df.drop(columns=['Title','Description'])\n",
        "df.columns"
      ]
    },
    {
      "attachments": {},
      "cell_type": "markdown",
      "metadata": {
        "id": "np8lrJbg7s04"
      },
      "source": [
        "We've gone over steps in cleaning data in previous weeks, so we're going to import some of those cleaning processes here to streamline things. Then we're going to only keep the data with a string longer than 50 characters. That's easy to do because there's enough data in the dataset without the smaller documents and the more text there is in the issue the better chance we have of correlating it to an accurate label. "
      ]
    },
    {
      "cell_type": "code",
      "execution_count": 25,
      "metadata": {
        "id": "5D6CNrx6zsRt"
      },
      "outputs": [
        {
          "data": {
            "text/html": [
              "<div>\n",
              "<style scoped>\n",
              "    .dataframe tbody tr th:only-of-type {\n",
              "        vertical-align: middle;\n",
              "    }\n",
              "\n",
              "    .dataframe tbody tr th {\n",
              "        vertical-align: top;\n",
              "    }\n",
              "\n",
              "    .dataframe thead th {\n",
              "        text-align: right;\n",
              "    }\n",
              "</style>\n",
              "<table border=\"1\" class=\"dataframe tex2jax_ignore\">\n",
              "  <thead>\n",
              "    <tr style=\"text-align: right;\">\n",
              "      <th></th>\n",
              "      <th>Priority</th>\n",
              "      <th>text</th>\n",
              "    </tr>\n",
              "  </thead>\n",
              "  <tbody>\n",
              "    <tr>\n",
              "      <th>42439</th>\n",
              "      <td>P3</td>\n",
              "      <td>Regression in TypeHierarchyPerfTest#testOpenObjectHierarchy() I20110329-0800; ; http://download.eclipse.org/eclipse/downloads/drops/I20110329-0800/performance/eplnx2/Scenario415.html; ; The regression can be seen on all platforms.; ; Also TypeHierarchyPerfTest#testOpenCollHierarchy() shows erratic behavior on all platforms.</td>\n",
              "    </tr>\n",
              "    <tr>\n",
              "      <th>30486</th>\n",
              "      <td>P3</td>\n",
              "      <td>introduce indirection: misleading warning about duplicate method 3.2 M5 testing; ; have two classes; Foo and Bar; Foo with method m; refactor introduce indirection on m; warning: duplicate method m in declaring class (ok); change declaring class to Bar; ; the warning is still there; despite that Bar does not contain any methods; expected: the warning goes away as the declaring class is changed</td>\n",
              "    </tr>\n",
              "  </tbody>\n",
              "</table>\n",
              "</div>"
            ],
            "text/plain": [
              "      Priority   \n",
              "42439       P3  \\\n",
              "30486       P3   \n",
              "\n",
              "                                                                                                                                                                                                                                                                                                                                                                                                               text  \n",
              "42439                                                                         Regression in TypeHierarchyPerfTest#testOpenObjectHierarchy() I20110329-0800; ; http://download.eclipse.org/eclipse/downloads/drops/I20110329-0800/performance/eplnx2/Scenario415.html; ; The regression can be seen on all platforms.; ; Also TypeHierarchyPerfTest#testOpenCollHierarchy() shows erratic behavior on all platforms.  \n",
              "30486  introduce indirection: misleading warning about duplicate method 3.2 M5 testing; ; have two classes; Foo and Bar; Foo with method m; refactor introduce indirection on m; warning: duplicate method m in declaring class (ok); change declaring class to Bar; ; the warning is still there; despite that Bar does not contain any methods; expected: the warning goes away as the declaring class is changed  "
            ]
          },
          "execution_count": 25,
          "metadata": {},
          "output_type": "execute_result"
        }
      ],
      "source": [
        "# from blueprints.preparation import clean\n",
        "df['text'] = df['text'].apply(clean)\n",
        "df = df[df['text'].str.len() > 50]\n",
        "df.sample(2, random_state=0)"
      ]
    },
    {
      "attachments": {},
      "cell_type": "markdown",
      "metadata": {
        "id": "Gfkt6kUbzsRt"
      },
      "source": [
        "## Step 2 - Train-Test Split\n",
        "Fortunately, there are packages for machine learning that will help you to divide a dataset into two groups: a larger group to train the model and a smaller set to test it. \n",
        "\n",
        "In the following step, we're creating multiple variables. In other words, we need to split into 80% training data and 20% testing data. We also need to specify which are our independent and our target variables. In this case, \"text\" is our independent variable, because it is the one that can change. The target variable is the one we will ultimately test for. That's why we have an X train (text) and a X test (priority) and a Y train (text) and a Y test (priority). We designate that we want the test_size to be 20% (in decimals) and then we set a random state, which is simply something the computer needs to begin a random selection process. Changing the random state should not change the outcome of the model if the model is accurate; however, if you were to change the random_state variable, you are likely to come up with a different composition of testing and training datasets. Finally, we use `stratify` to make sure that we're selecting proportionately among the various priority labels. At this point, we just want to know if data is a priority or not. We don't want to bias the model by skewing it toward one priority type. (Note: we'll come back to this later). "
      ]
    },
    {
      "cell_type": "code",
      "execution_count": 26,
      "metadata": {
        "id": "j5rv3l5ozsRt"
      },
      "outputs": [
        {
          "name": "stdout",
          "output_type": "stream",
          "text": [
            "Size of Training Data  36040\n",
            "Size of Test Data  9011\n"
          ]
        }
      ],
      "source": [
        "X_train, X_test, Y_train, Y_test = train_test_split(df['text'],\n",
        "                                                    df['Priority'],\n",
        "                                                    test_size=0.2,\n",
        "                                                    random_state=42,\n",
        "                                                    stratify=df['Priority'])\n",
        "\n",
        "print('Size of Training Data ', X_train.shape[0])\n",
        "print('Size of Test Data ', X_test.shape[0])"
      ]
    },
    {
      "attachments": {},
      "cell_type": "markdown",
      "metadata": {
        "id": "Ct1WmrlXzsRt"
      },
      "source": [
        "## Step 3 - Training the machine learning model\n",
        "\n",
        "The next step should be familiar. We need to vectorize the text using the tf-idf vectorizer (which means that we want to make sure that words that appear very frequently and not frequently at all do not skew the model). "
      ]
    },
    {
      "cell_type": "code",
      "execution_count": 27,
      "metadata": {
        "id": "e1VjwXaTzsRt"
      },
      "outputs": [],
      "source": [
        "tfidf = TfidfVectorizer(min_df = 10, ngram_range=(1,2), stop_words=\"english\")\n",
        "X_train_tf = tfidf.fit_transform(X_train)"
      ]
    },
    {
      "attachments": {},
      "cell_type": "markdown",
      "metadata": {
        "id": "Dx8KGDhP-zgR"
      },
      "source": [
        "Then we're going to use \"support vectors\" to train a model. Linear SVM is a very popular text classification algorithm. In this model, the computers uses the relationships between vectors to create a line where there is the greatest separation between two classes. There may be more than one possible line. The algorithm chooses the line that provides the maximum separation between the closest points in two classes. Because the computer needs to know where to start its random process of evaluating vectors, we have to set a `random_state`. The tolerance level is how much room for error we are willing to live with. In this case, it is input in scientific notation, and a much simpler way of indicating 0.00001. \n",
        "\n"
      ]
    },
    {
      "cell_type": "code",
      "execution_count": 28,
      "metadata": {
        "id": "cgppqpz_zsRu"
      },
      "outputs": [
        {
          "data": {
            "text/html": [
              "<style>#sk-container-id-1 {color: black;background-color: white;}#sk-container-id-1 pre{padding: 0;}#sk-container-id-1 div.sk-toggleable {background-color: white;}#sk-container-id-1 label.sk-toggleable__label {cursor: pointer;display: block;width: 100%;margin-bottom: 0;padding: 0.3em;box-sizing: border-box;text-align: center;}#sk-container-id-1 label.sk-toggleable__label-arrow:before {content: \"▸\";float: left;margin-right: 0.25em;color: #696969;}#sk-container-id-1 label.sk-toggleable__label-arrow:hover:before {color: black;}#sk-container-id-1 div.sk-estimator:hover label.sk-toggleable__label-arrow:before {color: black;}#sk-container-id-1 div.sk-toggleable__content {max-height: 0;max-width: 0;overflow: hidden;text-align: left;background-color: #f0f8ff;}#sk-container-id-1 div.sk-toggleable__content pre {margin: 0.2em;color: black;border-radius: 0.25em;background-color: #f0f8ff;}#sk-container-id-1 input.sk-toggleable__control:checked~div.sk-toggleable__content {max-height: 200px;max-width: 100%;overflow: auto;}#sk-container-id-1 input.sk-toggleable__control:checked~label.sk-toggleable__label-arrow:before {content: \"▾\";}#sk-container-id-1 div.sk-estimator input.sk-toggleable__control:checked~label.sk-toggleable__label {background-color: #d4ebff;}#sk-container-id-1 div.sk-label input.sk-toggleable__control:checked~label.sk-toggleable__label {background-color: #d4ebff;}#sk-container-id-1 input.sk-hidden--visually {border: 0;clip: rect(1px 1px 1px 1px);clip: rect(1px, 1px, 1px, 1px);height: 1px;margin: -1px;overflow: hidden;padding: 0;position: absolute;width: 1px;}#sk-container-id-1 div.sk-estimator {font-family: monospace;background-color: #f0f8ff;border: 1px dotted black;border-radius: 0.25em;box-sizing: border-box;margin-bottom: 0.5em;}#sk-container-id-1 div.sk-estimator:hover {background-color: #d4ebff;}#sk-container-id-1 div.sk-parallel-item::after {content: \"\";width: 100%;border-bottom: 1px solid gray;flex-grow: 1;}#sk-container-id-1 div.sk-label:hover label.sk-toggleable__label {background-color: #d4ebff;}#sk-container-id-1 div.sk-serial::before {content: \"\";position: absolute;border-left: 1px solid gray;box-sizing: border-box;top: 0;bottom: 0;left: 50%;z-index: 0;}#sk-container-id-1 div.sk-serial {display: flex;flex-direction: column;align-items: center;background-color: white;padding-right: 0.2em;padding-left: 0.2em;position: relative;}#sk-container-id-1 div.sk-item {position: relative;z-index: 1;}#sk-container-id-1 div.sk-parallel {display: flex;align-items: stretch;justify-content: center;background-color: white;position: relative;}#sk-container-id-1 div.sk-item::before, #sk-container-id-1 div.sk-parallel-item::before {content: \"\";position: absolute;border-left: 1px solid gray;box-sizing: border-box;top: 0;bottom: 0;left: 50%;z-index: -1;}#sk-container-id-1 div.sk-parallel-item {display: flex;flex-direction: column;z-index: 1;position: relative;background-color: white;}#sk-container-id-1 div.sk-parallel-item:first-child::after {align-self: flex-end;width: 50%;}#sk-container-id-1 div.sk-parallel-item:last-child::after {align-self: flex-start;width: 50%;}#sk-container-id-1 div.sk-parallel-item:only-child::after {width: 0;}#sk-container-id-1 div.sk-dashed-wrapped {border: 1px dashed gray;margin: 0 0.4em 0.5em 0.4em;box-sizing: border-box;padding-bottom: 0.4em;background-color: white;}#sk-container-id-1 div.sk-label label {font-family: monospace;font-weight: bold;display: inline-block;line-height: 1.2em;}#sk-container-id-1 div.sk-label-container {text-align: center;}#sk-container-id-1 div.sk-container {/* jupyter's `normalize.less` sets `[hidden] { display: none; }` but bootstrap.min.css set `[hidden] { display: none !important; }` so we also need the `!important` here to be able to override the default hidden behavior on the sphinx rendered scikit-learn.org. See: https://github.com/scikit-learn/scikit-learn/issues/21755 */display: inline-block !important;position: relative;}#sk-container-id-1 div.sk-text-repr-fallback {display: none;}</style><div id=\"sk-container-id-1\" class=\"sk-top-container\"><div class=\"sk-text-repr-fallback\"><pre>LinearSVC(random_state=0, tol=1e-05)</pre><b>In a Jupyter environment, please rerun this cell to show the HTML representation or trust the notebook. <br />On GitHub, the HTML representation is unable to render, please try loading this page with nbviewer.org.</b></div><div class=\"sk-container\" hidden><div class=\"sk-item\"><div class=\"sk-estimator sk-toggleable\"><input class=\"sk-toggleable__control sk-hidden--visually\" id=\"sk-estimator-id-1\" type=\"checkbox\" checked><label for=\"sk-estimator-id-1\" class=\"sk-toggleable__label sk-toggleable__label-arrow\">LinearSVC</label><div class=\"sk-toggleable__content\"><pre>LinearSVC(random_state=0, tol=1e-05)</pre></div></div></div></div></div>"
            ],
            "text/plain": [
              "LinearSVC(random_state=0, tol=1e-05)"
            ]
          },
          "execution_count": 28,
          "metadata": {},
          "output_type": "execute_result"
        }
      ],
      "source": [
        "# The output of the LinearSVC (Lindear Support Vector Classification) is a \n",
        "# model file, which is an object with multiple components. The model itself\n",
        "# isn't instructive or useful until we evaluate it and apply it to tasks.\n",
        "model1 = LinearSVC(random_state=0, tol=1e-5)\n",
        "model1.fit(X_train_tf, Y_train)"
      ]
    },
    {
      "attachments": {},
      "cell_type": "markdown",
      "metadata": {
        "id": "zI-DQR0gzsRu"
      },
      "source": [
        "## Step 4 - Model Evaluation\n",
        "We're going to spend more time thinking about evaluation during the last few weeks of class. It's important to go through these steps and to know what they do. It's impossible to completely separate any of these steps in the process. However, just note that we'll come back to this concept in coming weeks and spend more time on what it means to evaluate and analyze. Suffice it to say, analysis and evaluation are required at every and all stages of the process. "
      ]
    },
    {
      "cell_type": "code",
      "execution_count": 29,
      "metadata": {
        "id": "vCKvYEhUzsRu"
      },
      "outputs": [],
      "source": [
        "# Now we want to take the test dataset and we're going to use it\n",
        "# to evaluate how accurately the model can predict whether text is\n",
        "# associated with a priority or not. Notice we are skipping the fit\n",
        "# step and going straight to vectorizing. In other words, we are not \n",
        "# asking the model to learn new vocabulary. \n",
        "X_test_tf = tfidf.transform(X_test)"
      ]
    },
    {
      "cell_type": "code",
      "execution_count": 30,
      "metadata": {
        "id": "rzCKh7tMzsRu"
      },
      "outputs": [
        {
          "name": "stdout",
          "output_type": "stream",
          "text": [
            "Accuracy Score -  0.8761513705471091\n"
          ]
        }
      ],
      "source": [
        "# We evaluate how well the model did by running the predict method on the X test \n",
        "# sample of data and then compare the predicted values to the actual labels. \n",
        "Y_pred = model1.predict(X_test_tf)\n",
        "print ('Accuracy Score - ', accuracy_score(Y_test, Y_pred))"
      ]
    },
    {
      "attachments": {},
      "cell_type": "markdown",
      "metadata": {
        "id": "QtmGc2dcLHMZ"
      },
      "source": [
        "### Results\n",
        "The accuracy score is a proportion and can be interpreted as a percentage. In other words, there's an 87.6% (give or take) likelihood that the model will be abe to predict whether or not the text is associated with a Priority label. It's a good idea to consider whether or not the accuracy is more or less likely than other methods of estimating. For example, is it better than the odds of tossing a coin and getting it right? (better than 25%) Or, could you roll a dice and get a better likelihood of the right answer? \n",
        "\n",
        "So, one way to do this is to compare the result to something more naive like the DummyClassifier, where the baseline model always predicts the class with the highest frequency or that is \"stratified\" which is to say it makes predictions based on the proportion of labels in the training dataset. "
      ]
    },
    {
      "cell_type": "code",
      "execution_count": 31,
      "metadata": {
        "id": "L-Gz2egszsRu"
      },
      "outputs": [
        {
          "data": {
            "text/html": [
              "<style>#sk-container-id-2 {color: black;background-color: white;}#sk-container-id-2 pre{padding: 0;}#sk-container-id-2 div.sk-toggleable {background-color: white;}#sk-container-id-2 label.sk-toggleable__label {cursor: pointer;display: block;width: 100%;margin-bottom: 0;padding: 0.3em;box-sizing: border-box;text-align: center;}#sk-container-id-2 label.sk-toggleable__label-arrow:before {content: \"▸\";float: left;margin-right: 0.25em;color: #696969;}#sk-container-id-2 label.sk-toggleable__label-arrow:hover:before {color: black;}#sk-container-id-2 div.sk-estimator:hover label.sk-toggleable__label-arrow:before {color: black;}#sk-container-id-2 div.sk-toggleable__content {max-height: 0;max-width: 0;overflow: hidden;text-align: left;background-color: #f0f8ff;}#sk-container-id-2 div.sk-toggleable__content pre {margin: 0.2em;color: black;border-radius: 0.25em;background-color: #f0f8ff;}#sk-container-id-2 input.sk-toggleable__control:checked~div.sk-toggleable__content {max-height: 200px;max-width: 100%;overflow: auto;}#sk-container-id-2 input.sk-toggleable__control:checked~label.sk-toggleable__label-arrow:before {content: \"▾\";}#sk-container-id-2 div.sk-estimator input.sk-toggleable__control:checked~label.sk-toggleable__label {background-color: #d4ebff;}#sk-container-id-2 div.sk-label input.sk-toggleable__control:checked~label.sk-toggleable__label {background-color: #d4ebff;}#sk-container-id-2 input.sk-hidden--visually {border: 0;clip: rect(1px 1px 1px 1px);clip: rect(1px, 1px, 1px, 1px);height: 1px;margin: -1px;overflow: hidden;padding: 0;position: absolute;width: 1px;}#sk-container-id-2 div.sk-estimator {font-family: monospace;background-color: #f0f8ff;border: 1px dotted black;border-radius: 0.25em;box-sizing: border-box;margin-bottom: 0.5em;}#sk-container-id-2 div.sk-estimator:hover {background-color: #d4ebff;}#sk-container-id-2 div.sk-parallel-item::after {content: \"\";width: 100%;border-bottom: 1px solid gray;flex-grow: 1;}#sk-container-id-2 div.sk-label:hover label.sk-toggleable__label {background-color: #d4ebff;}#sk-container-id-2 div.sk-serial::before {content: \"\";position: absolute;border-left: 1px solid gray;box-sizing: border-box;top: 0;bottom: 0;left: 50%;z-index: 0;}#sk-container-id-2 div.sk-serial {display: flex;flex-direction: column;align-items: center;background-color: white;padding-right: 0.2em;padding-left: 0.2em;position: relative;}#sk-container-id-2 div.sk-item {position: relative;z-index: 1;}#sk-container-id-2 div.sk-parallel {display: flex;align-items: stretch;justify-content: center;background-color: white;position: relative;}#sk-container-id-2 div.sk-item::before, #sk-container-id-2 div.sk-parallel-item::before {content: \"\";position: absolute;border-left: 1px solid gray;box-sizing: border-box;top: 0;bottom: 0;left: 50%;z-index: -1;}#sk-container-id-2 div.sk-parallel-item {display: flex;flex-direction: column;z-index: 1;position: relative;background-color: white;}#sk-container-id-2 div.sk-parallel-item:first-child::after {align-self: flex-end;width: 50%;}#sk-container-id-2 div.sk-parallel-item:last-child::after {align-self: flex-start;width: 50%;}#sk-container-id-2 div.sk-parallel-item:only-child::after {width: 0;}#sk-container-id-2 div.sk-dashed-wrapped {border: 1px dashed gray;margin: 0 0.4em 0.5em 0.4em;box-sizing: border-box;padding-bottom: 0.4em;background-color: white;}#sk-container-id-2 div.sk-label label {font-family: monospace;font-weight: bold;display: inline-block;line-height: 1.2em;}#sk-container-id-2 div.sk-label-container {text-align: center;}#sk-container-id-2 div.sk-container {/* jupyter's `normalize.less` sets `[hidden] { display: none; }` but bootstrap.min.css set `[hidden] { display: none !important; }` so we also need the `!important` here to be able to override the default hidden behavior on the sphinx rendered scikit-learn.org. See: https://github.com/scikit-learn/scikit-learn/issues/21755 */display: inline-block !important;position: relative;}#sk-container-id-2 div.sk-text-repr-fallback {display: none;}</style><div id=\"sk-container-id-2\" class=\"sk-top-container\"><div class=\"sk-text-repr-fallback\"><pre>DummyClassifier(random_state=42, strategy=&#x27;most_frequent&#x27;)</pre><b>In a Jupyter environment, please rerun this cell to show the HTML representation or trust the notebook. <br />On GitHub, the HTML representation is unable to render, please try loading this page with nbviewer.org.</b></div><div class=\"sk-container\" hidden><div class=\"sk-item\"><div class=\"sk-estimator sk-toggleable\"><input class=\"sk-toggleable__control sk-hidden--visually\" id=\"sk-estimator-id-2\" type=\"checkbox\" checked><label for=\"sk-estimator-id-2\" class=\"sk-toggleable__label sk-toggleable__label-arrow\">DummyClassifier</label><div class=\"sk-toggleable__content\"><pre>DummyClassifier(random_state=42, strategy=&#x27;most_frequent&#x27;)</pre></div></div></div></div></div>"
            ],
            "text/plain": [
              "DummyClassifier(random_state=42, strategy='most_frequent')"
            ]
          },
          "execution_count": 31,
          "metadata": {},
          "output_type": "execute_result"
        },
        {
          "name": "stdout",
          "output_type": "stream",
          "text": [
            "Accuracy Score -  0.8769281988680502\n"
          ]
        }
      ],
      "source": [
        "clf = DummyClassifier(strategy='most_frequent', random_state=42)\n",
        "clf.fit(X_train, Y_train)\n",
        "Y_pred_baseline = clf.predict(X_test)\n",
        "print ('Accuracy Score - ', accuracy_score(Y_test, Y_pred_baseline))"
      ]
    },
    {
      "attachments": {},
      "cell_type": "markdown",
      "metadata": {
        "id": "adn-JloqMg76"
      },
      "source": [
        "Uh oh. Hold on a second... what we discover when we do this is that the trained model isn't actually predicting based on what we imagined to be other features. In other words, the model is accurate as often as if we assigned all the text with the P3 class... We might also want to go in and imagine how well the model is performing depending on the various priority levels. \n",
        "\n",
        "To do that, we can build something called a *confusion matrix*. In a [confusion matrix](https://towardsdatascience.com/understanding-confusion-matrix-a9ad42dcfd62), we compare the actual values with the predicted values. \n",
        "\n",
        "\n"
      ]
    },
    {
      "attachments": {},
      "cell_type": "markdown",
      "metadata": {
        "id": "JdCb0epqNpFV"
      },
      "source": [
        "\n",
        "In this case, the actual values are Priority P3 and Not P3 (P1+P2+P4+P5). The Predicted values are also Priority P3 and Not P3 (P1+P2+P4+P5). \n",
        "\n",
        "* True positive: the actual label and the predicted label P3 are both correct. \n",
        "* False positive: assigning text to any label that is not P3 is correct. \n",
        "* False negative: The number of times the text was predicted to be not P3 but in reality it was P3.  \n",
        "* True negative: The number of times the model precicts correctly that the text is not P3. \n",
        "\n"
      ]
    },
    {
      "attachments": {},
      "cell_type": "markdown",
      "metadata": {
        "id": "Qj2J_cYRzsRu"
      },
      "source": [
        "### Precision and Recall\n",
        "What makes a confusion matrix useful is that we can use this matrix of numbers to measure the proportion of predicted positives that were actually positive, which is another measure of how accurate the predictions are. \n",
        "\n",
        "Precision is the number of times the model correctly predicts a variable to be in a category, divided by the total number of accurate predictions. \n",
        "\n",
        "Recall is the number of times that the model makes the right class assignment (true positive) divided by the number of times it is completely correct and completely incorrect (True positive + false negative). \n"
      ]
    },
    {
      "cell_type": "code",
      "execution_count": 32,
      "metadata": {
        "id": "CN1OVs1DzsRv"
      },
      "outputs": [
        {
          "data": {
            "text/plain": [
              "array([[  19,    1,  199,    4,    0],\n",
              "       [   6,   18,  576,    8,    0],\n",
              "       [   8,   48, 7827,   19,    0],\n",
              "       [   0,    5,  192,   31,    0],\n",
              "       [   0,    0,   50,    0,    0]])"
            ]
          },
          "execution_count": 32,
          "metadata": {},
          "output_type": "execute_result"
        }
      ],
      "source": [
        "Y_pred = model1.predict(X_test_tf)\n",
        "confusion_matrix(Y_test, Y_pred)"
      ]
    },
    {
      "attachments": {},
      "cell_type": "markdown",
      "metadata": {
        "id": "T9amY1qFRdk2"
      },
      "source": [
        "The problem is that we're not just testing for one label. We've got a multi-class question. There's not just one priority label. There are 5, and they are not equally represented in the data. So, while the model correctly predicts that there is a high priority for P3, it does not differentiate between classes of priority. "
      ]
    },
    {
      "cell_type": "code",
      "execution_count": 33,
      "metadata": {
        "id": "r5_amFTwzsRv"
      },
      "outputs": [
        {
          "data": {
            "text/plain": [
              "<sklearn.metrics._plot.confusion_matrix.ConfusionMatrixDisplay at 0x28ca7b3a0>"
            ]
          },
          "execution_count": 33,
          "metadata": {},
          "output_type": "execute_result"
        },
        {
          "data": {
            "image/png": "[encoded data removed]",
            "text/plain": [
              "<Figure size 800x400 with 2 Axes>"
            ]
          },
          "metadata": {},
          "output_type": "display_data"
        }
      ],
      "source": [
        "## Old code:\n",
        "\n",
        "# plot_confusion_matrix(model1,X_test_tf,\n",
        "#                       Y_test, values_format='d',\n",
        "#                       cmap=plt.cm.Blues)\n",
        "# plt.show()\n",
        "\n",
        "## New code:\n",
        "\n",
        "cm = confusion_matrix(Y_test, Y_pred)\n",
        "disp = ConfusionMatrixDisplay(confusion_matrix=cm, display_labels = model1.classes_)\n",
        "disp.plot()\n",
        "plt.show()"
      ]
    },
    {
      "cell_type": "code",
      "execution_count": 34,
      "metadata": {
        "id": "0h3Y0SYZzsRv"
      },
      "outputs": [
        {
          "name": "stdout",
          "output_type": "stream",
          "text": [
            "              precision    recall  f1-score   support\n",
            "\n",
            "          P1       0.58      0.09      0.15       223\n",
            "          P2       0.25      0.03      0.05       608\n",
            "          P3       0.89      0.99      0.93      7902\n",
            "          P4       0.50      0.14      0.21       228\n",
            "          P5       0.00      0.00      0.00        50\n",
            "\n",
            "    accuracy                           0.88      9011\n",
            "   macro avg       0.44      0.25      0.27      9011\n",
            "weighted avg       0.82      0.88      0.83      9011\n",
            "\n"
          ]
        }
      ],
      "source": [
        "print(classification_report(Y_test, Y_pred))"
      ]
    },
    {
      "attachments": {},
      "cell_type": "markdown",
      "metadata": {
        "id": "I8HyL1lJzsRv"
      },
      "source": [
        "### Class Imbalance\n",
        "Ultimately, the challenge is that the dataset has a much higher proportion of data labeled P3 than any other label. This is going to skew the predictions, because the most likely label is often the most frequent label. But frequency is only one feature out of many. \n",
        "\n",
        "Feature engineering includes figuring out how to adjust the input into the model to better reflect what you want it to focus on. So, for example, if we want it to consider that P3 is common, but not completely determine the model based on frequency, then we could choose to either adjust down the amount of P3 labeled data that we include in the model--called *downsampling*, or inversely, we could increase the amount of data with other labels (*upsampling). \n",
        "\n",
        "For our example, we're going to bring the amount of P3 data down so that it remains the largest category, but it is not purely size that will determine the model's output. When we downsample, we are losing information. If your dataset is already small, this may not be the best choice. If you are upsampling, then you are adding or repeating existing data. That will also impact data quality and lead to compromise. \n",
        "\n"
      ]
    },
    {
      "cell_type": "code",
      "execution_count": 35,
      "metadata": {
        "id": "ubHg4vUozsRv"
      },
      "outputs": [
        {
          "data": {
            "text/plain": [
              "Priority\n",
              "P3    4000\n",
              "P2    3038\n",
              "P4    1138\n",
              "P1    1117\n",
              "P5     252\n",
              "Name: count, dtype: int64"
            ]
          },
          "execution_count": 35,
          "metadata": {},
          "output_type": "execute_result"
        }
      ],
      "source": [
        "# Filter bug reports with priority P3 and sample 4000 rows from it\n",
        "df_sampleP3 = df[df['Priority'] == 'P3'].sample(n=4000, random_state=123)\n",
        "\n",
        "# Create a separate dataframe containing all other bug reports\n",
        "df_sampleRest = df[df['Priority'] != 'P3']\n",
        "\n",
        "# Concatenate the two dataframes to create the new balanced bug reports dataset\n",
        "df_balanced = pd.concat([df_sampleRest, df_sampleP3])\n",
        "\n",
        "# Check the status of the class imbalance\n",
        "df_balanced['Priority'].value_counts()"
      ]
    },
    {
      "attachments": {},
      "cell_type": "markdown",
      "metadata": {
        "id": "ZL-hPHlJzsRv"
      },
      "source": [
        "# Final Blueprint for Text Classification\n",
        "\n",
        "Ok, so now that we've done each of these steps one time, let's go back and start the process over making adjustments to our model to reflect what we've learned about the data. We're going to turn this into a multiclass classification model. We've downsampled data labeled P3 so that frequency is not overdetermining the result. \n",
        "\n",
        "Despite the fact that the first model had a very high \"accuracy\" score, what we realized is that it wasn't actually a good model because it wasn't doing anything more than identifying all data as likely to be associated with the most frequent label. \n",
        "\n",
        "Now, we're going to try to create a new model that can predict whether an issue is a priority based on which of the labels it is most likely to be associated with. "
      ]
    },
    {
      "cell_type": "code",
      "execution_count": 36,
      "metadata": {
        "id": "l-w6QIeAzsRw"
      },
      "outputs": [
        {
          "name": "stdout",
          "output_type": "stream",
          "text": [
            "Size of Training Data  7636\n",
            "Size of Test Data  1909\n"
          ]
        },
        {
          "data": {
            "text/html": [
              "<style>#sk-container-id-3 {color: black;background-color: white;}#sk-container-id-3 pre{padding: 0;}#sk-container-id-3 div.sk-toggleable {background-color: white;}#sk-container-id-3 label.sk-toggleable__label {cursor: pointer;display: block;width: 100%;margin-bottom: 0;padding: 0.3em;box-sizing: border-box;text-align: center;}#sk-container-id-3 label.sk-toggleable__label-arrow:before {content: \"▸\";float: left;margin-right: 0.25em;color: #696969;}#sk-container-id-3 label.sk-toggleable__label-arrow:hover:before {color: black;}#sk-container-id-3 div.sk-estimator:hover label.sk-toggleable__label-arrow:before {color: black;}#sk-container-id-3 div.sk-toggleable__content {max-height: 0;max-width: 0;overflow: hidden;text-align: left;background-color: #f0f8ff;}#sk-container-id-3 div.sk-toggleable__content pre {margin: 0.2em;color: black;border-radius: 0.25em;background-color: #f0f8ff;}#sk-container-id-3 input.sk-toggleable__control:checked~div.sk-toggleable__content {max-height: 200px;max-width: 100%;overflow: auto;}#sk-container-id-3 input.sk-toggleable__control:checked~label.sk-toggleable__label-arrow:before {content: \"▾\";}#sk-container-id-3 div.sk-estimator input.sk-toggleable__control:checked~label.sk-toggleable__label {background-color: #d4ebff;}#sk-container-id-3 div.sk-label input.sk-toggleable__control:checked~label.sk-toggleable__label {background-color: #d4ebff;}#sk-container-id-3 input.sk-hidden--visually {border: 0;clip: rect(1px 1px 1px 1px);clip: rect(1px, 1px, 1px, 1px);height: 1px;margin: -1px;overflow: hidden;padding: 0;position: absolute;width: 1px;}#sk-container-id-3 div.sk-estimator {font-family: monospace;background-color: #f0f8ff;border: 1px dotted black;border-radius: 0.25em;box-sizing: border-box;margin-bottom: 0.5em;}#sk-container-id-3 div.sk-estimator:hover {background-color: #d4ebff;}#sk-container-id-3 div.sk-parallel-item::after {content: \"\";width: 100%;border-bottom: 1px solid gray;flex-grow: 1;}#sk-container-id-3 div.sk-label:hover label.sk-toggleable__label {background-color: #d4ebff;}#sk-container-id-3 div.sk-serial::before {content: \"\";position: absolute;border-left: 1px solid gray;box-sizing: border-box;top: 0;bottom: 0;left: 50%;z-index: 0;}#sk-container-id-3 div.sk-serial {display: flex;flex-direction: column;align-items: center;background-color: white;padding-right: 0.2em;padding-left: 0.2em;position: relative;}#sk-container-id-3 div.sk-item {position: relative;z-index: 1;}#sk-container-id-3 div.sk-parallel {display: flex;align-items: stretch;justify-content: center;background-color: white;position: relative;}#sk-container-id-3 div.sk-item::before, #sk-container-id-3 div.sk-parallel-item::before {content: \"\";position: absolute;border-left: 1px solid gray;box-sizing: border-box;top: 0;bottom: 0;left: 50%;z-index: -1;}#sk-container-id-3 div.sk-parallel-item {display: flex;flex-direction: column;z-index: 1;position: relative;background-color: white;}#sk-container-id-3 div.sk-parallel-item:first-child::after {align-self: flex-end;width: 50%;}#sk-container-id-3 div.sk-parallel-item:last-child::after {align-self: flex-start;width: 50%;}#sk-container-id-3 div.sk-parallel-item:only-child::after {width: 0;}#sk-container-id-3 div.sk-dashed-wrapped {border: 1px dashed gray;margin: 0 0.4em 0.5em 0.4em;box-sizing: border-box;padding-bottom: 0.4em;background-color: white;}#sk-container-id-3 div.sk-label label {font-family: monospace;font-weight: bold;display: inline-block;line-height: 1.2em;}#sk-container-id-3 div.sk-label-container {text-align: center;}#sk-container-id-3 div.sk-container {/* jupyter's `normalize.less` sets `[hidden] { display: none; }` but bootstrap.min.css set `[hidden] { display: none !important; }` so we also need the `!important` here to be able to override the default hidden behavior on the sphinx rendered scikit-learn.org. See: https://github.com/scikit-learn/scikit-learn/issues/21755 */display: inline-block !important;position: relative;}#sk-container-id-3 div.sk-text-repr-fallback {display: none;}</style><div id=\"sk-container-id-3\" class=\"sk-top-container\"><div class=\"sk-text-repr-fallback\"><pre>LinearSVC(random_state=0, tol=1e-05)</pre><b>In a Jupyter environment, please rerun this cell to show the HTML representation or trust the notebook. <br />On GitHub, the HTML representation is unable to render, please try loading this page with nbviewer.org.</b></div><div class=\"sk-container\" hidden><div class=\"sk-item\"><div class=\"sk-estimator sk-toggleable\"><input class=\"sk-toggleable__control sk-hidden--visually\" id=\"sk-estimator-id-3\" type=\"checkbox\" checked><label for=\"sk-estimator-id-3\" class=\"sk-toggleable__label sk-toggleable__label-arrow\">LinearSVC</label><div class=\"sk-toggleable__content\"><pre>LinearSVC(random_state=0, tol=1e-05)</pre></div></div></div></div></div>"
            ],
            "text/plain": [
              "LinearSVC(random_state=0, tol=1e-05)"
            ]
          },
          "execution_count": 36,
          "metadata": {},
          "output_type": "execute_result"
        },
        {
          "name": "stdout",
          "output_type": "stream",
          "text": [
            "Accuracy Score -  0.5028810895756941\n",
            "              precision    recall  f1-score   support\n",
            "\n",
            "          P1       0.44      0.29      0.35       223\n",
            "          P2       0.45      0.48      0.46       608\n",
            "          P3       0.56      0.66      0.60       800\n",
            "          P4       0.47      0.34      0.39       228\n",
            "          P5       0.00      0.00      0.00        50\n",
            "\n",
            "    accuracy                           0.50      1909\n",
            "   macro avg       0.38      0.35      0.36      1909\n",
            "weighted avg       0.48      0.50      0.49      1909\n",
            "\n"
          ]
        }
      ],
      "source": [
        "# Loading the balanced dataframe\n",
        "\n",
        "df = df_balanced[['text', 'Priority']]\n",
        "df = df.dropna()\n",
        "\n",
        "# Step 1 - Data Preparation\n",
        "\n",
        "df['text'] = df['text'].apply(clean)\n",
        "\n",
        "# Step 2 - Train-Test Split\n",
        "X_train, X_test, Y_train, Y_test = train_test_split(df['text'],\n",
        "                                                    df['Priority'],\n",
        "                                                    test_size=0.2,\n",
        "                                                    random_state=42,\n",
        "                                                    stratify=df['Priority'])\n",
        "print('Size of Training Data ', X_train.shape[0])\n",
        "print('Size of Test Data ', X_test.shape[0])\n",
        "\n",
        "# Step 3 - Training the Machine Learning model\n",
        "\n",
        "tfidf = TfidfVectorizer(min_df=10, ngram_range=(1, 2), stop_words=\"english\")\n",
        "X_train_tf = tfidf.fit_transform(X_train)\n",
        "\n",
        "model1 = LinearSVC(random_state=0, tol=1e-5)\n",
        "model1.fit(X_train_tf, Y_train)\n",
        "\n",
        "# Step 4 - Model Evaluation\n",
        "\n",
        "X_test_tf = tfidf.transform(X_test)\n",
        "Y_pred = model1.predict(X_test_tf)\n",
        "print('Accuracy Score - ', accuracy_score(Y_test, Y_pred))\n",
        "print(classification_report(Y_test, Y_pred))"
      ]
    },
    {
      "attachments": {},
      "cell_type": "markdown",
      "metadata": {
        "id": "25r0IGwYUhzD"
      },
      "source": [
        "So the new accuracy score for the model overall now is about 50% (it won't be the same for everyone because it's based on probabilities, but the difference won't be more than 1% up or down). The precision and recall values for P1 and P2 are better, but it completely misses the 50 bugs that had been labeled P5. \n",
        "\n",
        "Nevertheless, even though the model's accuracy score is lower, it is a better model overall because the predictions are more reflective of the input. And, what we learn, is that this isn't really going to be helpful for generating predictions in the future. In other words, if we run the DummyClassifier on the stratified data, we'll discover that simply making predictions about what priority label a bug report receives could be randomly assigned based on the overal proportions of each label in the dataset... and it would be just as accurate. "
      ]
    },
    {
      "cell_type": "code",
      "execution_count": 37,
      "metadata": {
        "id": "z7_FMiKJzsRw"
      },
      "outputs": [
        {
          "data": {
            "text/html": [
              "<style>#sk-container-id-4 {color: black;background-color: white;}#sk-container-id-4 pre{padding: 0;}#sk-container-id-4 div.sk-toggleable {background-color: white;}#sk-container-id-4 label.sk-toggleable__label {cursor: pointer;display: block;width: 100%;margin-bottom: 0;padding: 0.3em;box-sizing: border-box;text-align: center;}#sk-container-id-4 label.sk-toggleable__label-arrow:before {content: \"▸\";float: left;margin-right: 0.25em;color: #696969;}#sk-container-id-4 label.sk-toggleable__label-arrow:hover:before {color: black;}#sk-container-id-4 div.sk-estimator:hover label.sk-toggleable__label-arrow:before {color: black;}#sk-container-id-4 div.sk-toggleable__content {max-height: 0;max-width: 0;overflow: hidden;text-align: left;background-color: #f0f8ff;}#sk-container-id-4 div.sk-toggleable__content pre {margin: 0.2em;color: black;border-radius: 0.25em;background-color: #f0f8ff;}#sk-container-id-4 input.sk-toggleable__control:checked~div.sk-toggleable__content {max-height: 200px;max-width: 100%;overflow: auto;}#sk-container-id-4 input.sk-toggleable__control:checked~label.sk-toggleable__label-arrow:before {content: \"▾\";}#sk-container-id-4 div.sk-estimator input.sk-toggleable__control:checked~label.sk-toggleable__label {background-color: #d4ebff;}#sk-container-id-4 div.sk-label input.sk-toggleable__control:checked~label.sk-toggleable__label {background-color: #d4ebff;}#sk-container-id-4 input.sk-hidden--visually {border: 0;clip: rect(1px 1px 1px 1px);clip: rect(1px, 1px, 1px, 1px);height: 1px;margin: -1px;overflow: hidden;padding: 0;position: absolute;width: 1px;}#sk-container-id-4 div.sk-estimator {font-family: monospace;background-color: #f0f8ff;border: 1px dotted black;border-radius: 0.25em;box-sizing: border-box;margin-bottom: 0.5em;}#sk-container-id-4 div.sk-estimator:hover {background-color: #d4ebff;}#sk-container-id-4 div.sk-parallel-item::after {content: \"\";width: 100%;border-bottom: 1px solid gray;flex-grow: 1;}#sk-container-id-4 div.sk-label:hover label.sk-toggleable__label {background-color: #d4ebff;}#sk-container-id-4 div.sk-serial::before {content: \"\";position: absolute;border-left: 1px solid gray;box-sizing: border-box;top: 0;bottom: 0;left: 50%;z-index: 0;}#sk-container-id-4 div.sk-serial {display: flex;flex-direction: column;align-items: center;background-color: white;padding-right: 0.2em;padding-left: 0.2em;position: relative;}#sk-container-id-4 div.sk-item {position: relative;z-index: 1;}#sk-container-id-4 div.sk-parallel {display: flex;align-items: stretch;justify-content: center;background-color: white;position: relative;}#sk-container-id-4 div.sk-item::before, #sk-container-id-4 div.sk-parallel-item::before {content: \"\";position: absolute;border-left: 1px solid gray;box-sizing: border-box;top: 0;bottom: 0;left: 50%;z-index: -1;}#sk-container-id-4 div.sk-parallel-item {display: flex;flex-direction: column;z-index: 1;position: relative;background-color: white;}#sk-container-id-4 div.sk-parallel-item:first-child::after {align-self: flex-end;width: 50%;}#sk-container-id-4 div.sk-parallel-item:last-child::after {align-self: flex-start;width: 50%;}#sk-container-id-4 div.sk-parallel-item:only-child::after {width: 0;}#sk-container-id-4 div.sk-dashed-wrapped {border: 1px dashed gray;margin: 0 0.4em 0.5em 0.4em;box-sizing: border-box;padding-bottom: 0.4em;background-color: white;}#sk-container-id-4 div.sk-label label {font-family: monospace;font-weight: bold;display: inline-block;line-height: 1.2em;}#sk-container-id-4 div.sk-label-container {text-align: center;}#sk-container-id-4 div.sk-container {/* jupyter's `normalize.less` sets `[hidden] { display: none; }` but bootstrap.min.css set `[hidden] { display: none !important; }` so we also need the `!important` here to be able to override the default hidden behavior on the sphinx rendered scikit-learn.org. See: https://github.com/scikit-learn/scikit-learn/issues/21755 */display: inline-block !important;position: relative;}#sk-container-id-4 div.sk-text-repr-fallback {display: none;}</style><div id=\"sk-container-id-4\" class=\"sk-top-container\"><div class=\"sk-text-repr-fallback\"><pre>DummyClassifier(random_state=21, strategy=&#x27;stratified&#x27;)</pre><b>In a Jupyter environment, please rerun this cell to show the HTML representation or trust the notebook. <br />On GitHub, the HTML representation is unable to render, please try loading this page with nbviewer.org.</b></div><div class=\"sk-container\" hidden><div class=\"sk-item\"><div class=\"sk-estimator sk-toggleable\"><input class=\"sk-toggleable__control sk-hidden--visually\" id=\"sk-estimator-id-4\" type=\"checkbox\" checked><label for=\"sk-estimator-id-4\" class=\"sk-toggleable__label sk-toggleable__label-arrow\">DummyClassifier</label><div class=\"sk-toggleable__content\"><pre>DummyClassifier(random_state=21, strategy=&#x27;stratified&#x27;)</pre></div></div></div></div></div>"
            ],
            "text/plain": [
              "DummyClassifier(random_state=21, strategy='stratified')"
            ]
          },
          "execution_count": 37,
          "metadata": {},
          "output_type": "execute_result"
        },
        {
          "name": "stdout",
          "output_type": "stream",
          "text": [
            "Accuracy Score -  0.31691985332634887\n"
          ]
        }
      ],
      "source": [
        "clf = DummyClassifier(strategy='stratified', random_state=21)\n",
        "clf.fit(X_train, Y_train)\n",
        "Y_pred_baseline = clf.predict(X_test)\n",
        "print ('Accuracy Score - ', accuracy_score(Y_test, Y_pred_baseline))"
      ]
    },
    {
      "attachments": {},
      "cell_type": "markdown",
      "metadata": {
        "id": "Wh-uE95ZVs5R"
      },
      "source": [
        "Perhaps the whole exercise isn't a total loss, though, because we can go through and see places where the model was accurate and inaccurate and maybe there's something you can uncover about the quality of the data that is causing it to be problematic. Perhaps the results would change if you were to remove stopwords or symbols or numbers. "
      ]
    },
    {
      "cell_type": "code",
      "execution_count": 38,
      "metadata": {
        "id": "AQ6TUYA2zsRw"
      },
      "outputs": [
        {
          "data": {
            "text/html": [
              "<div>\n",
              "<style scoped>\n",
              "    .dataframe tbody tr th:only-of-type {\n",
              "        vertical-align: middle;\n",
              "    }\n",
              "\n",
              "    .dataframe tbody tr th {\n",
              "        vertical-align: top;\n",
              "    }\n",
              "\n",
              "    .dataframe thead th {\n",
              "        text-align: right;\n",
              "    }\n",
              "</style>\n",
              "<table border=\"1\" class=\"dataframe tex2jax_ignore\">\n",
              "  <thead>\n",
              "    <tr style=\"text-align: right;\">\n",
              "      <th></th>\n",
              "      <th>text</th>\n",
              "      <th>actual</th>\n",
              "      <th>predicted</th>\n",
              "    </tr>\n",
              "  </thead>\n",
              "  <tbody>\n",
              "    <tr>\n",
              "      <th>8461</th>\n",
              "      <td>Variable view show old instance using build 20020917; ; Step to reproduce:; 1) create a selfhosting workspace (20020917).; 2) put a breakpoint in CompletionEngine at line 774 ; CompilationUnitDeclaration parsedUnit = parser.dietParse(...).; 3) create a launch configuration Runtime Workbench.; 4) launch this configuration in debugger.; 5) create a Java project.; 6) create a class.; 7) do ctrl+space in editor to hit breakpoint.; 8) look the id of the parser field of CompletionEngine in the variable view .; 9) step into parser.dietParse(...).; 10) in variable view the id of the parser is the same as step 8.; 11) do resume.; 12) do ctrl+space in editor to hit breakpoint.; 13) the id of the parser field is the same as step 8 (but it should not be the ; same instance of CompletionParser).; 14) step into parser.dietParse(...).; 15) the id of parser is a new id (as expected).; ; It seems that variable view doesnt show the right instance in the step 13.</td>\n",
              "      <td>P1</td>\n",
              "      <td>P1</td>\n",
              "    </tr>\n",
              "    <tr>\n",
              "      <th>34854</th>\n",
              "      <td>model proxy created for Java debug target in var view While investigating bug 177910; I found that the deltas for thread creation were duplicated in the output produced by Walter. I discovered that two model proxies are created for Java debug targets because the JavaModelProxyFactory does not limit the creation of proxies for targets to the debug view (as it should).</td>\n",
              "      <td>P2</td>\n",
              "      <td>P2</td>\n",
              "    </tr>\n",
              "  </tbody>\n",
              "</table>\n",
              "</div>"
            ],
            "text/plain": [
              "                                                                                                                                                                                                                                                                                                                                                                                                                                                                                                                                                                                                                                                                                                                                                                                                                                                                                                                                                                                                 text   \n",
              "8461   Variable view show old instance using build 20020917; ; Step to reproduce:; 1) create a selfhosting workspace (20020917).; 2) put a breakpoint in CompletionEngine at line 774 ; CompilationUnitDeclaration parsedUnit = parser.dietParse(...).; 3) create a launch configuration Runtime Workbench.; 4) launch this configuration in debugger.; 5) create a Java project.; 6) create a class.; 7) do ctrl+space in editor to hit breakpoint.; 8) look the id of the parser field of CompletionEngine in the variable view .; 9) step into parser.dietParse(...).; 10) in variable view the id of the parser is the same as step 8.; 11) do resume.; 12) do ctrl+space in editor to hit breakpoint.; 13) the id of the parser field is the same as step 8 (but it should not be the ; same instance of CompletionParser).; 14) step into parser.dietParse(...).; 15) the id of parser is a new id (as expected).; ; It seems that variable view doesnt show the right instance in the step 13.  \\\n",
              "34854                                                                                                                                                                                                                                                                                                                                                                                                                                                                                                                                                                                                               model proxy created for Java debug target in var view While investigating bug 177910; I found that the deltas for thread creation were duplicated in the output produced by Walter. I discovered that two model proxies are created for Java debug targets because the JavaModelProxyFactory does not limit the creation of proxies for targets to the debug view (as it should).   \n",
              "\n",
              "      actual predicted  \n",
              "8461      P1        P1  \n",
              "34854     P2        P2  "
            ]
          },
          "execution_count": 38,
          "metadata": {},
          "output_type": "execute_result"
        }
      ],
      "source": [
        "## Create a dataframe combining the Title and Description, \n",
        "## Actual and Predicted values that we can explore\n",
        "frame = { 'text': X_test, 'actual': Y_test, 'predicted': Y_pred }\n",
        "result = pd.DataFrame(frame)\n",
        "\n",
        "result[((result['actual'] == 'P1') | (result['actual'] == 'P2')) &\n",
        "       (result['actual'] == result['predicted'])].sample(2, random_state=22)"
      ]
    },
    {
      "cell_type": "code",
      "execution_count": 39,
      "metadata": {
        "id": "ogWkgmJPzsRw"
      },
      "outputs": [
        {
          "data": {
            "text/html": [
              "<div>\n",
              "<style scoped>\n",
              "    .dataframe tbody tr th:only-of-type {\n",
              "        vertical-align: middle;\n",
              "    }\n",
              "\n",
              "    .dataframe tbody tr th {\n",
              "        vertical-align: top;\n",
              "    }\n",
              "\n",
              "    .dataframe thead th {\n",
              "        text-align: right;\n",
              "    }\n",
              "</style>\n",
              "<table border=\"1\" class=\"dataframe tex2jax_ignore\">\n",
              "  <thead>\n",
              "    <tr style=\"text-align: right;\">\n",
              "      <th></th>\n",
              "      <th>text</th>\n",
              "      <th>actual</th>\n",
              "      <th>predicted</th>\n",
              "    </tr>\n",
              "  </thead>\n",
              "  <tbody>\n",
              "    <tr>\n",
              "      <th>40065</th>\n",
              "      <td>Too many semicolons after constructor completion I20090611-1540; ; public class Try {; Object m() {; return null;; }; }; ; select null; type new Runna; Ctrl+Space; press Enter to select the anonymous proposal for Runnable(); ; =&gt; Result:; ; public class Try {; Object m() {; return new Runnable() {; ; public void run() {; // TODO Auto-generated method stub; ; }; };;;; };</td>\n",
              "      <td>P2</td>\n",
              "      <td>P3</td>\n",
              "    </tr>\n",
              "    <tr>\n",
              "      <th>7178</th>\n",
              "      <td>Next/Previous buttons have double image 20020606 XP; ; 1) Open Java editor; Outline; Search view; 2) Click in editor; click in outline; click in search; 3) Note that the show previous/ show next buttons have a double image.; Hover over the button and the imgae is corrected</td>\n",
              "      <td>P2</td>\n",
              "      <td>P3</td>\n",
              "    </tr>\n",
              "  </tbody>\n",
              "</table>\n",
              "</div>"
            ],
            "text/plain": [
              "                                                                                                                                                                                                                                                                                                                                                                                       text   \n",
              "40065  Too many semicolons after constructor completion I20090611-1540; ; public class Try {; Object m() {; return null;; }; }; ; select null; type new Runna; Ctrl+Space; press Enter to select the anonymous proposal for Runnable(); ; => Result:; ; public class Try {; Object m() {; return new Runnable() {; ; public void run() {; // TODO Auto-generated method stub; ; }; };;;; };  \\\n",
              "7178                                                                                                      Next/Previous buttons have double image 20020606 XP; ; 1) Open Java editor; Outline; Search view; 2) Click in editor; click in outline; click in search; 3) Note that the show previous/ show next buttons have a double image.; Hover over the button and the imgae is corrected   \n",
              "\n",
              "      actual predicted  \n",
              "40065     P2        P3  \n",
              "7178      P2        P3  "
            ]
          },
          "execution_count": 39,
          "metadata": {},
          "output_type": "execute_result"
        }
      ],
      "source": [
        "result[((result['actual'] == 'P1') | (result['actual'] == 'P2')) &\n",
        "       (result['actual'] != result['predicted'])].sample(2, random_state=33)"
      ]
    },
    {
      "attachments": {},
      "cell_type": "markdown",
      "metadata": {
        "id": "sVKYLyjczsRw"
      },
      "source": [
        "# Cross-Validation\n",
        "The accuracy of the model that we created is somewhere around 48.7%, which is just under a coin's toss likelihood of being correct. That's not great. There are a number of steps we could take to try to improve the model from here: \n",
        "- add features like trigrams\n",
        "- add additional text cleaning steps\n",
        "- tweak the model's parameters and then check for performance on the test split. \n",
        "\n",
        "One way to test whether or not the results are an artifact of the random selection of data and the shuffling of data order could be to set a new `random_state` which would shuffle the data and could result in a different accuracy outcome. We won't know until we try. \n",
        "\n",
        "Cross-validation is when we train a model on different splits of the data and validate on different splits of data so that the model achieves a balance between *underfitting* and *overfitting*. Underfitting happens when the  model is complex and has fit the underlying pattern well during training but produces significant deviations during the testing phase. In this case, the model has been trained too narrowly on the data and doesn't do a good job of generalizing on new data. \n",
        "\n",
        "We can build cross-validation into the classification pipeline using something called K-fold validation. This is a formula, essentially, for selecting different cross sections of data and then returning validation scores for each \"fold\" or iteration of the split. "
      ]
    },
    {
      "cell_type": "code",
      "execution_count": 40,
      "metadata": {
        "id": "Z28i_vH-zsRw"
      },
      "outputs": [
        {
          "name": "stdout",
          "output_type": "stream",
          "text": [
            "Validation scores from each iteration of the cross validation  [0.48192771 0.45311682 0.43949712 0.42221058 0.37297014]\n",
            "Mean value across of validation scores  0.43394447354635934\n",
            "Standard deviation of validation scores  0.036211476115013436\n"
          ]
        }
      ],
      "source": [
        "# Vectorization\n",
        "\n",
        "tfidf = TfidfVectorizer(min_df = 10, ngram_range=(1,2), stop_words=\"english\")\n",
        "df_tf = tfidf.fit_transform(df['text']).toarray()\n",
        "\n",
        "# Cross Validation with 5 folds\n",
        "\n",
        "scores = cross_val_score(estimator=model1,\n",
        "                         X=df_tf,\n",
        "                         y=df['Priority'],\n",
        "                         cv=5)\n",
        "\n",
        "print (\"Validation scores from each iteration of the cross validation \", scores)\n",
        "print (\"Mean value across of validation scores \", scores.mean())\n",
        "print (\"Standard deviation of validation scores \", scores.std())"
      ]
    },
    {
      "attachments": {},
      "cell_type": "markdown",
      "metadata": {
        "id": "rqgW6AjkzsRx"
      },
      "source": [
        "# Hyperparameter Tuning with Grid Search\n",
        "Grid-search is a tool that we can use to improve a model's accuracy by systematically evaluating the parameters of the arguments we feed to the model. The process includes trying out different combinations of *hyperparameters* to improve the desired output. [Hyperparameters](https://en.wikipedia.org/wiki/Hyperparameter_(machine_learning) set the boundaries of the \"learning\" process. When we use grid-search, we provide a set of parameter values that we can evaluate. Combining this with cross-validation will help to identify the hyperparameters that are impacting the model and provide clues as to where to make adjustments to improve the accuracy of the results. \n",
        "\n",
        "To begin, a `training_pipeline` defines the steps that we would like to run. The following example specifies tf-idf vectorization and the LinearSVC model from scikit-learn. Then, the `grid_param` argument allows us to define the parameters that we want to test. Parameters are specific to each phase in the pipeline, so we use the name of the phase as a prefix to specify what we're testing for. So, for example, min_df is a parameter, so we call it `tfidf_min_df`. In the last phase, we call the GridSearchCV method, which automates the process of testing multiple versions of the entire piepline with different sets of hyperparameters and produces a cross-validation score for each. That allows us to pick the best performing pipeline and model. \n",
        "\n",
        "The following step will take a bit of time. Be sure that you can let the process run without the notebook disconnecting so that it can finish. "
      ]
    },
    {
      "cell_type": "code",
      "execution_count": 41,
      "metadata": {
        "id": "DJ3tJ7EJzsRx"
      },
      "outputs": [
        {
          "data": {
            "text/html": [
              "<style>#sk-container-id-5 {color: black;background-color: white;}#sk-container-id-5 pre{padding: 0;}#sk-container-id-5 div.sk-toggleable {background-color: white;}#sk-container-id-5 label.sk-toggleable__label {cursor: pointer;display: block;width: 100%;margin-bottom: 0;padding: 0.3em;box-sizing: border-box;text-align: center;}#sk-container-id-5 label.sk-toggleable__label-arrow:before {content: \"▸\";float: left;margin-right: 0.25em;color: #696969;}#sk-container-id-5 label.sk-toggleable__label-arrow:hover:before {color: black;}#sk-container-id-5 div.sk-estimator:hover label.sk-toggleable__label-arrow:before {color: black;}#sk-container-id-5 div.sk-toggleable__content {max-height: 0;max-width: 0;overflow: hidden;text-align: left;background-color: #f0f8ff;}#sk-container-id-5 div.sk-toggleable__content pre {margin: 0.2em;color: black;border-radius: 0.25em;background-color: #f0f8ff;}#sk-container-id-5 input.sk-toggleable__control:checked~div.sk-toggleable__content {max-height: 200px;max-width: 100%;overflow: auto;}#sk-container-id-5 input.sk-toggleable__control:checked~label.sk-toggleable__label-arrow:before {content: \"▾\";}#sk-container-id-5 div.sk-estimator input.sk-toggleable__control:checked~label.sk-toggleable__label {background-color: #d4ebff;}#sk-container-id-5 div.sk-label input.sk-toggleable__control:checked~label.sk-toggleable__label {background-color: #d4ebff;}#sk-container-id-5 input.sk-hidden--visually {border: 0;clip: rect(1px 1px 1px 1px);clip: rect(1px, 1px, 1px, 1px);height: 1px;margin: -1px;overflow: hidden;padding: 0;position: absolute;width: 1px;}#sk-container-id-5 div.sk-estimator {font-family: monospace;background-color: #f0f8ff;border: 1px dotted black;border-radius: 0.25em;box-sizing: border-box;margin-bottom: 0.5em;}#sk-container-id-5 div.sk-estimator:hover {background-color: #d4ebff;}#sk-container-id-5 div.sk-parallel-item::after {content: \"\";width: 100%;border-bottom: 1px solid gray;flex-grow: 1;}#sk-container-id-5 div.sk-label:hover label.sk-toggleable__label {background-color: #d4ebff;}#sk-container-id-5 div.sk-serial::before {content: \"\";position: absolute;border-left: 1px solid gray;box-sizing: border-box;top: 0;bottom: 0;left: 50%;z-index: 0;}#sk-container-id-5 div.sk-serial {display: flex;flex-direction: column;align-items: center;background-color: white;padding-right: 0.2em;padding-left: 0.2em;position: relative;}#sk-container-id-5 div.sk-item {position: relative;z-index: 1;}#sk-container-id-5 div.sk-parallel {display: flex;align-items: stretch;justify-content: center;background-color: white;position: relative;}#sk-container-id-5 div.sk-item::before, #sk-container-id-5 div.sk-parallel-item::before {content: \"\";position: absolute;border-left: 1px solid gray;box-sizing: border-box;top: 0;bottom: 0;left: 50%;z-index: -1;}#sk-container-id-5 div.sk-parallel-item {display: flex;flex-direction: column;z-index: 1;position: relative;background-color: white;}#sk-container-id-5 div.sk-parallel-item:first-child::after {align-self: flex-end;width: 50%;}#sk-container-id-5 div.sk-parallel-item:last-child::after {align-self: flex-start;width: 50%;}#sk-container-id-5 div.sk-parallel-item:only-child::after {width: 0;}#sk-container-id-5 div.sk-dashed-wrapped {border: 1px dashed gray;margin: 0 0.4em 0.5em 0.4em;box-sizing: border-box;padding-bottom: 0.4em;background-color: white;}#sk-container-id-5 div.sk-label label {font-family: monospace;font-weight: bold;display: inline-block;line-height: 1.2em;}#sk-container-id-5 div.sk-label-container {text-align: center;}#sk-container-id-5 div.sk-container {/* jupyter's `normalize.less` sets `[hidden] { display: none; }` but bootstrap.min.css set `[hidden] { display: none !important; }` so we also need the `!important` here to be able to override the default hidden behavior on the sphinx rendered scikit-learn.org. See: https://github.com/scikit-learn/scikit-learn/issues/21755 */display: inline-block !important;position: relative;}#sk-container-id-5 div.sk-text-repr-fallback {display: none;}</style><div id=\"sk-container-id-5\" class=\"sk-top-container\"><div class=\"sk-text-repr-fallback\"><pre>GridSearchCV(cv=5,\n",
              "             estimator=Pipeline(steps=[(&#x27;tfidf&#x27;,\n",
              "                                        TfidfVectorizer(stop_words=&#x27;english&#x27;)),\n",
              "                                       (&#x27;model&#x27;,\n",
              "                                        LinearSVC(random_state=21,\n",
              "                                                  tol=1e-05))]),\n",
              "             param_grid=[{&#x27;model__loss&#x27;: [&#x27;hinge&#x27;], &#x27;model__max_iter&#x27;: [10000],\n",
              "                          &#x27;model__penalty&#x27;: [&#x27;l2&#x27;], &#x27;tfidf__min_df&#x27;: [5, 10],\n",
              "                          &#x27;tfidf__ngram_range&#x27;: [(1, 3), (1, 6)]},\n",
              "                         {&#x27;model__C&#x27;: [1, 10], &#x27;model__tol&#x27;: [0.01, 0.001],\n",
              "                          &#x27;tfidf__min_df&#x27;: [5, 10],\n",
              "                          &#x27;tfidf__ngram_range&#x27;: [(1, 3), (1, 6)]}])</pre><b>In a Jupyter environment, please rerun this cell to show the HTML representation or trust the notebook. <br />On GitHub, the HTML representation is unable to render, please try loading this page with nbviewer.org.</b></div><div class=\"sk-container\" hidden><div class=\"sk-item sk-dashed-wrapped\"><div class=\"sk-label-container\"><div class=\"sk-label sk-toggleable\"><input class=\"sk-toggleable__control sk-hidden--visually\" id=\"sk-estimator-id-5\" type=\"checkbox\" ><label for=\"sk-estimator-id-5\" class=\"sk-toggleable__label sk-toggleable__label-arrow\">GridSearchCV</label><div class=\"sk-toggleable__content\"><pre>GridSearchCV(cv=5,\n",
              "             estimator=Pipeline(steps=[(&#x27;tfidf&#x27;,\n",
              "                                        TfidfVectorizer(stop_words=&#x27;english&#x27;)),\n",
              "                                       (&#x27;model&#x27;,\n",
              "                                        LinearSVC(random_state=21,\n",
              "                                                  tol=1e-05))]),\n",
              "             param_grid=[{&#x27;model__loss&#x27;: [&#x27;hinge&#x27;], &#x27;model__max_iter&#x27;: [10000],\n",
              "                          &#x27;model__penalty&#x27;: [&#x27;l2&#x27;], &#x27;tfidf__min_df&#x27;: [5, 10],\n",
              "                          &#x27;tfidf__ngram_range&#x27;: [(1, 3), (1, 6)]},\n",
              "                         {&#x27;model__C&#x27;: [1, 10], &#x27;model__tol&#x27;: [0.01, 0.001],\n",
              "                          &#x27;tfidf__min_df&#x27;: [5, 10],\n",
              "                          &#x27;tfidf__ngram_range&#x27;: [(1, 3), (1, 6)]}])</pre></div></div></div><div class=\"sk-parallel\"><div class=\"sk-parallel-item\"><div class=\"sk-item\"><div class=\"sk-label-container\"><div class=\"sk-label sk-toggleable\"><input class=\"sk-toggleable__control sk-hidden--visually\" id=\"sk-estimator-id-6\" type=\"checkbox\" ><label for=\"sk-estimator-id-6\" class=\"sk-toggleable__label sk-toggleable__label-arrow\">estimator: Pipeline</label><div class=\"sk-toggleable__content\"><pre>Pipeline(steps=[(&#x27;tfidf&#x27;, TfidfVectorizer(stop_words=&#x27;english&#x27;)),\n",
              "                (&#x27;model&#x27;, LinearSVC(random_state=21, tol=1e-05))])</pre></div></div></div><div class=\"sk-serial\"><div class=\"sk-item\"><div class=\"sk-serial\"><div class=\"sk-item\"><div class=\"sk-estimator sk-toggleable\"><input class=\"sk-toggleable__control sk-hidden--visually\" id=\"sk-estimator-id-7\" type=\"checkbox\" ><label for=\"sk-estimator-id-7\" class=\"sk-toggleable__label sk-toggleable__label-arrow\">TfidfVectorizer</label><div class=\"sk-toggleable__content\"><pre>TfidfVectorizer(stop_words=&#x27;english&#x27;)</pre></div></div></div><div class=\"sk-item\"><div class=\"sk-estimator sk-toggleable\"><input class=\"sk-toggleable__control sk-hidden--visually\" id=\"sk-estimator-id-8\" type=\"checkbox\" ><label for=\"sk-estimator-id-8\" class=\"sk-toggleable__label sk-toggleable__label-arrow\">LinearSVC</label><div class=\"sk-toggleable__content\"><pre>LinearSVC(random_state=21, tol=1e-05)</pre></div></div></div></div></div></div></div></div></div></div></div></div>"
            ],
            "text/plain": [
              "GridSearchCV(cv=5,\n",
              "             estimator=Pipeline(steps=[('tfidf',\n",
              "                                        TfidfVectorizer(stop_words='english')),\n",
              "                                       ('model',\n",
              "                                        LinearSVC(random_state=21,\n",
              "                                                  tol=1e-05))]),\n",
              "             param_grid=[{'model__loss': ['hinge'], 'model__max_iter': [10000],\n",
              "                          'model__penalty': ['l2'], 'tfidf__min_df': [5, 10],\n",
              "                          'tfidf__ngram_range': [(1, 3), (1, 6)]},\n",
              "                         {'model__C': [1, 10], 'model__tol': [0.01, 0.001],\n",
              "                          'tfidf__min_df': [5, 10],\n",
              "                          'tfidf__ngram_range': [(1, 3), (1, 6)]}])"
            ]
          },
          "execution_count": 41,
          "metadata": {},
          "output_type": "execute_result"
        },
        {
          "name": "stdout",
          "output_type": "stream",
          "text": [
            "Best alpha parameter identified by grid search  {'model__loss': 'hinge', 'model__max_iter': 10000, 'model__penalty': 'l2', 'tfidf__min_df': 10, 'tfidf__ngram_range': (1, 3)}\n",
            "Best result identified by grid search  0.4597171293871137\n"
          ]
        }
      ],
      "source": [
        "training_pipeline = Pipeline(\n",
        "    steps=[('tfidf', TfidfVectorizer(\n",
        "        stop_words=\"english\")), ('model',\n",
        "                                 LinearSVC(random_state=21, tol=1e-5))])\n",
        "\n",
        "grid_param = [{\n",
        "    'tfidf__min_df': [5, 10],\n",
        "    'tfidf__ngram_range': [(1, 3), (1, 6)],\n",
        "    'model__penalty': ['l2'],\n",
        "    'model__loss': ['hinge'],\n",
        "    'model__max_iter': [10000]\n",
        "}, {\n",
        "    'tfidf__min_df': [5, 10],\n",
        "    'tfidf__ngram_range': [(1, 3), (1, 6)],\n",
        "    'model__C': [1, 10],\n",
        "    'model__tol': [1e-2, 1e-3]\n",
        "}]\n",
        "\n",
        "gridSearchProcessor = GridSearchCV(estimator=training_pipeline,\n",
        "                                   param_grid=grid_param,\n",
        "                                   cv=5)\n",
        "gridSearchProcessor.fit(df['text'], df['Priority'])\n",
        "\n",
        "best_params = gridSearchProcessor.best_params_\n",
        "print(\"Best alpha parameter identified by grid search \", best_params)\n",
        "\n",
        "best_result = gridSearchProcessor.best_score_\n",
        "print(\"Best result identified by grid search \", best_result)"
      ]
    },
    {
      "cell_type": "code",
      "execution_count": 42,
      "metadata": {
        "id": "-4leXtb7zsRx"
      },
      "outputs": [
        {
          "data": {
            "text/html": [
              "<div>\n",
              "<style scoped>\n",
              "    .dataframe tbody tr th:only-of-type {\n",
              "        vertical-align: middle;\n",
              "    }\n",
              "\n",
              "    .dataframe tbody tr th {\n",
              "        vertical-align: top;\n",
              "    }\n",
              "\n",
              "    .dataframe thead th {\n",
              "        text-align: right;\n",
              "    }\n",
              "</style>\n",
              "<table border=\"1\" class=\"dataframe tex2jax_ignore\">\n",
              "  <thead>\n",
              "    <tr style=\"text-align: right;\">\n",
              "      <th></th>\n",
              "      <th>rank_test_score</th>\n",
              "      <th>mean_test_score</th>\n",
              "      <th>params</th>\n",
              "    </tr>\n",
              "  </thead>\n",
              "  <tbody>\n",
              "    <tr>\n",
              "      <th>2</th>\n",
              "      <td>1</td>\n",
              "      <td>0.46</td>\n",
              "      <td>{'model__loss': 'hinge', 'model__max_iter': 10000, 'model__penalty': 'l2', 'tfidf__min_df': 10, 'tfidf__ngram_range': (1, 3)}</td>\n",
              "    </tr>\n",
              "    <tr>\n",
              "      <th>0</th>\n",
              "      <td>2</td>\n",
              "      <td>0.46</td>\n",
              "      <td>{'model__loss': 'hinge', 'model__max_iter': 10000, 'model__penalty': 'l2', 'tfidf__min_df': 5, 'tfidf__ngram_range': (1, 3)}</td>\n",
              "    </tr>\n",
              "    <tr>\n",
              "      <th>1</th>\n",
              "      <td>3</td>\n",
              "      <td>0.46</td>\n",
              "      <td>{'model__loss': 'hinge', 'model__max_iter': 10000, 'model__penalty': 'l2', 'tfidf__min_df': 5, 'tfidf__ngram_range': (1, 6)}</td>\n",
              "    </tr>\n",
              "    <tr>\n",
              "      <th>3</th>\n",
              "      <td>4</td>\n",
              "      <td>0.46</td>\n",
              "      <td>{'model__loss': 'hinge', 'model__max_iter': 10000, 'model__penalty': 'l2', 'tfidf__min_df': 10, 'tfidf__ngram_range': (1, 6)}</td>\n",
              "    </tr>\n",
              "    <tr>\n",
              "      <th>4</th>\n",
              "      <td>5</td>\n",
              "      <td>0.44</td>\n",
              "      <td>{'model__C': 1, 'model__tol': 0.01, 'tfidf__min_df': 5, 'tfidf__ngram_range': (1, 3)}</td>\n",
              "    </tr>\n",
              "  </tbody>\n",
              "</table>\n",
              "</div>"
            ],
            "text/plain": [
              "   rank_test_score  mean_test_score   \n",
              "2                1             0.46  \\\n",
              "0                2             0.46   \n",
              "1                3             0.46   \n",
              "3                4             0.46   \n",
              "4                5             0.44   \n",
              "\n",
              "                                                                                                                          params  \n",
              "2  {'model__loss': 'hinge', 'model__max_iter': 10000, 'model__penalty': 'l2', 'tfidf__min_df': 10, 'tfidf__ngram_range': (1, 3)}  \n",
              "0   {'model__loss': 'hinge', 'model__max_iter': 10000, 'model__penalty': 'l2', 'tfidf__min_df': 5, 'tfidf__ngram_range': (1, 3)}  \n",
              "1   {'model__loss': 'hinge', 'model__max_iter': 10000, 'model__penalty': 'l2', 'tfidf__min_df': 5, 'tfidf__ngram_range': (1, 6)}  \n",
              "3  {'model__loss': 'hinge', 'model__max_iter': 10000, 'model__penalty': 'l2', 'tfidf__min_df': 10, 'tfidf__ngram_range': (1, 6)}  \n",
              "4                                          {'model__C': 1, 'model__tol': 0.01, 'tfidf__min_df': 5, 'tfidf__ngram_range': (1, 3)}  "
            ]
          },
          "execution_count": 42,
          "metadata": {},
          "output_type": "execute_result"
        }
      ],
      "source": [
        "gridsearch_results = pd.DataFrame(gridSearchProcessor.cv_results_)\n",
        "gridsearch_results[['rank_test_score', 'mean_test_score',\n",
        "                    'params']].sort_values(by=['rank_test_score'])[:5]"
      ]
    },
    {
      "attachments": {},
      "cell_type": "markdown",
      "metadata": {
        "id": "TFVbwVv9zsRx"
      },
      "source": [
        "# Reviewing what we've done and an extended pipeline with optional components\n",
        "\n",
        "The activity below is very resource intensive, and if you are running it on your local desktop computer or with the free Google Colab account it will take a prohibitively long time to do. As a result, my request is that you read through the code below as the bare minimum. Running the final cells for this is not required. There are activities below these next 4 cells, though, that you are expected to complete. \n",
        "\n",
        "\n",
        "---\n",
        "\n",
        "\n",
        "\n",
        "---\n",
        "\n",
        "\n",
        "\n",
        "Using what we've learned so far, let's go through the whole process of doing a multiclass text classification analysis using supervised learning and support vector classification. This time, let's identify the priority of the bug so that we can assign it to the appropriate development team (ie. consider a real world task to apply). Ideally, we would be able to do this automatically by using a classification model to determine which component of the software the bug report is referring to. All the bug reports have a feature called \"Component\" and values in that feature include Core, UI, and Doc. \n",
        "\n",
        "To complete this new task, we need to make the following changes: \n",
        "- add a step to include a grid-search that identifies the best hyperparameters and limts the number of options tested to increase runtime. \n",
        "- add an option t ouse the sklearn.svm.SVC function in order to compare the performance of this model to the LinearSVC. \n"
      ]
    },
    {
      "cell_type": "code",
      "execution_count": null,
      "metadata": {
        "colab": {
          "background_save": true
        },
        "collapsed": true,
        "id": "VNyY80NSzsRy"
      },
      "outputs": [],
      "source": [
        "# Flag that determines the choice of SVC (True) and LinearSVC (False)\n",
        "runSVC = True\n",
        "\n",
        "# Loading the dataframe\n",
        "\n",
        "file = \"eclipse_jdt.csv\"\n",
        "file = f\"{BASE_DIR}/data/jdt-bugs-dataset/eclipse_jdt.csv.gz\" ### real location\n",
        "df = pd.read_csv(file)\n",
        "df = df[['Title', 'Description', 'Component']]\n",
        "df = df.dropna()\n",
        "df['text'] = df['Title'] + df['Description']\n",
        "df = df.drop(columns=['Title', 'Description'])\n",
        "\n",
        "# Step 1 - Data Preparation\n",
        "df['text'] = df['text'].apply(clean)\n",
        "df = df[df['text'].str.len() > 50]\n",
        "\n",
        "if (runSVC):\n",
        "    # Sample the data when running SVC to ensure reasonable run-times\n",
        "    df = df.groupby('Component', as_index=False).apply(pd.DataFrame.sample,\n",
        "                                                       random_state=42,\n",
        "                                                       frac=.2)\n",
        "\n",
        "# Step 2 - Train-Test Split\n",
        "X_train, X_test, Y_train, Y_test = train_test_split(df['text'],\n",
        "                                                    df['Component'],\n",
        "                                                    test_size=0.2,\n",
        "                                                    random_state=42,\n",
        "                                                    stratify=df['Component'])\n",
        "print('Size of Training Data ', X_train.shape[0])\n",
        "print('Size of Test Data ', X_test.shape[0])\n",
        "\n",
        "# Step 3 - Training the Machine Learning model\n",
        "tfidf = TfidfVectorizer(stop_words=\"english\")\n",
        "\n",
        "if (runSVC):\n",
        "    model = SVC(random_state=42, probability=True)\n",
        "    grid_param = [{\n",
        "        'tfidf__min_df': [5, 10],\n",
        "        'tfidf__ngram_range': [(1, 3), (1, 6)],\n",
        "        'model__C': [1, 100],\n",
        "        'model__kernel': ['linear']\n",
        "    }]\n",
        "else:\n",
        "    model = LinearSVC(random_state=42, tol=1e-5)\n",
        "    grid_param = {\n",
        "        'tfidf__min_df': [5, 10],\n",
        "        'tfidf__ngram_range': [(1, 3), (1, 6)],\n",
        "        'model__C': [1, 100],\n",
        "        'model__loss': ['hinge']\n",
        "    }\n",
        "\n",
        "training_pipeline = Pipeline(\n",
        "    steps=[('tfidf', TfidfVectorizer(stop_words=\"english\")), ('model', model)])\n",
        "\n",
        "gridSearchProcessor = GridSearchCV(estimator=training_pipeline,\n",
        "                                   param_grid=grid_param,\n",
        "                                   cv=5)\n",
        "\n",
        "gridSearchProcessor.fit(X_train, Y_train)\n",
        "\n",
        "best_params = gridSearchProcessor.best_params_\n",
        "print(\"Best alpha parameter identified by grid search \", best_params)\n",
        "\n",
        "best_result = gridSearchProcessor.best_score_\n",
        "print(\"Best result identified by grid search \", best_result)\n",
        "\n",
        "best_model = gridSearchProcessor.best_estimator_\n",
        "\n",
        "# Step 4 - Model Evaluation\n",
        "\n",
        "Y_pred = best_model.predict(X_test)\n",
        "print('Accuracy Score - ', accuracy_score(Y_test, Y_pred))\n",
        "print(classification_report(Y_test, Y_pred))"
      ]
    },
    {
      "cell_type": "code",
      "execution_count": null,
      "metadata": {
        "colab": {
          "background_save": true
        },
        "id": "ZOFJWQ_CzsRy"
      },
      "outputs": [],
      "source": [
        "clf = DummyClassifier(strategy='most_frequent', random_state=21)\n",
        "clf.fit(X_train, Y_train)\n",
        "Y_pred_baseline = clf.predict(X_test)\n",
        "print ('Accuracy Score - ', accuracy_score(Y_test, Y_pred_baseline))"
      ]
    },
    {
      "cell_type": "code",
      "execution_count": null,
      "metadata": {
        "colab": {
          "background_save": true
        },
        "id": "5M1FQWDfzsRy"
      },
      "outputs": [],
      "source": [
        "## Create a dataframe combining the Title and Description, \n",
        "## Actual and Predicted values that we can explore\n",
        "frame = { 'text': X_test, 'actual': Y_test, 'predicted': Y_pred } \n",
        "result = pd.DataFrame(frame)\n",
        "\n",
        "result[result['actual'] == result['predicted']].sample(2, random_state=21)"
      ]
    },
    {
      "cell_type": "code",
      "execution_count": null,
      "metadata": {
        "colab": {
          "background_save": true
        },
        "id": "5PGWvhiCzsRy"
      },
      "outputs": [],
      "source": [
        "result[result['actual'] != result['predicted']].sample(2, random_state=42)"
      ]
    },
    {
      "attachments": {},
      "cell_type": "markdown",
      "metadata": {
        "id": "4D4ahFhjzsRy"
      },
      "source": [
        "# Reviewing what we've done\n",
        "The activities in this notebook demonstrate a generalizeable approach to doing text classification analysis with SVC algorithms. We move from data preparation through data splitting into training and testing, and then we used cross-validation methods to evaluate the accuracy of the model and to validate the verious hyperparameters that would produce an optimal model. We also found that the accuracy score alone might not be the best measure of the \"best\" iteration of the model that we produce. We learned that understanding the data an making informed interpretations throughout the pipeline is a critical part of the process. "
      ]
    },
    {
      "attachments": {},
      "cell_type": "markdown",
      "metadata": {
        "id": "9LpnEzpyuwEy"
      },
      "source": [
        "# Reflection Activity\n",
        "\n",
        "Now that you've gone through the process of developing a supervised model for classifying text, are there parts of the process that you feel could be concerning for feminist scholarship? What are the opportunities? \n",
        "\n",
        "Thinking through the steps of the process, what kinds of questions should feminist scholars who are interested in doing classification analysis consider as they prepare data for analysis? As they evaluate the accuracy of the model? As they consider testing the model? \n",
        "\n",
        "Finally, what might be some of the opportunities or concerns be for feminist scholars who are interested in using a classification model workflow like this to make predictions about new data? "
      ]
    },
    {
      "attachments": {},
      "cell_type": "markdown",
      "metadata": {
        "id": "9zDqfxTS2Dw-"
      },
      "source": [
        "Supervised models learn from labeled data, and if the training data contains biases or reflects existing societal inequalities, it can perpetuate and amplify those biases – reinforcing stereotypes, gender inequalities, or other discriminatory patterns. As well, text classification models may 'learn' to associate certain words or phrases with specific genders based on the training data and may lead to gendered language and reinforce stereotypes.\n",
        "\n",
        "A critical examination of the training data can help identify biases and work towards mitigating them. This would require a diverse and representative perspective on the data in particular by emphasizing intersectionality to account for the complexities of identity and avoid oversimplification or exclusion.\n",
        "\n",
        "Questions to consider when preparing data:\n",
        "\n",
        "* Does the dataset used for training the model include a diverse range of voices and perspectives, including those marginalized or underrepresented? Are there any biases or imbalances in the data that need to be addressed?\n",
        "\n",
        "* Does the dataset account for intersectionality by considering the ways in which various social identities intersect, such as gender, race, class, and sexuality? Does the dataset adequately capture the experiences and perspectives of individuals with multiple marginalized identities?\n",
        "\n",
        "* How does the dataset handle gendered language and stereotypes? Are there any steps that can be taken to mitigate the reinforcement of gender norms or biases during data preparation?\n",
        "\n",
        "Questions for Evaluating the Accuracy of the mode:\n",
        "\n",
        "* Are the evaluation metrics used for assessing the model's accuracy disaggregated by gender? Do the metrics reveal any disparities in performance across different genders?\n",
        "\n",
        "* Can the model's performance be analyzed to understand if it is consistent across different social identities? Are there any variations in accuracy based on different intersections of gender with race, class, or other factors?\n",
        "\n",
        "Testing the model:\n",
        "\n",
        "* How well does the model generalize to new, unseen data? Is there a need to test the model's performance on additional datasets that capture different perspectives or use cases to ensure its effectiveness across various contexts?\n",
        "\n",
        "* Are there mechanisms for incorporating diverse user perspectives to refine and enhance the model's performance?\n",
        "\n",
        "*  Can the inner workings of the model be made accessible to ensure accountability and to address potential biases?"
      ]
    }
  ],
  "metadata": {
    "accelerator": "GPU",
    "colab": {
      "include_colab_link": true,
      "provenance": []
    },
    "gpuClass": "standard",
    "kernelspec": {
      "display_name": "Python 3",
      "language": "python",
      "name": "python3"
    },
    "language_info": {
      "codemirror_mode": {
        "name": "ipython",
        "version": 3
      },
      "file_extension": ".py",
      "mimetype": "text/x-python",
      "name": "python",
      "nbconvert_exporter": "python",
      "pygments_lexer": "ipython3",
      "version": "3.10.10"
    },
    "toc": {
      "base_numbering": 1,
      "nav_menu": {},
      "number_sections": true,
      "sideBar": true,
      "skip_h1_title": false,
      "title_cell": "Table of Contents",
      "title_sidebar": "Contents",
      "toc_cell": false,
      "toc_position": {},
      "toc_section_display": true,
      "toc_window_display": false
    },
    "varInspector": {
      "cols": {
        "lenName": 16,
        "lenType": 16,
        "lenVar": 40
      },
      "kernels_config": {
        "python": {
          "delete_cmd_postfix": "",
          "delete_cmd_prefix": "del ",
          "library": "var_list.py",
          "varRefreshCmd": "print(var_dic_list())"
        },
        "r": {
          "delete_cmd_postfix": ") ",
          "delete_cmd_prefix": "rm(",
          "library": "var_list.r",
          "varRefreshCmd": "cat(var_dic_list()) "
        }
      },
      "types_to_exclude": [
        "module",
        "function",
        "builtin_function_or_method",
        "instance",
        "_Feature"
      ],
      "window_display": false
    }
  },
  "nbformat": 4,
  "nbformat_minor": 0
}

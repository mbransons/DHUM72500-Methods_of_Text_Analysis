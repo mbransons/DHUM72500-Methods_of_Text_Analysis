{
  "cells": [
    {
      "cell_type": "markdown",
      "metadata": {
        "colab_type": "text",
        "id": "view-in-github"
      },
      "source": [
        "<a href=\"https://colab.research.google.com/github/lmrhody/femethodsS23/blob/main/Week3_notebook.ipynb\" target=\"_parent\"><img src=\"https://colab.research.google.com/assets/colab-badge.svg\" alt=\"Open In Colab\"/></a>"
      ]
    },
    {
      "attachments": {},
      "cell_type": "markdown",
      "metadata": {
        "id": "o9uNBodd_uxs"
      },
      "source": [
        "# Jupyter Notebook for Week 3\n",
        "\n",
        "* Student Name: Michael Smith\n",
        "* Date: 2/17/2023\n",
        "* Assignment Due: \n",
        "* Instructor: Lisa Rhody\n",
        "* Methods of Text Analysis, Spring 2023\n"
      ]
    },
    {
      "cell_type": "markdown",
      "metadata": {
        "id": "D06bG8X7_uxt"
      },
      "source": [
        "For the following assignment, you will be working through exercises from _Natural Language Processing with Python: Analyzing Text with the Natural Langauge Toolkit_ by Steven Bird, Ewan Klein, and Edward Loper. The book can be found at http://www.nltk.org/book/. For those students who are working on their own workbooks using Jupyter and GitHub, it might be helpful to have this window open on 1/2 of your computer monitor and the text of the NLP with Python book open right next to it on the other 1/2 of your screen.\n",
        "\n",
        "For those of you who are using Google Colab, this asignment includes a few extra steps in order to have things work in the Colab environment, so you will not be able to follow the book exactly. \n",
        "\n",
        "Periodically, throughout the notebook, you will be prompted to add a \"markdown\" cell and to write a reflection that connects your secondary reading with the code that you are running in the Jupyter notebook. \n",
        "\n",
        "I encourage you to add cells and to create little experiments as you go. If you do, please alert me to them by inserting a markdown cell directly above or below your experiment to explain what you are doing. "
      ]
    },
    {
      "cell_type": "markdown",
      "metadata": {
        "id": "Wwk6WCCWFtIH"
      },
      "source": [
        "#Getting Started\n",
        " If you are working on your own computer, you'll want to download NLTK on your local machine. There are instructions on how to do this on the NLTK site (https://www.nltk.org/install.html). You can also use the Anaconda Distribution (https://www.anaconda.com/distribution). Once you install the NLTK package, you'll need to install necessary datasets/models for future assignments to work. \n",
        "\n",
        " ## Working with NLTK\n",
        " In order for us to work with NLTK, we need to load it into Google Colab (or Jupyter or the Python interpreter). We do this by first importing NLTK and then identifying what parts of NLTK we want to work with. Once the data is added to your working environment, you can load some into the Google Colab environment. "
      ]
    },
    {
      "cell_type": "code",
      "execution_count": 23,
      "metadata": {
        "id": "ua8GkDU4_uxt",
        "scrolled": true
      },
      "outputs": [
        {
          "name": "stderr",
          "output_type": "stream",
          "text": [
            "[nltk_data] Downloading collection 'book'\n",
            "[nltk_data]    | \n",
            "[nltk_data]    | Downloading package abc to\n",
            "[nltk_data]    |     /Users/michaelsmith/nltk_data...\n",
            "[nltk_data]    |   Package abc is already up-to-date!\n",
            "[nltk_data]    | Downloading package brown to\n",
            "[nltk_data]    |     /Users/michaelsmith/nltk_data...\n",
            "[nltk_data]    |   Package brown is already up-to-date!\n",
            "[nltk_data]    | Downloading package chat80 to\n",
            "[nltk_data]    |     /Users/michaelsmith/nltk_data...\n",
            "[nltk_data]    |   Package chat80 is already up-to-date!\n",
            "[nltk_data]    | Downloading package cmudict to\n",
            "[nltk_data]    |     /Users/michaelsmith/nltk_data...\n",
            "[nltk_data]    |   Package cmudict is already up-to-date!\n",
            "[nltk_data]    | Downloading package conll2000 to\n",
            "[nltk_data]    |     /Users/michaelsmith/nltk_data...\n",
            "[nltk_data]    |   Package conll2000 is already up-to-date!\n",
            "[nltk_data]    | Downloading package conll2002 to\n",
            "[nltk_data]    |     /Users/michaelsmith/nltk_data...\n",
            "[nltk_data]    |   Package conll2002 is already up-to-date!\n",
            "[nltk_data]    | Downloading package dependency_treebank to\n",
            "[nltk_data]    |     /Users/michaelsmith/nltk_data...\n",
            "[nltk_data]    |   Package dependency_treebank is already up-to-date!\n",
            "[nltk_data]    | Downloading package genesis to\n",
            "[nltk_data]    |     /Users/michaelsmith/nltk_data...\n",
            "[nltk_data]    |   Package genesis is already up-to-date!\n",
            "[nltk_data]    | Downloading package gutenberg to\n",
            "[nltk_data]    |     /Users/michaelsmith/nltk_data...\n",
            "[nltk_data]    |   Package gutenberg is already up-to-date!\n",
            "[nltk_data]    | Downloading package ieer to\n",
            "[nltk_data]    |     /Users/michaelsmith/nltk_data...\n",
            "[nltk_data]    |   Package ieer is already up-to-date!\n",
            "[nltk_data]    | Downloading package inaugural to\n",
            "[nltk_data]    |     /Users/michaelsmith/nltk_data...\n",
            "[nltk_data]    |   Package inaugural is already up-to-date!\n",
            "[nltk_data]    | Downloading package movie_reviews to\n",
            "[nltk_data]    |     /Users/michaelsmith/nltk_data...\n",
            "[nltk_data]    |   Package movie_reviews is already up-to-date!\n",
            "[nltk_data]    | Downloading package nps_chat to\n",
            "[nltk_data]    |     /Users/michaelsmith/nltk_data...\n",
            "[nltk_data]    |   Package nps_chat is already up-to-date!\n",
            "[nltk_data]    | Downloading package names to\n",
            "[nltk_data]    |     /Users/michaelsmith/nltk_data...\n",
            "[nltk_data]    |   Package names is already up-to-date!\n",
            "[nltk_data]    | Downloading package ppattach to\n",
            "[nltk_data]    |     /Users/michaelsmith/nltk_data...\n",
            "[nltk_data]    |   Package ppattach is already up-to-date!\n",
            "[nltk_data]    | Downloading package reuters to\n",
            "[nltk_data]    |     /Users/michaelsmith/nltk_data...\n",
            "[nltk_data]    |   Package reuters is already up-to-date!\n",
            "[nltk_data]    | Downloading package senseval to\n",
            "[nltk_data]    |     /Users/michaelsmith/nltk_data...\n",
            "[nltk_data]    |   Package senseval is already up-to-date!\n",
            "[nltk_data]    | Downloading package state_union to\n",
            "[nltk_data]    |     /Users/michaelsmith/nltk_data...\n",
            "[nltk_data]    |   Package state_union is already up-to-date!\n",
            "[nltk_data]    | Downloading package stopwords to\n",
            "[nltk_data]    |     /Users/michaelsmith/nltk_data...\n",
            "[nltk_data]    |   Package stopwords is already up-to-date!\n",
            "[nltk_data]    | Downloading package swadesh to\n",
            "[nltk_data]    |     /Users/michaelsmith/nltk_data...\n",
            "[nltk_data]    |   Package swadesh is already up-to-date!\n",
            "[nltk_data]    | Downloading package timit to\n",
            "[nltk_data]    |     /Users/michaelsmith/nltk_data...\n",
            "[nltk_data]    |   Package timit is already up-to-date!\n",
            "[nltk_data]    | Downloading package treebank to\n",
            "[nltk_data]    |     /Users/michaelsmith/nltk_data...\n",
            "[nltk_data]    |   Package treebank is already up-to-date!\n",
            "[nltk_data]    | Downloading package toolbox to\n",
            "[nltk_data]    |     /Users/michaelsmith/nltk_data...\n",
            "[nltk_data]    |   Package toolbox is already up-to-date!\n",
            "[nltk_data]    | Downloading package udhr to\n",
            "[nltk_data]    |     /Users/michaelsmith/nltk_data...\n",
            "[nltk_data]    |   Package udhr is already up-to-date!\n",
            "[nltk_data]    | Downloading package udhr2 to\n",
            "[nltk_data]    |     /Users/michaelsmith/nltk_data...\n",
            "[nltk_data]    |   Package udhr2 is already up-to-date!\n",
            "[nltk_data]    | Downloading package unicode_samples to\n",
            "[nltk_data]    |     /Users/michaelsmith/nltk_data...\n",
            "[nltk_data]    |   Package unicode_samples is already up-to-date!\n",
            "[nltk_data]    | Downloading package webtext to\n",
            "[nltk_data]    |     /Users/michaelsmith/nltk_data...\n",
            "[nltk_data]    |   Package webtext is already up-to-date!\n",
            "[nltk_data]    | Downloading package wordnet to\n",
            "[nltk_data]    |     /Users/michaelsmith/nltk_data...\n",
            "[nltk_data]    |   Package wordnet is already up-to-date!\n",
            "[nltk_data]    | Downloading package wordnet_ic to\n",
            "[nltk_data]    |     /Users/michaelsmith/nltk_data...\n",
            "[nltk_data]    |   Package wordnet_ic is already up-to-date!\n",
            "[nltk_data]    | Downloading package words to\n",
            "[nltk_data]    |     /Users/michaelsmith/nltk_data...\n",
            "[nltk_data]    |   Package words is already up-to-date!\n",
            "[nltk_data]    | Downloading package maxent_treebank_pos_tagger to\n",
            "[nltk_data]    |     /Users/michaelsmith/nltk_data...\n",
            "[nltk_data]    |   Package maxent_treebank_pos_tagger is already up-\n",
            "[nltk_data]    |       to-date!\n",
            "[nltk_data]    | Downloading package maxent_ne_chunker to\n",
            "[nltk_data]    |     /Users/michaelsmith/nltk_data...\n",
            "[nltk_data]    |   Package maxent_ne_chunker is already up-to-date!\n",
            "[nltk_data]    | Downloading package universal_tagset to\n",
            "[nltk_data]    |     /Users/michaelsmith/nltk_data...\n",
            "[nltk_data]    |   Package universal_tagset is already up-to-date!\n",
            "[nltk_data]    | Downloading package punkt to\n",
            "[nltk_data]    |     /Users/michaelsmith/nltk_data...\n",
            "[nltk_data]    |   Package punkt is already up-to-date!\n",
            "[nltk_data]    | Downloading package book_grammars to\n",
            "[nltk_data]    |     /Users/michaelsmith/nltk_data...\n",
            "[nltk_data]    |   Package book_grammars is already up-to-date!\n",
            "[nltk_data]    | Downloading package city_database to\n",
            "[nltk_data]    |     /Users/michaelsmith/nltk_data...\n",
            "[nltk_data]    |   Package city_database is already up-to-date!\n",
            "[nltk_data]    | Downloading package tagsets to\n",
            "[nltk_data]    |     /Users/michaelsmith/nltk_data...\n",
            "[nltk_data]    |   Package tagsets is already up-to-date!\n",
            "[nltk_data]    | Downloading package panlex_swadesh to\n",
            "[nltk_data]    |     /Users/michaelsmith/nltk_data...\n",
            "[nltk_data]    |   Package panlex_swadesh is already up-to-date!\n",
            "[nltk_data]    | Downloading package averaged_perceptron_tagger to\n",
            "[nltk_data]    |     /Users/michaelsmith/nltk_data...\n",
            "[nltk_data]    |   Package averaged_perceptron_tagger is already up-\n",
            "[nltk_data]    |       to-date!\n",
            "[nltk_data]    | \n",
            "[nltk_data]  Done downloading collection book\n"
          ]
        },
        {
          "data": {
            "text/plain": [
              "True"
            ]
          },
          "execution_count": 23,
          "metadata": {},
          "output_type": "execute_result"
        }
      ],
      "source": [
        "## first import the NLTK package\n",
        "import nltk \n",
        "## then use Python to download the \"book\" section of NLTK\n",
        "nltk.download(\"book\")"
      ]
    },
    {
      "cell_type": "markdown",
      "metadata": {
        "id": "ORHMGc3XHtUD"
      },
      "source": [
        "When you have run the above cell correctly, the last two lines should read \"Done Downloading collection book and then \"True.\" \n",
        "\n",
        "In this next part, you're going to use Python to tell the computer \"from NLTK's book module, load all items.\" The book module contains the data that you'll need for this chapter, which is a corpus of book text that has been pre-prepared for use with NLTK. It's important to know that these texts are already cleaned for you, as it will be much neater and easier to work with than if you were working with another plain text file that was not prepared in advance. We'll look at files that have not been prepared later, but for now, let's work with the files that come as part of NLTK. "
      ]
    },
    {
      "cell_type": "code",
      "execution_count": 2,
      "metadata": {
        "id": "P5Y33hT4Dxa7"
      },
      "outputs": [
        {
          "name": "stdout",
          "output_type": "stream",
          "text": [
            "*** Introductory Examples for the NLTK Book ***\n",
            "Loading text1, ..., text9 and sent1, ..., sent9\n",
            "Type the name of the text or sentence to view it.\n",
            "Type: 'texts()' or 'sents()' to list the materials.\n",
            "text1: Moby Dick by Herman Melville 1851\n",
            "text2: Sense and Sensibility by Jane Austen 1811\n",
            "text3: The Book of Genesis\n",
            "text4: Inaugural Address Corpus\n",
            "text5: Chat Corpus\n",
            "text6: Monty Python and the Holy Grail\n",
            "text7: Wall Street Journal\n",
            "text8: Personals Corpus\n",
            "text9: The Man Who Was Thursday by G . K . Chesterton 1908\n"
          ]
        }
      ],
      "source": [
        "## We are telling Colab to download all the data inside the book package in NLTK. \n",
        "from nltk.book import *"
      ]
    },
    {
      "cell_type": "markdown",
      "metadata": {
        "id": "I9Ic_u71IhH9"
      },
      "source": [
        "We can test the success of our import by simply calling up the label that has been applied to the texts. In this case, the texts are labeled text1, text2, text3, etc. "
      ]
    },
    {
      "cell_type": "code",
      "execution_count": 69,
      "metadata": {
        "id": "5BoNgbHpFNgf"
      },
      "outputs": [],
      "source": [
        "text1\n",
        "mobydick = text1"
      ]
    },
    {
      "cell_type": "code",
      "execution_count": 4,
      "metadata": {
        "id": "XEXyMtFcFQIg"
      },
      "outputs": [],
      "source": [
        "sands = text2"
      ]
    },
    {
      "cell_type": "markdown",
      "metadata": {
        "id": "5VpfmSVsIx25"
      },
      "source": [
        "By importing the NLTK book package and then the book corpora, we have access to 9 different full text books. In the next sections, we're going to search, count, and manipulate texts using NLTK. "
      ]
    },
    {
      "cell_type": "markdown",
      "metadata": {
        "id": "q-iecc7I_uxy"
      },
      "source": [
        "# Searching Text "
      ]
    },
    {
      "cell_type": "code",
      "execution_count": 5,
      "metadata": {
        "id": "klGLLc7K_uxy"
      },
      "outputs": [
        {
          "name": "stdout",
          "output_type": "stream",
          "text": [
            "Displaying 11 of 11 matches:\n",
            "ong the former , one was of a most monstrous size . ... This came towards us , \n",
            "ON OF THE PSALMS . \" Touching that monstrous bulk of the whale or ork we have r\n",
            "ll over with a heathenish array of monstrous clubs and spears . Some were thick\n",
            "d as you gazed , and wondered what monstrous cannibal and savage could ever hav\n",
            "that has survived the flood ; most monstrous and most mountainous ! That Himmal\n",
            "they might scout at Moby Dick as a monstrous fable , or still worse and more de\n",
            "th of Radney .'\" CHAPTER 55 Of the Monstrous Pictures of Whales . I shall ere l\n",
            "ing Scenes . In connexion with the monstrous pictures of whales , I am strongly\n",
            "ere to enter upon those still more monstrous stories of them which are to be fo\n",
            "ght have been rummaged out of this monstrous cabinet there is no telling . But \n",
            "of Whale - Bones ; for Whales of a monstrous size are oftentimes cast up dead u\n"
          ]
        }
      ],
      "source": [
        "mobydick.concordance(\"monstrous\")"
      ]
    },
    {
      "cell_type": "markdown",
      "metadata": {
        "id": "oSS2INgG_uxz"
      },
      "source": [
        "**REFLECTION:** In _The Textual Condition_, McGann writes: \"Both the practice and the study of human culture comprise a network of symbolic exchanges. Because human beings are not angels, these exchanges always involve material negotiations.\" What is the \"symbolic exchange\" that happens in creating a concordance like the one above? How are these \"material negotiations\" or not? Consider how this may or may not relate to the use of the method \"similar\" below. "
      ]
    },
    {
      "attachments": {},
      "cell_type": "markdown",
      "metadata": {
        "id": "Gef3spsFPbrW"
      },
      "source": [
        "NLTK is a technology system that allows its user to apply various functions on a text, for example the concordance method which needs a keyword argument passed. The results return a list of contextual phrases with the keyword centered and strings of characters capped front and back. The algorithm behind the function allows the user to extract samples from a text and put it into a new context. The material practice of producing this data involves decisions I make with search, what the author writes in the text, and what the authors of the algorithm provides to us. Any meanings possibly derived from this data connects as much to this moment in time that allows us to readily produce the data in the first place."
      ]
    },
    {
      "cell_type": "code",
      "execution_count": 6,
      "metadata": {
        "id": "mG7YjUYy_uxz"
      },
      "outputs": [
        {
          "name": "stdout",
          "output_type": "stream",
          "text": [
            "true contemptible christian abundant few part mean careful puzzled\n",
            "mystifying passing curious loving wise doleful gamesome singular\n",
            "delightfully perilous fearless\n"
          ]
        }
      ],
      "source": [
        "text1.similar(\"monstrous\")"
      ]
    },
    {
      "cell_type": "code",
      "execution_count": 7,
      "metadata": {
        "id": "Tt6xK5s-_ux0"
      },
      "outputs": [
        {
          "name": "stdout",
          "output_type": "stream",
          "text": [
            "am_glad a_pretty a_lucky is_pretty be_glad\n"
          ]
        }
      ],
      "source": [
        "text2.common_contexts([\"monstrous\", \"very\"])"
      ]
    },
    {
      "cell_type": "markdown",
      "metadata": {
        "id": "NNKEVu3D_ux0"
      },
      "source": [
        "**REFLECTION:** How does your sense of \"context\" and \"symbolic exchange\" change (or not) when you view the frequency of a word's use distributed across a novel using a \"dispersion plot.\"? "
      ]
    },
    {
      "attachments": {},
      "cell_type": "markdown",
      "metadata": {},
      "source": [
        "The new context created by the visualization of counts across time suggests we might be able to infer changes in meaning over a period (the length of a book or in the example below across inagural speeches over time). The choice of keywords passed to the dispersion_plot method are as important as the resulting intention to interogate authors' preoccupations overtime. Even the ability to readily create such a search must be located in our present culture's ability to do so with such ease."
      ]
    },
    {
      "cell_type": "code",
      "execution_count": 8,
      "metadata": {
        "id": "vcbqooX7_ux0"
      },
      "outputs": [
        {
          "data": {
            "image/png": "[encoded data removed]",
            "text/plain": [
              "<Figure size 640x480 with 1 Axes>"
            ]
          },
          "metadata": {},
          "output_type": "display_data"
        }
      ],
      "source": [
        "text4.dispersion_plot([\"citizens\", \"democracy\", \"freedom\", \"duties\", \"America\"])"
      ]
    },
    {
      "cell_type": "markdown",
      "metadata": {
        "id": "McB-iAQx_ux0"
      },
      "source": [
        "# 1.4 Counting Vocabulary"
      ]
    },
    {
      "cell_type": "markdown",
      "metadata": {
        "id": "cydUl2cO_ux1"
      },
      "source": [
        "Follow along in http://www.nltk.org/book/ch01.html by reading the description and then running the cells below. What do the authors mean by a \"token\"? How is a \"token\" different from \"text\"? "
      ]
    },
    {
      "attachments": {},
      "cell_type": "markdown",
      "metadata": {},
      "source": [
        "A list of tokens is a string of characters that are created from a text by delineating character sets using separators such as a space character, ' '. So for example the text, 'Bring me four fried chickens and a coke,' could be divided into eight token strings ['Bring', 'me', 'four', ...]. Additionally punctuation symbols can be placed into individual tokens and at times tokens of characters that are fragments from symbols and letters: 'tight-lipped' is tokenized as ['tight, '-', 'lipped']."
      ]
    },
    {
      "cell_type": "code",
      "execution_count": 9,
      "metadata": {
        "id": "2vurclQK_ux1"
      },
      "outputs": [
        {
          "data": {
            "text/plain": [
              "44764"
            ]
          },
          "execution_count": 9,
          "metadata": {},
          "output_type": "execute_result"
        }
      ],
      "source": [
        "len(text3)"
      ]
    },
    {
      "cell_type": "code",
      "execution_count": 97,
      "metadata": {
        "id": "5xVUYDv1_ux1",
        "scrolled": true
      },
      "outputs": [],
      "source": [
        "text3_tokens = sorted(set(text3))"
      ]
    },
    {
      "cell_type": "code",
      "execution_count": 11,
      "metadata": {
        "id": "5MXfhmDT_ux1"
      },
      "outputs": [
        {
          "data": {
            "text/plain": [
              "2789"
            ]
          },
          "execution_count": 11,
          "metadata": {},
          "output_type": "execute_result"
        }
      ],
      "source": [
        "len(set(text3))"
      ]
    },
    {
      "cell_type": "markdown",
      "metadata": {
        "id": "k6cDRy9K_ux2"
      },
      "source": [
        "What is the difference between \"word types\" and a \"types\"? How are these meanings distinct from other uses of the word \"types\" that you are familiar with? "
      ]
    },
    {
      "attachments": {},
      "cell_type": "markdown",
      "metadata": {},
      "source": [
        "'Word types' are forms or spellings of words which can be differentiated from the broader 'types' which can include punctuation and other symbols. "
      ]
    },
    {
      "cell_type": "code",
      "execution_count": 12,
      "metadata": {
        "id": "NffnyGlx_ux2"
      },
      "outputs": [
        {
          "data": {
            "text/plain": [
              "0.06230453042623537"
            ]
          },
          "execution_count": 12,
          "metadata": {},
          "output_type": "execute_result"
        }
      ],
      "source": [
        "len(set(text3)) / len(text3)"
      ]
    },
    {
      "cell_type": "code",
      "execution_count": 14,
      "metadata": {},
      "outputs": [
        {
          "data": {
            "text/plain": [
              "16.050197203298673"
            ]
          },
          "execution_count": 14,
          "metadata": {},
          "output_type": "execute_result"
        }
      ],
      "source": [
        "len(text3) / len(set(text3))"
      ]
    },
    {
      "cell_type": "code",
      "execution_count": 15,
      "metadata": {
        "id": "QxIYa0BU_ux2"
      },
      "outputs": [
        {
          "data": {
            "text/plain": [
              "5"
            ]
          },
          "execution_count": 15,
          "metadata": {},
          "output_type": "execute_result"
        }
      ],
      "source": [
        "text3.count(\"smote\")"
      ]
    },
    {
      "cell_type": "code",
      "execution_count": 16,
      "metadata": {
        "id": "OZJK3qMx_ux3"
      },
      "outputs": [
        {
          "data": {
            "text/plain": [
              "1.457806031353621"
            ]
          },
          "execution_count": 16,
          "metadata": {},
          "output_type": "execute_result"
        }
      ],
      "source": [
        "100 * text4.count('a') / len(text4)  "
      ]
    },
    {
      "cell_type": "code",
      "execution_count": 17,
      "metadata": {
        "id": "UjQe4XWr_ux4"
      },
      "outputs": [],
      "source": [
        "def lexical_diversity(text):\n",
        "    return len(set(text)) / len(text)\n",
        "def percentage(count, total):\n",
        "    return 100 * count / total"
      ]
    },
    {
      "cell_type": "code",
      "execution_count": 18,
      "metadata": {
        "id": "xPxOLfxl_ux4"
      },
      "outputs": [
        {
          "data": {
            "text/plain": [
              "0.06230453042623537"
            ]
          },
          "execution_count": 18,
          "metadata": {},
          "output_type": "execute_result"
        }
      ],
      "source": [
        "lexical_diversity(text3)"
      ]
    },
    {
      "cell_type": "code",
      "execution_count": 19,
      "metadata": {
        "id": "X-iQkkJo_ux4"
      },
      "outputs": [
        {
          "data": {
            "text/plain": [
              "0.13477005109975562"
            ]
          },
          "execution_count": 19,
          "metadata": {},
          "output_type": "execute_result"
        }
      ],
      "source": [
        "lexical_diversity(text5)"
      ]
    },
    {
      "cell_type": "code",
      "execution_count": 20,
      "metadata": {
        "id": "d_XwAkUn_ux5"
      },
      "outputs": [
        {
          "data": {
            "text/plain": [
              "80.0"
            ]
          },
          "execution_count": 20,
          "metadata": {},
          "output_type": "execute_result"
        }
      ],
      "source": [
        "percentage(4, 5)"
      ]
    },
    {
      "cell_type": "code",
      "execution_count": 21,
      "metadata": {
        "id": "_VbLmQNK_ux5"
      },
      "outputs": [
        {
          "data": {
            "text/plain": [
              "1.457806031353621"
            ]
          },
          "execution_count": 21,
          "metadata": {},
          "output_type": "execute_result"
        }
      ],
      "source": [
        "percentage(text4.count('a'), len(text4))"
      ]
    },
    {
      "cell_type": "markdown",
      "metadata": {
        "id": "mFrIFmIu_ux5"
      },
      "source": [
        "**REFLECTION:** McGann writes on page 4 that \"Today, texts are largely imagined as scenes of reading rather than scenes of writing. This 'readerly' view of text has been most completely elaborated through the modern hermeneutical tradition in which text is not something we _make_ but something we _interpret_.\" How does McGann's view of the text relate to the \"reading\" that happens in this notebook? Consider his later question: \"Where--and how--does the activity of reading take place?\""
      ]
    },
    {
      "attachments": {},
      "cell_type": "markdown",
      "metadata": {},
      "source": [
        "The application of a variety of algorithmic methods to a text effectively are tools for 'reading'. They allow a relationship with the text that includes tools of sorting, delineating, and counting and how we interpret this reading are dependant on these tools."
      ]
    },
    {
      "cell_type": "markdown",
      "metadata": {
        "id": "d5tFze_o_ux5"
      },
      "source": [
        "# Chapter 2 Accessing Text Corpora and Lexical Resources"
      ]
    },
    {
      "cell_type": "markdown",
      "metadata": {
        "id": "VBwa9iUc_ux5"
      },
      "source": [
        "Ok, now we're going to shift a bit and look at Chapter 2 of the NLP book http://www.nltk.org/book/ch02.html. (Don't worry, we'll come back to the rest of Chapter 1 next week.) McGann talks about different _types_ of text in his introduction: \"Even the most 'informational' text comprises an interactive mechanism of communicative exchange.\" We're going to look at different texts in the NLTK corpus. Again, the easiest way to proceed here is to open Chapter 2 in a window on one side of your monitor and this notebook in the other and to read simultaneously. "
      ]
    },
    {
      "cell_type": "code",
      "execution_count": 24,
      "metadata": {
        "id": "Q_G273wc_ux6"
      },
      "outputs": [
        {
          "data": {
            "text/plain": [
              "['austen-emma.txt',\n",
              " 'austen-persuasion.txt',\n",
              " 'austen-sense.txt',\n",
              " 'bible-kjv.txt',\n",
              " 'blake-poems.txt',\n",
              " 'bryant-stories.txt',\n",
              " 'burgess-busterbrown.txt',\n",
              " 'carroll-alice.txt',\n",
              " 'chesterton-ball.txt',\n",
              " 'chesterton-brown.txt',\n",
              " 'chesterton-thursday.txt',\n",
              " 'edgeworth-parents.txt',\n",
              " 'melville-moby_dick.txt',\n",
              " 'milton-paradise.txt',\n",
              " 'shakespeare-caesar.txt',\n",
              " 'shakespeare-hamlet.txt',\n",
              " 'shakespeare-macbeth.txt',\n",
              " 'whitman-leaves.txt']"
            ]
          },
          "execution_count": 24,
          "metadata": {},
          "output_type": "execute_result"
        }
      ],
      "source": [
        "# remember, we already ran import nltk earlier in the notebook\n",
        "nltk.corpus.gutenberg.fileids()"
      ]
    },
    {
      "cell_type": "code",
      "execution_count": 25,
      "metadata": {
        "id": "2JMAtkSY_ux6"
      },
      "outputs": [
        {
          "data": {
            "text/plain": [
              "192427"
            ]
          },
          "execution_count": 25,
          "metadata": {},
          "output_type": "execute_result"
        }
      ],
      "source": [
        "emma = nltk.corpus.gutenberg.words('austen-emma.txt')\n",
        "len(emma)"
      ]
    },
    {
      "cell_type": "code",
      "execution_count": 26,
      "metadata": {
        "id": "xgc4ewO3_ux6"
      },
      "outputs": [
        {
          "name": "stdout",
          "output_type": "stream",
          "text": [
            "Displaying 25 of 37 matches:\n",
            "er father , was sometimes taken by surprize at his being still able to pity ` \n",
            "hem do the other any good .\" \" You surprize me ! Emma must do Harriet good : a\n",
            "Knightley actually looked red with surprize and displeasure , as he stood up ,\n",
            "r . Elton , and found to his great surprize , that Mr . Elton was actually on \n",
            "d aid .\" Emma saw Mrs . Weston ' s surprize , and felt that it must be great ,\n",
            "father was quite taken up with the surprize of so sudden a journey , and his f\n",
            "y , in all the favouring warmth of surprize and conjecture . She was , moreove\n",
            "he appeared , to have her share of surprize , introduction , and pleasure . Th\n",
            "ir plans ; and it was an agreeable surprize to her , therefore , to perceive t\n",
            "talking aunt had taken me quite by surprize , it must have been the death of m\n",
            "f all the dialogue which ensued of surprize , and inquiry , and congratulation\n",
            " the present . They might chuse to surprize her .\" Mrs . Cole had many to agre\n",
            "the mode of it , the mystery , the surprize , is more like a young woman ' s s\n",
            " to her song took her agreeably by surprize -- a second , slightly but correct\n",
            "\" \" Oh ! no -- there is nothing to surprize one at all .-- A pretty fortune ; \n",
            "t to be considered . Emma ' s only surprize was that Jane Fairfax should accep\n",
            "of your admiration may take you by surprize some day or other .\" Mr . Knightle\n",
            "ation for her will ever take me by surprize .-- I never had a thought of her i\n",
            " expected by the best judges , for surprize -- but there was great joy . Mr . \n",
            " sound of at first , without great surprize . \" So unreasonably early !\" she w\n",
            "d Frank Churchill , with a look of surprize and displeasure .-- \" That is easy\n",
            "; and Emma could imagine with what surprize and mortification she must be retu\n",
            "tled that Jane should go . Quite a surprize to me ! I had not the least idea !\n",
            " . It is impossible to express our surprize . He came to speak to his father o\n",
            "g engaged !\" Emma even jumped with surprize ;-- and , horror - struck , exclai\n"
          ]
        }
      ],
      "source": [
        "emma = nltk.Text(nltk.corpus.gutenberg.words('austen-emma.txt'))\n",
        "emma.concordance(\"surprize\")"
      ]
    },
    {
      "cell_type": "code",
      "execution_count": 27,
      "metadata": {
        "id": "W67rxKm0_ux6"
      },
      "outputs": [
        {
          "data": {
            "text/plain": [
              "['austen-emma.txt',\n",
              " 'austen-persuasion.txt',\n",
              " 'austen-sense.txt',\n",
              " 'bible-kjv.txt',\n",
              " 'blake-poems.txt',\n",
              " 'bryant-stories.txt',\n",
              " 'burgess-busterbrown.txt',\n",
              " 'carroll-alice.txt',\n",
              " 'chesterton-ball.txt',\n",
              " 'chesterton-brown.txt',\n",
              " 'chesterton-thursday.txt',\n",
              " 'edgeworth-parents.txt',\n",
              " 'melville-moby_dick.txt',\n",
              " 'milton-paradise.txt',\n",
              " 'shakespeare-caesar.txt',\n",
              " 'shakespeare-hamlet.txt',\n",
              " 'shakespeare-macbeth.txt',\n",
              " 'whitman-leaves.txt']"
            ]
          },
          "execution_count": 27,
          "metadata": {},
          "output_type": "execute_result"
        }
      ],
      "source": [
        "from nltk.corpus import gutenberg\n",
        "gutenberg.fileids()"
      ]
    },
    {
      "cell_type": "code",
      "execution_count": 28,
      "metadata": {
        "id": "UJQDZAK-_ux8"
      },
      "outputs": [],
      "source": [
        "emma = gutenberg.words('austen-emma.txt')"
      ]
    },
    {
      "cell_type": "code",
      "execution_count": 30,
      "metadata": {
        "id": "qtX7el1R_ux8"
      },
      "outputs": [
        {
          "name": "stderr",
          "output_type": "stream",
          "text": [
            "[nltk_data] Downloading package punkt to\n",
            "[nltk_data]     /Users/michaelsmith/nltk_data...\n",
            "[nltk_data]   Package punkt is already up-to-date!\n"
          ]
        },
        {
          "data": {
            "text/plain": [
              "True"
            ]
          },
          "execution_count": 30,
          "metadata": {},
          "output_type": "execute_result"
        }
      ],
      "source": [
        "nltk.download('punkt')"
      ]
    },
    {
      "cell_type": "code",
      "execution_count": 31,
      "metadata": {
        "id": "SgXmipbp_ux8"
      },
      "outputs": [
        {
          "name": "stdout",
          "output_type": "stream",
          "text": [
            "5 25 26 austen-emma.txt\n",
            "5 26 17 austen-persuasion.txt\n",
            "5 28 22 austen-sense.txt\n",
            "4 34 79 bible-kjv.txt\n",
            "5 19 5 blake-poems.txt\n",
            "4 19 14 bryant-stories.txt\n",
            "4 18 12 burgess-busterbrown.txt\n",
            "4 20 13 carroll-alice.txt\n",
            "5 20 12 chesterton-ball.txt\n",
            "5 23 11 chesterton-brown.txt\n",
            "5 19 11 chesterton-thursday.txt\n",
            "4 21 25 edgeworth-parents.txt\n",
            "5 26 15 melville-moby_dick.txt\n",
            "5 52 11 milton-paradise.txt\n",
            "4 12 9 shakespeare-caesar.txt\n",
            "4 12 8 shakespeare-hamlet.txt\n",
            "4 12 7 shakespeare-macbeth.txt\n",
            "5 36 12 whitman-leaves.txt\n"
          ]
        }
      ],
      "source": [
        "for fileid in gutenberg.fileids():\n",
        "    num_chars = len(gutenberg.raw(fileid))\n",
        "    num_words = len(gutenberg.words(fileid))\n",
        "    num_sents = len(gutenberg.sents(fileid))\n",
        "    num_vocab = len(set(w.lower() for w in gutenberg.words(fileid)))\n",
        "    print(round(num_chars/num_words), round(num_words/num_sents), round(num_words/num_vocab), fileid)"
      ]
    },
    {
      "cell_type": "code",
      "execution_count": 32,
      "metadata": {
        "id": "CZ5_dfk4_ux9"
      },
      "outputs": [
        {
          "data": {
            "text/plain": [
              "[['[', 'The', 'Tragedie', 'of', 'Macbeth', 'by', 'William', 'Shakespeare', '1603', ']'], ['Actus', 'Primus', '.'], ...]"
            ]
          },
          "execution_count": 32,
          "metadata": {},
          "output_type": "execute_result"
        }
      ],
      "source": [
        "macbeth_sentences = gutenberg.sents('shakespeare-macbeth.txt')\n",
        "macbeth_sentences"
      ]
    },
    {
      "cell_type": "markdown",
      "metadata": {
        "id": "eOax-YCB_ux9"
      },
      "source": [
        "# 1.2 Web and Chat Text"
      ]
    },
    {
      "cell_type": "code",
      "execution_count": 33,
      "metadata": {
        "id": "Ot_7Zux7_ux9"
      },
      "outputs": [
        {
          "name": "stdout",
          "output_type": "stream",
          "text": [
            "firefox.txt Cookie Manager: \"Don't allow sites that set removed cookies to se ...\n",
            "grail.txt SCENE 1: [wind] [clop clop clop] \n",
            "KING ARTHUR: Whoa there!  [clop ...\n",
            "overheard.txt White guy: So, do you have any plans for this evening?\n",
            "Asian girl ...\n",
            "pirates.txt PIRATES OF THE CARRIBEAN: DEAD MAN'S CHEST, by Ted Elliott & Terr ...\n",
            "singles.txt 25 SEXY MALE, seeks attrac older single lady, for discreet encoun ...\n",
            "wine.txt Lovely delicate, fragrant Rhone wine. Polished leather and strawb ...\n"
          ]
        }
      ],
      "source": [
        "from nltk.corpus import webtext\n",
        "for fileid in webtext.fileids():\n",
        "    print(fileid, webtext.raw(fileid)[:65], '...')"
      ]
    },
    {
      "cell_type": "code",
      "execution_count": 34,
      "metadata": {
        "id": "VmeiWa_j_ux9"
      },
      "outputs": [
        {
          "data": {
            "text/plain": [
              "['i',\n",
              " 'do',\n",
              " \"n't\",\n",
              " 'want',\n",
              " 'hot',\n",
              " 'pics',\n",
              " 'of',\n",
              " 'a',\n",
              " 'female',\n",
              " ',',\n",
              " 'I',\n",
              " 'can',\n",
              " 'look',\n",
              " 'in',\n",
              " 'a',\n",
              " 'mirror',\n",
              " '.']"
            ]
          },
          "execution_count": 34,
          "metadata": {},
          "output_type": "execute_result"
        }
      ],
      "source": [
        "from nltk.corpus import nps_chat\n",
        "chatroom = nps_chat.posts('10-19-20s_706posts.xml')\n",
        "chatroom[123]"
      ]
    },
    {
      "cell_type": "code",
      "execution_count": 35,
      "metadata": {
        "id": "Rkp6Ztld_ux-"
      },
      "outputs": [
        {
          "data": {
            "text/plain": [
              "['adventure',\n",
              " 'belles_lettres',\n",
              " 'editorial',\n",
              " 'fiction',\n",
              " 'government',\n",
              " 'hobbies',\n",
              " 'humor',\n",
              " 'learned',\n",
              " 'lore',\n",
              " 'mystery',\n",
              " 'news',\n",
              " 'religion',\n",
              " 'reviews',\n",
              " 'romance',\n",
              " 'science_fiction']"
            ]
          },
          "execution_count": 35,
          "metadata": {},
          "output_type": "execute_result"
        }
      ],
      "source": [
        "from nltk.corpus import brown\n",
        "brown.categories()"
      ]
    },
    {
      "cell_type": "markdown",
      "metadata": {
        "id": "s2UGSLpe_uyS"
      },
      "source": [
        "# 1.3 Brown Corpus"
      ]
    },
    {
      "cell_type": "code",
      "execution_count": 36,
      "metadata": {
        "id": "9K1L-zit_uyT"
      },
      "outputs": [
        {
          "name": "stdout",
          "output_type": "stream",
          "text": [
            "can: 94 could: 87 may: 93 might: 38 must: 53 will: 389 "
          ]
        }
      ],
      "source": [
        "from nltk.corpus import brown\n",
        "news_text = brown.words(categories='news')\n",
        "fdist = nltk.FreqDist(w.lower() for w in news_text)\n",
        "modals = ['can','could','may','might','must','will']\n",
        "for m in modals:\n",
        "    print(m + \":\", fdist[m], end=\" \")"
      ]
    },
    {
      "cell_type": "code",
      "execution_count": 37,
      "metadata": {
        "id": "ovf2Qzxy_uyT"
      },
      "outputs": [
        {
          "data": {
            "text/plain": [
              "[['The', 'Fulton', 'County', 'Grand', 'Jury', 'said', 'Friday', 'an', 'investigation', 'of', \"Atlanta's\", 'recent', 'primary', 'election', 'produced', '``', 'no', 'evidence', \"''\", 'that', 'any', 'irregularities', 'took', 'place', '.'], ['The', 'jury', 'further', 'said', 'in', 'term-end', 'presentments', 'that', 'the', 'City', 'Executive', 'Committee', ',', 'which', 'had', 'over-all', 'charge', 'of', 'the', 'election', ',', '``', 'deserves', 'the', 'praise', 'and', 'thanks', 'of', 'the', 'City', 'of', 'Atlanta', \"''\", 'for', 'the', 'manner', 'in', 'which', 'the', 'election', 'was', 'conducted', '.'], ...]"
            ]
          },
          "execution_count": 37,
          "metadata": {},
          "output_type": "execute_result"
        }
      ],
      "source": [
        "brown.sents(categories=['news','editorial','reviews'])"
      ]
    },
    {
      "cell_type": "code",
      "execution_count": 38,
      "metadata": {
        "id": "zrI9nzf0_uyT"
      },
      "outputs": [
        {
          "name": "stdout",
          "output_type": "stream",
          "text": [
            "                  can could   may might  must  will \n",
            "           news    93    86    66    38    50   389 \n",
            "        relgion     0     0     0     0     0     0 \n",
            "        hobbies   268    58   131    22    83   264 \n",
            "science_fiction    16    49     4    12     8    16 \n",
            "        romance    74   193    11    51    45    43 \n",
            "          humor    16    30     8     8     9    13 \n"
          ]
        }
      ],
      "source": [
        "cfd = nltk.ConditionalFreqDist(\n",
        "        (genre,word)\n",
        "        for genre in brown.categories()\n",
        "        for word in brown.words(categories=genre))\n",
        "genres = ['news', 'relgion', 'hobbies', 'science_fiction', 'romance', 'humor']\n",
        "modals = ['can', 'could', 'may', 'might', 'must', 'will']\n",
        "cfd.tabulate(conditions=genres, samples=modals)"
      ]
    },
    {
      "cell_type": "code",
      "execution_count": 39,
      "metadata": {
        "id": "ZA1KI5gR_uyT"
      },
      "outputs": [
        {
          "data": {
            "text/plain": [
              "['1789-Washington.txt',\n",
              " '1793-Washington.txt',\n",
              " '1797-Adams.txt',\n",
              " '1801-Jefferson.txt',\n",
              " '1805-Jefferson.txt',\n",
              " '1809-Madison.txt',\n",
              " '1813-Madison.txt',\n",
              " '1817-Monroe.txt',\n",
              " '1821-Monroe.txt',\n",
              " '1825-Adams.txt',\n",
              " '1829-Jackson.txt',\n",
              " '1833-Jackson.txt',\n",
              " '1837-VanBuren.txt',\n",
              " '1841-Harrison.txt',\n",
              " '1845-Polk.txt',\n",
              " '1849-Taylor.txt',\n",
              " '1853-Pierce.txt',\n",
              " '1857-Buchanan.txt',\n",
              " '1861-Lincoln.txt',\n",
              " '1865-Lincoln.txt',\n",
              " '1869-Grant.txt',\n",
              " '1873-Grant.txt',\n",
              " '1877-Hayes.txt',\n",
              " '1881-Garfield.txt',\n",
              " '1885-Cleveland.txt',\n",
              " '1889-Harrison.txt',\n",
              " '1893-Cleveland.txt',\n",
              " '1897-McKinley.txt',\n",
              " '1901-McKinley.txt',\n",
              " '1905-Roosevelt.txt',\n",
              " '1909-Taft.txt',\n",
              " '1913-Wilson.txt',\n",
              " '1917-Wilson.txt',\n",
              " '1921-Harding.txt',\n",
              " '1925-Coolidge.txt',\n",
              " '1929-Hoover.txt',\n",
              " '1933-Roosevelt.txt',\n",
              " '1937-Roosevelt.txt',\n",
              " '1941-Roosevelt.txt',\n",
              " '1945-Roosevelt.txt',\n",
              " '1949-Truman.txt',\n",
              " '1953-Eisenhower.txt',\n",
              " '1957-Eisenhower.txt',\n",
              " '1961-Kennedy.txt',\n",
              " '1965-Johnson.txt',\n",
              " '1969-Nixon.txt',\n",
              " '1973-Nixon.txt',\n",
              " '1977-Carter.txt',\n",
              " '1981-Reagan.txt',\n",
              " '1985-Reagan.txt',\n",
              " '1989-Bush.txt',\n",
              " '1993-Clinton.txt',\n",
              " '1997-Clinton.txt',\n",
              " '2001-Bush.txt',\n",
              " '2005-Bush.txt',\n",
              " '2009-Obama.txt',\n",
              " '2013-Obama.txt',\n",
              " '2017-Trump.txt',\n",
              " '2021-Biden.txt']"
            ]
          },
          "execution_count": 39,
          "metadata": {},
          "output_type": "execute_result"
        }
      ],
      "source": [
        "from nltk.corpus import inaugural\n",
        "inaugural.fileids()"
      ]
    },
    {
      "cell_type": "code",
      "execution_count": 95,
      "metadata": {
        "id": "PNjkseDQ_uyU"
      },
      "outputs": [],
      "source": [
        "from nltk.corpus import reuters\n",
        "reuters_ids = reuters.fileids()"
      ]
    },
    {
      "cell_type": "code",
      "execution_count": 96,
      "metadata": {
        "id": "kR8LBPHp_uyU"
      },
      "outputs": [],
      "source": [
        "reuters_cats = reuters.categories()"
      ]
    },
    {
      "cell_type": "markdown",
      "metadata": {
        "id": "vx4i9tMs_uyV"
      },
      "source": [
        "You can skip the remainder of the Reuters section. We'll return to this later. "
      ]
    },
    {
      "cell_type": "markdown",
      "metadata": {
        "id": "EhL8UxH8_uyV"
      },
      "source": [
        "# 1.5 Inaugural Address Corpus"
      ]
    },
    {
      "cell_type": "code",
      "execution_count": 42,
      "metadata": {
        "id": "Jj-ZsPfc_uyV",
        "scrolled": true
      },
      "outputs": [
        {
          "data": {
            "text/plain": [
              "['1789-Washington.txt',\n",
              " '1793-Washington.txt',\n",
              " '1797-Adams.txt',\n",
              " '1801-Jefferson.txt',\n",
              " '1805-Jefferson.txt',\n",
              " '1809-Madison.txt',\n",
              " '1813-Madison.txt',\n",
              " '1817-Monroe.txt',\n",
              " '1821-Monroe.txt',\n",
              " '1825-Adams.txt',\n",
              " '1829-Jackson.txt',\n",
              " '1833-Jackson.txt',\n",
              " '1837-VanBuren.txt',\n",
              " '1841-Harrison.txt',\n",
              " '1845-Polk.txt',\n",
              " '1849-Taylor.txt',\n",
              " '1853-Pierce.txt',\n",
              " '1857-Buchanan.txt',\n",
              " '1861-Lincoln.txt',\n",
              " '1865-Lincoln.txt',\n",
              " '1869-Grant.txt',\n",
              " '1873-Grant.txt',\n",
              " '1877-Hayes.txt',\n",
              " '1881-Garfield.txt',\n",
              " '1885-Cleveland.txt',\n",
              " '1889-Harrison.txt',\n",
              " '1893-Cleveland.txt',\n",
              " '1897-McKinley.txt',\n",
              " '1901-McKinley.txt',\n",
              " '1905-Roosevelt.txt',\n",
              " '1909-Taft.txt',\n",
              " '1913-Wilson.txt',\n",
              " '1917-Wilson.txt',\n",
              " '1921-Harding.txt',\n",
              " '1925-Coolidge.txt',\n",
              " '1929-Hoover.txt',\n",
              " '1933-Roosevelt.txt',\n",
              " '1937-Roosevelt.txt',\n",
              " '1941-Roosevelt.txt',\n",
              " '1945-Roosevelt.txt',\n",
              " '1949-Truman.txt',\n",
              " '1953-Eisenhower.txt',\n",
              " '1957-Eisenhower.txt',\n",
              " '1961-Kennedy.txt',\n",
              " '1965-Johnson.txt',\n",
              " '1969-Nixon.txt',\n",
              " '1973-Nixon.txt',\n",
              " '1977-Carter.txt',\n",
              " '1981-Reagan.txt',\n",
              " '1985-Reagan.txt',\n",
              " '1989-Bush.txt',\n",
              " '1993-Clinton.txt',\n",
              " '1997-Clinton.txt',\n",
              " '2001-Bush.txt',\n",
              " '2005-Bush.txt',\n",
              " '2009-Obama.txt',\n",
              " '2013-Obama.txt',\n",
              " '2017-Trump.txt',\n",
              " '2021-Biden.txt']"
            ]
          },
          "execution_count": 42,
          "metadata": {},
          "output_type": "execute_result"
        }
      ],
      "source": [
        "from nltk.corpus import inaugural\n",
        "inaugural.fileids()"
      ]
    },
    {
      "cell_type": "code",
      "execution_count": 44,
      "metadata": {
        "id": "r0goRRZ9_uyV"
      },
      "outputs": [
        {
          "data": {
            "image/png": "[encoded data removed]",
            "text/plain": [
              "<Figure size 640x480 with 1 Axes>"
            ]
          },
          "metadata": {},
          "output_type": "display_data"
        },
        {
          "data": {
            "text/plain": [
              "<AxesSubplot:xlabel='Samples', ylabel='Counts'>"
            ]
          },
          "execution_count": 44,
          "metadata": {},
          "output_type": "execute_result"
        }
      ],
      "source": [
        "cfd = nltk.ConditionalFreqDist(\n",
        "        (target, fileid[:4])\n",
        "        for fileid in inaugural.fileids()\n",
        "        for w in inaugural.words(fileid)\n",
        "        for target in [\"citizens\", \"democracy\", \"freedom\", \"duties\", \"America\"]\n",
        "        if w.lower().startswith(target))\n",
        "cfd.plot()"
      ]
    },
    {
      "cell_type": "markdown",
      "metadata": {
        "id": "qvD3a5JD_uyV"
      },
      "source": [
        "# 1.6 Annotated Text Corpora"
      ]
    },
    {
      "cell_type": "markdown",
      "metadata": {
        "id": "R5uoH2Gt_uyW"
      },
      "source": [
        "We will return to annotated text corpora later. You can choose to run the cells in this section if you wish. If you prefer to skip ahead, that is fine, too. However, consider in this section of the assignment the challenges that language differences present to text analysis. "
      ]
    },
    {
      "cell_type": "code",
      "execution_count": 46,
      "metadata": {
        "id": "TWD7Z8oH_uyW"
      },
      "outputs": [
        {
          "name": "stderr",
          "output_type": "stream",
          "text": [
            "[nltk_data] Downloading package cess_esp to\n",
            "[nltk_data]     /Users/michaelsmith/nltk_data...\n",
            "[nltk_data]   Unzipping corpora/cess_esp.zip.\n"
          ]
        },
        {
          "data": {
            "text/plain": [
              "['El', 'grupo', 'estatal', 'Electricité_de_France', ...]"
            ]
          },
          "execution_count": 46,
          "metadata": {},
          "output_type": "execute_result"
        }
      ],
      "source": [
        "nltk.download('cess_esp')\n",
        "nltk.corpus.cess_esp.words()"
      ]
    },
    {
      "cell_type": "code",
      "execution_count": 48,
      "metadata": {
        "id": "_UsIm6ns_uyW"
      },
      "outputs": [
        {
          "name": "stderr",
          "output_type": "stream",
          "text": [
            "[nltk_data] Downloading package floresta to\n",
            "[nltk_data]     /Users/michaelsmith/nltk_data...\n",
            "[nltk_data]   Unzipping corpora/floresta.zip.\n"
          ]
        },
        {
          "data": {
            "text/plain": [
              "['Um', 'revivalismo', 'refrescante', 'O', '7_e_Meio', ...]"
            ]
          },
          "execution_count": 48,
          "metadata": {},
          "output_type": "execute_result"
        }
      ],
      "source": [
        "nltk.download('floresta')\n",
        "nltk.corpus.floresta.words()"
      ]
    },
    {
      "cell_type": "code",
      "execution_count": 49,
      "metadata": {
        "id": "JKilvPe0_uyX"
      },
      "outputs": [
        {
          "name": "stderr",
          "output_type": "stream",
          "text": [
            "[nltk_data] Downloading package indian to\n",
            "[nltk_data]     /Users/michaelsmith/nltk_data...\n",
            "[nltk_data]   Unzipping corpora/indian.zip.\n"
          ]
        },
        {
          "data": {
            "text/plain": [
              "['पूर्ण', 'प्रतिबंध', 'हटाओ', ':', 'इराक', 'संयुक्त', ...]"
            ]
          },
          "execution_count": 49,
          "metadata": {},
          "output_type": "execute_result"
        }
      ],
      "source": [
        "nltk.download('indian')\n",
        "nltk.corpus.indian.words('hindi.pos')"
      ]
    },
    {
      "cell_type": "code",
      "execution_count": 50,
      "metadata": {
        "id": "uDGLzhqe_uyX"
      },
      "outputs": [
        {
          "name": "stderr",
          "output_type": "stream",
          "text": [
            "[nltk_data] Downloading package udhr to\n",
            "[nltk_data]     /Users/michaelsmith/nltk_data...\n",
            "[nltk_data]   Package udhr is already up-to-date!\n"
          ]
        },
        {
          "data": {
            "text/plain": [
              "['Abkhaz-Cyrillic+Abkh',\n",
              " 'Abkhaz-UTF8',\n",
              " 'Achehnese-Latin1',\n",
              " 'Achuar-Shiwiar-Latin1',\n",
              " 'Adja-UTF8',\n",
              " 'Afaan_Oromo_Oromiffa-Latin1',\n",
              " 'Afrikaans-Latin1',\n",
              " 'Aguaruna-Latin1',\n",
              " 'Akuapem_Twi-UTF8',\n",
              " 'Albanian_Shqip-Latin1',\n",
              " 'Amahuaca',\n",
              " 'Amahuaca-Latin1',\n",
              " 'Amarakaeri-Latin1',\n",
              " 'Amuesha-Yanesha-UTF8',\n",
              " 'Arabela-Latin1',\n",
              " 'Arabic_Alarabia-Arabic',\n",
              " 'Asante-UTF8',\n",
              " 'Ashaninca-Latin1',\n",
              " 'Asheninca-Latin1',\n",
              " 'Asturian_Bable-Latin1',\n",
              " 'Aymara-Latin1',\n",
              " 'Balinese-Latin1',\n",
              " 'Bambara-UTF8',\n",
              " 'Baoule-UTF8',\n",
              " 'Basque_Euskara-Latin1',\n",
              " 'Batonu_Bariba-UTF8',\n",
              " 'Belorus_Belaruski-Cyrillic',\n",
              " 'Belorus_Belaruski-UTF8',\n",
              " 'Bemba-Latin1',\n",
              " 'Bengali-UTF8',\n",
              " 'Beti-UTF8',\n",
              " 'Bichelamar-Latin1',\n",
              " 'Bikol_Bicolano-Latin1',\n",
              " 'Bora-Latin1',\n",
              " 'Bosnian_Bosanski-Cyrillic',\n",
              " 'Bosnian_Bosanski-Latin2',\n",
              " 'Bosnian_Bosanski-UTF8',\n",
              " 'Breton-Latin1',\n",
              " 'Bugisnese-Latin1',\n",
              " 'Bulgarian_Balgarski-Cyrillic',\n",
              " 'Bulgarian_Balgarski-UTF8',\n",
              " 'Cakchiquel-Latin1',\n",
              " 'Campa_Pajonalino-Latin1',\n",
              " 'Candoshi-Shapra-Latin1',\n",
              " 'Caquinte-Latin1',\n",
              " 'Cashibo-Cacataibo-Latin1',\n",
              " 'Cashinahua-Latin1',\n",
              " 'Catalan-Latin1',\n",
              " 'Catalan_Catala-Latin1',\n",
              " 'Cebuano-Latin1',\n",
              " 'Chamorro-Latin1',\n",
              " 'Chayahuita-Latin1',\n",
              " 'Chechewa_Nyanja-Latin1',\n",
              " 'Chickasaw-Latin1',\n",
              " 'Chinanteco-Ajitlan-Latin1',\n",
              " 'Chinanteco-UTF8',\n",
              " 'Chinese_Mandarin-GB2312',\n",
              " 'Chuuk_Trukese-Latin1',\n",
              " 'Cokwe-Latin1',\n",
              " 'Corsican-Latin1',\n",
              " 'Croatian_Hrvatski-Latin2',\n",
              " 'Czech-Latin2',\n",
              " 'Czech-UTF8',\n",
              " 'Czech_Cesky-Latin2',\n",
              " 'Czech_Cesky-UTF8',\n",
              " 'Dagaare-UTF8',\n",
              " 'Dagbani-UTF8',\n",
              " 'Dangme-UTF8',\n",
              " 'Danish_Dansk-Latin1',\n",
              " 'Dendi-UTF8',\n",
              " 'Ditammari-UTF8',\n",
              " 'Dutch_Nederlands-Latin1',\n",
              " 'Edo-Latin1',\n",
              " 'English-Latin1',\n",
              " 'Esperanto-UTF8',\n",
              " 'Estonian_Eesti-Latin1',\n",
              " 'Ewe_Eve-UTF8',\n",
              " 'Fante-UTF8',\n",
              " 'Faroese-Latin1',\n",
              " 'Farsi_Persian-UTF8',\n",
              " 'Farsi_Persian-v2-UTF8',\n",
              " 'Fijian-Latin1',\n",
              " 'Filipino_Tagalog-Latin1',\n",
              " 'Finnish_Suomi-Latin1',\n",
              " 'Fon-UTF8',\n",
              " 'French_Francais-Latin1',\n",
              " 'Frisian-Latin1',\n",
              " 'Friulian_Friulano-Latin1',\n",
              " 'Ga-UTF8',\n",
              " 'Gagauz_Gagauzi-UTF8',\n",
              " 'Galician_Galego-Latin1',\n",
              " 'Garifuna_Garifuna-Latin1',\n",
              " 'German_Deutsch-Latin1',\n",
              " 'Gonja-UTF8',\n",
              " 'Greek_Ellinika-Greek',\n",
              " 'Greek_Ellinika-UTF8',\n",
              " 'Greenlandic_Inuktikut-Latin1',\n",
              " 'Guarani-Latin1',\n",
              " 'Guen_Mina-UTF8',\n",
              " 'HaitianCreole_Kreyol-Latin1',\n",
              " 'HaitianCreole_Popular-Latin1',\n",
              " 'Hani-Latin1',\n",
              " 'Hausa_Haoussa-Latin1',\n",
              " 'Hawaiian-UTF8',\n",
              " 'Hebrew_Ivrit-Hebrew',\n",
              " 'Hebrew_Ivrit-UTF8',\n",
              " 'Hiligaynon-Latin1',\n",
              " 'Hindi-UTF8',\n",
              " 'Hindi_web-UTF8',\n",
              " 'Hmong_Miao-Sichuan-Guizhou-Yunnan-Latin1',\n",
              " 'Hmong_Miao-SouthernEast-Guizhou-Latin1',\n",
              " 'Hmong_Miao_Northern-East-Guizhou-Latin1',\n",
              " 'Hrvatski_Croatian-Latin2',\n",
              " 'Huasteco-Latin1',\n",
              " 'Huitoto_Murui-Latin1',\n",
              " 'Hungarian_Magyar-Latin1',\n",
              " 'Hungarian_Magyar-Latin2',\n",
              " 'Hungarian_Magyar-UTF8',\n",
              " 'Ibibio_Efik-Latin1',\n",
              " 'Icelandic_Yslenska-Latin1',\n",
              " 'Ido-Latin1',\n",
              " 'Igbo-UTF8',\n",
              " 'Iloko_Ilocano-Latin1',\n",
              " 'Indonesian-Latin1',\n",
              " 'Interlingua-Latin1',\n",
              " 'Inuktikut_Greenlandic-Latin1',\n",
              " 'IrishGaelic_Gaeilge-Latin1',\n",
              " 'Italian-Latin1',\n",
              " 'Italian_Italiano-Latin1',\n",
              " 'Japanese_Nihongo-EUC',\n",
              " 'Japanese_Nihongo-SJIS',\n",
              " 'Japanese_Nihongo-UTF8',\n",
              " 'Javanese-Latin1',\n",
              " 'Jola-Fogny_Diola-UTF8',\n",
              " 'Kabye-UTF8',\n",
              " 'Kannada-UTF8',\n",
              " 'Kaonde-Latin1',\n",
              " 'Kapampangan-Latin1',\n",
              " 'Kasem-UTF8',\n",
              " 'Kazakh-Cyrillic',\n",
              " 'Kazakh-UTF8',\n",
              " 'Kiche_Quiche-Latin1',\n",
              " 'Kicongo-Latin1',\n",
              " 'Kimbundu_Mbundu-Latin1',\n",
              " 'Kinyamwezi_Nyamwezi-Latin1',\n",
              " 'Kinyarwanda-Latin1',\n",
              " 'Kituba-Latin1',\n",
              " 'Korean_Hankuko-UTF8',\n",
              " 'Kpelewo-UTF8',\n",
              " 'Krio-UTF8',\n",
              " 'Kurdish-UTF8',\n",
              " 'Lamnso_Lam-nso-UTF8',\n",
              " 'Latin_Latina-Latin1',\n",
              " 'Latin_Latina-v2-Latin1',\n",
              " 'Latvian-Latin1',\n",
              " 'Limba-UTF8',\n",
              " 'Lingala-Latin1',\n",
              " 'Lithuanian_Lietuviskai-Baltic',\n",
              " 'Lozi-Latin1',\n",
              " 'Luba-Kasai_Tshiluba-Latin1',\n",
              " 'Luganda_Ganda-Latin1',\n",
              " 'Lunda_Chokwe-lunda-Latin1',\n",
              " 'Luvale-Latin1',\n",
              " 'Luxembourgish_Letzebuergeusch-Latin1',\n",
              " 'Macedonian-UTF8',\n",
              " 'Madurese-Latin1',\n",
              " 'Makonde-Latin1',\n",
              " 'Malagasy-Latin1',\n",
              " 'Malay_BahasaMelayu-Latin1',\n",
              " 'Maltese-UTF8',\n",
              " 'Mam-Latin1',\n",
              " 'Maninka-UTF8',\n",
              " 'Maori-Latin1',\n",
              " 'Mapudungun_Mapuzgun-Latin1',\n",
              " 'Mapudungun_Mapuzgun-UTF8',\n",
              " 'Marshallese-Latin1',\n",
              " 'Matses-Latin1',\n",
              " 'Mayan_Yucateco-Latin1',\n",
              " 'Mazahua_Jnatrjo-UTF8',\n",
              " 'Mazateco-Latin1',\n",
              " 'Mende-UTF8',\n",
              " 'Mikmaq_Micmac-Mikmaq-Latin1',\n",
              " 'Minangkabau-Latin1',\n",
              " 'Miskito_Miskito-Latin1',\n",
              " 'Mixteco-Latin1',\n",
              " 'Mongolian_Khalkha-Cyrillic',\n",
              " 'Mongolian_Khalkha-UTF8',\n",
              " 'Moore_More-UTF8',\n",
              " 'Nahuatl-Latin1',\n",
              " 'Ndebele-Latin1',\n",
              " 'Nepali-UTF8',\n",
              " 'Ngangela_Nyemba-Latin1',\n",
              " 'NigerianPidginEnglish-Latin1',\n",
              " 'Nomatsiguenga-Latin1',\n",
              " 'NorthernSotho_Pedi-Sepedi-Latin1',\n",
              " 'Norwegian-Latin1',\n",
              " 'Norwegian_Norsk-Bokmal-Latin1',\n",
              " 'Norwegian_Norsk-Nynorsk-Latin1',\n",
              " 'Nyanja_Chechewa-Latin1',\n",
              " 'Nyanja_Chinyanja-Latin1',\n",
              " 'Nzema-UTF8',\n",
              " 'OccitanAuvergnat-Latin1',\n",
              " 'OccitanLanguedocien-Latin1',\n",
              " 'Oromiffa_AfaanOromo-Latin1',\n",
              " 'Osetin_Ossetian-UTF8',\n",
              " 'Oshiwambo_Ndonga-Latin1',\n",
              " 'Otomi_Nahnu-Latin1',\n",
              " 'Paez-Latin1',\n",
              " 'Palauan-Latin1',\n",
              " 'Peuhl-UTF8',\n",
              " 'Picard-Latin1',\n",
              " 'Pipil-Latin1',\n",
              " 'Polish-Latin2',\n",
              " 'Polish_Polski-Latin2',\n",
              " 'Ponapean-Latin1',\n",
              " 'Portuguese_Portugues-Latin1',\n",
              " 'Pulaar-UTF8',\n",
              " 'Punjabi_Panjabi-UTF8',\n",
              " 'Purhepecha-UTF8',\n",
              " 'Qechi_Kekchi-Latin1',\n",
              " 'Quechua-Latin1',\n",
              " 'Quichua-Latin1',\n",
              " 'Rarotongan_MaoriCookIslands-Latin1',\n",
              " 'Rhaeto-Romance_Rumantsch-Latin1',\n",
              " 'Romani-Latin1',\n",
              " 'Romani-UTF8',\n",
              " 'Romanian-Latin2',\n",
              " 'Romanian_Romana-Latin2',\n",
              " 'Rukonzo_Konjo-Latin1',\n",
              " 'Rundi_Kirundi-Latin1',\n",
              " 'Runyankore-rukiga_Nkore-kiga-Latin1',\n",
              " 'Russian-Cyrillic',\n",
              " 'Russian-UTF8',\n",
              " 'Russian_Russky-Cyrillic',\n",
              " 'Russian_Russky-UTF8',\n",
              " 'Sami_Lappish-UTF8',\n",
              " 'Sammarinese-Latin1',\n",
              " 'Samoan-Latin1',\n",
              " 'Sango_Sangho-Latin1',\n",
              " 'Sanskrit-UTF8',\n",
              " 'Saraiki-UTF8',\n",
              " 'Sardinian-Latin1',\n",
              " 'ScottishGaelic_GaidhligAlbanach-Latin1',\n",
              " 'Seereer-UTF8',\n",
              " 'Serbian_Srpski-Cyrillic',\n",
              " 'Serbian_Srpski-Latin2',\n",
              " 'Serbian_Srpski-UTF8',\n",
              " 'Sharanahua-Latin1',\n",
              " 'Shipibo-Conibo-Latin1',\n",
              " 'Shona-Latin1',\n",
              " 'Sinhala-UTF8',\n",
              " 'Siswati-Latin1',\n",
              " 'Slovak-Latin2',\n",
              " 'Slovak_Slovencina-Latin2',\n",
              " 'Slovenian_Slovenscina-Latin2',\n",
              " 'SolomonsPidgin_Pijin-Latin1',\n",
              " 'Somali-Latin1',\n",
              " 'Soninke_Soninkanxaane-UTF8',\n",
              " 'Sorbian-Latin2',\n",
              " 'SouthernSotho_Sotho-Sesotho-Sutu-Sesutu-Latin1',\n",
              " 'Spanish-Latin1',\n",
              " 'Spanish_Espanol-Latin1',\n",
              " 'Sukuma-Latin1',\n",
              " 'Sundanese-Latin1',\n",
              " 'Sussu_Soussou-Sosso-Soso-Susu-UTF8',\n",
              " 'Swaheli-Latin1',\n",
              " 'Swahili_Kiswahili-Latin1',\n",
              " 'Swedish_Svenska-Latin1',\n",
              " 'Tahitian-UTF8',\n",
              " 'Tenek_Huasteco-Latin1',\n",
              " 'Tetum-Latin1',\n",
              " 'Themne_Temne-UTF8',\n",
              " 'Tiv-Latin1',\n",
              " 'Toba-UTF8',\n",
              " 'Tojol-abal-Latin1',\n",
              " 'TokPisin-Latin1',\n",
              " 'Tonga-Latin1',\n",
              " 'Tongan_Tonga-Latin1',\n",
              " 'Totonaco-Latin1',\n",
              " 'Trukese_Chuuk-Latin1',\n",
              " 'Turkish_Turkce-Turkish',\n",
              " 'Turkish_Turkce-UTF8',\n",
              " 'Tzeltal-Latin1',\n",
              " 'Tzotzil-Latin1',\n",
              " 'Uighur_Uyghur-Latin1',\n",
              " 'Uighur_Uyghur-UTF8',\n",
              " 'Ukrainian-Cyrillic',\n",
              " 'Ukrainian-UTF8',\n",
              " 'Umbundu-Latin1',\n",
              " 'Urarina-Latin1',\n",
              " 'Uzbek-Latin1',\n",
              " 'Vietnamese-ALRN-UTF8',\n",
              " 'Vietnamese-UTF8',\n",
              " 'Vlach-Latin1',\n",
              " 'Walloon_Wallon-Latin1',\n",
              " 'Wama-UTF8',\n",
              " 'Waray-Latin1',\n",
              " 'Wayuu-Latin1',\n",
              " 'Welsh_Cymraeg-Latin1',\n",
              " 'WesternSotho_Tswana-Setswana-Latin1',\n",
              " 'Wolof-Latin1',\n",
              " 'Xhosa-Latin1',\n",
              " 'Yagua-Latin1',\n",
              " 'Yao-Latin1',\n",
              " 'Yapese-Latin1',\n",
              " 'Yoruba-UTF8',\n",
              " 'Zapoteco-Latin1',\n",
              " 'Zapoteco-SanLucasQuiavini-Latin1',\n",
              " 'Zhuang-Latin1',\n",
              " 'Zulu-Latin1']"
            ]
          },
          "execution_count": 50,
          "metadata": {},
          "output_type": "execute_result"
        }
      ],
      "source": [
        "nltk.download('udhr')\n",
        "nltk.corpus.udhr.fileids()"
      ]
    },
    {
      "cell_type": "code",
      "execution_count": 51,
      "metadata": {
        "id": "9K5bc4jf_uyX"
      },
      "outputs": [
        {
          "data": {
            "text/plain": [
              "['Saben', 'umat', 'manungsa', 'lair', 'kanthi', 'hak', ...]"
            ]
          },
          "execution_count": 51,
          "metadata": {},
          "output_type": "execute_result"
        }
      ],
      "source": [
        "nltk.corpus.udhr.words('Javanese-Latin1')[11:]"
      ]
    },
    {
      "cell_type": "code",
      "execution_count": 52,
      "metadata": {
        "id": "kqOvALff_uyX"
      },
      "outputs": [
        {
          "data": {
            "image/png": "[encoded data removed]",
            "text/plain": [
              "<Figure size 640x480 with 1 Axes>"
            ]
          },
          "metadata": {},
          "output_type": "display_data"
        },
        {
          "data": {
            "text/plain": [
              "<AxesSubplot:xlabel='Samples', ylabel='Cumulative Counts'>"
            ]
          },
          "execution_count": 52,
          "metadata": {},
          "output_type": "execute_result"
        }
      ],
      "source": [
        "from nltk.corpus import udhr\n",
        "languages = ['Chickasaw', 'English', 'German_Deutsch',\n",
        "             'Greenlandic_Inuktikut', 'Hungarian_Magyar', 'Ibibio_Efik']\n",
        "cfd = nltk.ConditionalFreqDist(\n",
        "          (lang, len(word))\n",
        "          for lang in languages\n",
        "          for word in udhr.words(lang + '-Latin1'))\n",
        "cfd.plot(cumulative=True)"
      ]
    },
    {
      "cell_type": "code",
      "execution_count": 94,
      "metadata": {
        "id": "9tkcRoaL_uyY"
      },
      "outputs": [],
      "source": [
        "# help(nltk.corpus.reader)"
      ]
    },
    {
      "cell_type": "code",
      "execution_count": 54,
      "metadata": {
        "id": "QXLuN13v_uyY"
      },
      "outputs": [
        {
          "data": {
            "text/plain": [
              "'The Adventures of B'"
            ]
          },
          "execution_count": 54,
          "metadata": {},
          "output_type": "execute_result"
        }
      ],
      "source": [
        "raw = gutenberg.raw(\"burgess-busterbrown.txt\")\n",
        "raw[1:20]"
      ]
    },
    {
      "cell_type": "code",
      "execution_count": 55,
      "metadata": {
        "id": "bObpWbj1_uyY"
      },
      "outputs": [
        {
          "data": {
            "text/plain": [
              "['The',\n",
              " 'Adventures',\n",
              " 'of',\n",
              " 'Buster',\n",
              " 'Bear',\n",
              " 'by',\n",
              " 'Thornton',\n",
              " 'W',\n",
              " '.',\n",
              " 'Burgess',\n",
              " '1920',\n",
              " ']',\n",
              " 'I',\n",
              " 'BUSTER',\n",
              " 'BEAR',\n",
              " 'GOES',\n",
              " 'FISHING',\n",
              " 'Buster',\n",
              " 'Bear']"
            ]
          },
          "execution_count": 55,
          "metadata": {},
          "output_type": "execute_result"
        }
      ],
      "source": [
        "words = gutenberg.words(\"burgess-busterbrown.txt\")\n",
        "words[1:20]"
      ]
    },
    {
      "cell_type": "code",
      "execution_count": 56,
      "metadata": {
        "id": "Bo9a8sDL_uyY"
      },
      "outputs": [
        {
          "data": {
            "text/plain": [
              "[['I'],\n",
              " ['BUSTER', 'BEAR', 'GOES', 'FISHING'],\n",
              " ['Buster',\n",
              "  'Bear',\n",
              "  'yawned',\n",
              "  'as',\n",
              "  'he',\n",
              "  'lay',\n",
              "  'on',\n",
              "  'his',\n",
              "  'comfortable',\n",
              "  'bed',\n",
              "  'of',\n",
              "  'leaves',\n",
              "  'and',\n",
              "  'watched',\n",
              "  'the',\n",
              "  'first',\n",
              "  'early',\n",
              "  'morning',\n",
              "  'sunbeams',\n",
              "  'creeping',\n",
              "  'through',\n",
              "  'the',\n",
              "  'Green',\n",
              "  'Forest',\n",
              "  'to',\n",
              "  'chase',\n",
              "  'out',\n",
              "  'the',\n",
              "  'Black',\n",
              "  'Shadows',\n",
              "  '.'],\n",
              " ['Once',\n",
              "  'more',\n",
              "  'he',\n",
              "  'yawned',\n",
              "  ',',\n",
              "  'and',\n",
              "  'slowly',\n",
              "  'got',\n",
              "  'to',\n",
              "  'his',\n",
              "  'feet',\n",
              "  'and',\n",
              "  'shook',\n",
              "  'himself',\n",
              "  '.'],\n",
              " ['Then',\n",
              "  'he',\n",
              "  'walked',\n",
              "  'over',\n",
              "  'to',\n",
              "  'a',\n",
              "  'big',\n",
              "  'pine',\n",
              "  '-',\n",
              "  'tree',\n",
              "  ',',\n",
              "  'stood',\n",
              "  'up',\n",
              "  'on',\n",
              "  'his',\n",
              "  'hind',\n",
              "  'legs',\n",
              "  ',',\n",
              "  'reached',\n",
              "  'as',\n",
              "  'high',\n",
              "  'up',\n",
              "  'on',\n",
              "  'the',\n",
              "  'trunk',\n",
              "  'of',\n",
              "  'the',\n",
              "  'tree',\n",
              "  'as',\n",
              "  'he',\n",
              "  'could',\n",
              "  ',',\n",
              "  'and',\n",
              "  'scratched',\n",
              "  'the',\n",
              "  'bark',\n",
              "  'with',\n",
              "  'his',\n",
              "  'great',\n",
              "  'claws',\n",
              "  '.'],\n",
              " ['After',\n",
              "  'that',\n",
              "  'he',\n",
              "  'yawned',\n",
              "  'until',\n",
              "  'it',\n",
              "  'seemed',\n",
              "  'as',\n",
              "  'if',\n",
              "  'his',\n",
              "  'jaws',\n",
              "  'would',\n",
              "  'crack',\n",
              "  ',',\n",
              "  'and',\n",
              "  'then',\n",
              "  'sat',\n",
              "  'down',\n",
              "  'to',\n",
              "  'think',\n",
              "  'what',\n",
              "  'he',\n",
              "  'wanted',\n",
              "  'for',\n",
              "  'breakfast',\n",
              "  '.'],\n",
              " ['While',\n",
              "  'he',\n",
              "  'sat',\n",
              "  'there',\n",
              "  ',',\n",
              "  'trying',\n",
              "  'to',\n",
              "  'make',\n",
              "  'up',\n",
              "  'his',\n",
              "  'mind',\n",
              "  'what',\n",
              "  'would',\n",
              "  'taste',\n",
              "  'best',\n",
              "  ',',\n",
              "  'he',\n",
              "  'was',\n",
              "  'listening',\n",
              "  'to',\n",
              "  'the',\n",
              "  'sounds',\n",
              "  'that',\n",
              "  'told',\n",
              "  'of',\n",
              "  'the',\n",
              "  'waking',\n",
              "  'of',\n",
              "  'all',\n",
              "  'the',\n",
              "  'little',\n",
              "  'people',\n",
              "  'who',\n",
              "  'live',\n",
              "  'in',\n",
              "  'the',\n",
              "  'Green',\n",
              "  'Forest',\n",
              "  '.'],\n",
              " ['He',\n",
              "  'heard',\n",
              "  'Sammy',\n",
              "  'Jay',\n",
              "  'way',\n",
              "  'off',\n",
              "  'in',\n",
              "  'the',\n",
              "  'distance',\n",
              "  'screaming',\n",
              "  ',',\n",
              "  '\"',\n",
              "  'Thief',\n",
              "  '!'],\n",
              " ['Thief', '!\"'],\n",
              " ['and', 'grinned', '.'],\n",
              " ['\"',\n",
              "  'I',\n",
              "  'wonder',\n",
              "  ',\"',\n",
              "  'thought',\n",
              "  'Buster',\n",
              "  ',',\n",
              "  '\"',\n",
              "  'if',\n",
              "  'some',\n",
              "  'one',\n",
              "  'has',\n",
              "  'stolen',\n",
              "  'Sammy',\n",
              "  \"'\",\n",
              "  's',\n",
              "  'breakfast',\n",
              "  ',',\n",
              "  'or',\n",
              "  'if',\n",
              "  'he',\n",
              "  'has',\n",
              "  'stolen',\n",
              "  'the',\n",
              "  'breakfast',\n",
              "  'of',\n",
              "  'some',\n",
              "  'one',\n",
              "  'else',\n",
              "  '.'],\n",
              " ['Probably', 'he', 'is', 'the', 'thief', 'himself', '.\"'],\n",
              " ['He',\n",
              "  'heard',\n",
              "  'Chatterer',\n",
              "  'the',\n",
              "  'Red',\n",
              "  'Squirrel',\n",
              "  'scolding',\n",
              "  'as',\n",
              "  'fast',\n",
              "  'as',\n",
              "  'he',\n",
              "  'could',\n",
              "  'make',\n",
              "  'his',\n",
              "  'tongue',\n",
              "  'go',\n",
              "  'and',\n",
              "  'working',\n",
              "  'himself',\n",
              "  'into',\n",
              "  'a',\n",
              "  'terrible',\n",
              "  'rage',\n",
              "  '.'],\n",
              " ['\"',\n",
              "  'Must',\n",
              "  'be',\n",
              "  'that',\n",
              "  'Chatterer',\n",
              "  'got',\n",
              "  'out',\n",
              "  'of',\n",
              "  'bed',\n",
              "  'the',\n",
              "  'wrong',\n",
              "  'way',\n",
              "  'this',\n",
              "  'morning',\n",
              "  ',\"',\n",
              "  'thought',\n",
              "  'he',\n",
              "  '.'],\n",
              " ['He',\n",
              "  'heard',\n",
              "  'Blacky',\n",
              "  'the',\n",
              "  'Crow',\n",
              "  'cawing',\n",
              "  'at',\n",
              "  'the',\n",
              "  'top',\n",
              "  'of',\n",
              "  'his',\n",
              "  'lungs',\n",
              "  ',',\n",
              "  'and',\n",
              "  'he',\n",
              "  'knew',\n",
              "  'by',\n",
              "  'the',\n",
              "  'sound',\n",
              "  'that',\n",
              "  'Blacky',\n",
              "  'was',\n",
              "  'getting',\n",
              "  'into',\n",
              "  'mischief',\n",
              "  'of',\n",
              "  'some',\n",
              "  'kind',\n",
              "  '.'],\n",
              " ['He',\n",
              "  'heard',\n",
              "  'the',\n",
              "  'sweet',\n",
              "  'voices',\n",
              "  'of',\n",
              "  'happy',\n",
              "  'little',\n",
              "  'singers',\n",
              "  ',',\n",
              "  'and',\n",
              "  'they',\n",
              "  'were',\n",
              "  'good',\n",
              "  'to',\n",
              "  'hear',\n",
              "  '.'],\n",
              " ['But',\n",
              "  'most',\n",
              "  'of',\n",
              "  'all',\n",
              "  'he',\n",
              "  'listened',\n",
              "  'to',\n",
              "  'a',\n",
              "  'merry',\n",
              "  ',',\n",
              "  'low',\n",
              "  ',',\n",
              "  'silvery',\n",
              "  'laugh',\n",
              "  'that',\n",
              "  'never',\n",
              "  'stopped',\n",
              "  'but',\n",
              "  'went',\n",
              "  'on',\n",
              "  'and',\n",
              "  'on',\n",
              "  ',',\n",
              "  'until',\n",
              "  'he',\n",
              "  'just',\n",
              "  'felt',\n",
              "  'as',\n",
              "  'if',\n",
              "  'he',\n",
              "  'must',\n",
              "  'laugh',\n",
              "  'too',\n",
              "  '.'],\n",
              " ['It', 'was', 'the', 'voice', 'of', 'the', 'Laughing', 'Brook', '.'],\n",
              " ['And',\n",
              "  'as',\n",
              "  'Buster',\n",
              "  'listened',\n",
              "  'it',\n",
              "  'suddenly',\n",
              "  'came',\n",
              "  'to',\n",
              "  'him',\n",
              "  'just',\n",
              "  'what',\n",
              "  'he',\n",
              "  'wanted',\n",
              "  'for',\n",
              "  'breakfast',\n",
              "  '.']]"
            ]
          },
          "execution_count": 56,
          "metadata": {},
          "output_type": "execute_result"
        }
      ],
      "source": [
        "sents = gutenberg.sents(\"burgess-busterbrown.txt\")\n",
        "sents[1:20]"
      ]
    },
    {
      "cell_type": "code",
      "execution_count": 57,
      "metadata": {
        "id": "EFeUiCK3_uyZ"
      },
      "outputs": [],
      "source": [
        "from nltk.corpus import PlaintextCorpusReader"
      ]
    },
    {
      "cell_type": "code",
      "execution_count": 58,
      "metadata": {
        "id": "MiR6ZIc-_uyZ"
      },
      "outputs": [],
      "source": [
        "corpus_root = '/usr/share/dict'"
      ]
    },
    {
      "cell_type": "code",
      "execution_count": 59,
      "metadata": {
        "id": "PGYVMSss_uyZ"
      },
      "outputs": [],
      "source": [
        "wordlists = PlaintextCorpusReader(corpus_root, '.*')"
      ]
    },
    {
      "cell_type": "code",
      "execution_count": 60,
      "metadata": {
        "id": "9W5pyNva_uyZ"
      },
      "outputs": [
        {
          "data": {
            "text/plain": [
              "['README', 'connectives', 'propernames', 'web2', 'web2a', 'words']"
            ]
          },
          "execution_count": 60,
          "metadata": {},
          "output_type": "execute_result"
        }
      ],
      "source": [
        "wordlists.fileids()"
      ]
    },
    {
      "cell_type": "code",
      "execution_count": 61,
      "metadata": {
        "id": "cE_Ejr_M_uyZ"
      },
      "outputs": [
        {
          "data": {
            "text/plain": [
              "['the', 'of', 'and', 'to', 'a', 'in', 'that', 'is', ...]"
            ]
          },
          "execution_count": 61,
          "metadata": {},
          "output_type": "execute_result"
        }
      ],
      "source": [
        "wordlists.words('connectives')"
      ]
    },
    {
      "cell_type": "code",
      "execution_count": 62,
      "metadata": {
        "id": "vaVpw46M_uyZ"
      },
      "outputs": [],
      "source": [
        "from urllib.request import urlopen\n",
        "my_url = \"https://www.gutenberg.org/files/32/32-0.txt\"\n",
        "file = urlopen(my_url)\n",
        "raw = file.read()\n",
        "herland = raw.decode()"
      ]
    },
    {
      "cell_type": "code",
      "execution_count": 63,
      "metadata": {
        "id": "1YKdk9B4_uya"
      },
      "outputs": [
        {
          "data": {
            "text/plain": [
              "322763"
            ]
          },
          "execution_count": 63,
          "metadata": {},
          "output_type": "execute_result"
        }
      ],
      "source": [
        "len(herland)"
      ]
    },
    {
      "cell_type": "code",
      "execution_count": 64,
      "metadata": {
        "id": "Pkd0d0Cy_uya"
      },
      "outputs": [],
      "source": [
        "her_tokens = nltk.word_tokenize(herland)"
      ]
    },
    {
      "cell_type": "code",
      "execution_count": 65,
      "metadata": {
        "id": "3i_y8UQv_uya"
      },
      "outputs": [
        {
          "data": {
            "text/plain": [
              "68510"
            ]
          },
          "execution_count": 65,
          "metadata": {},
          "output_type": "execute_result"
        }
      ],
      "source": [
        "len(her_tokens)"
      ]
    },
    {
      "cell_type": "code",
      "execution_count": 83,
      "metadata": {
        "id": "BuKRHOaa_uya"
      },
      "outputs": [
        {
          "name": "stdout",
          "output_type": "stream",
          "text": [
            "Displaying 25 of 39 matches:\n",
            "dangerous, deadly, they said, for any man to go there. But there were tales of \n",
            "at once. “Ask him how far it is.” The man indicated a short journey; I judged a\n",
            " and lunch right there and pumped the man for further information. He could tel\n",
            "persons, still there had not been one man that we were certain of. “I always li\n",
            "learly; Jeff bowed as gracefully as a man could in the fork of a great limb. “M\n",
            "ned at home to see the offensive mess man made in the face of nature, even thou\n",
            "sy. Something strong enough to hold a man and long enough to let us down into t\n",
            "in this country. There has not been a man among us for two thousand years.” Her\n",
            "he stool, and in pantomime showed the man milking. “Then it is carried to the c\n",
            "a pathetic sight, both ways--to see a man or a woman taking a dog to walk--at t\n",
            "urse they all thought there must be a man somewhere, but none was found. Then t\n",
            " yourself admit there’s no trace of a man in the country.” This was after we ha\n",
            "I don’t,” snapped Terry. “What does a man care for motherhood--when he hasn’t a\n",
            "when we are just men together? What a man wants of women is a good deal more th\n",
            "?_ But don’t you _like_ to work?” “No man would work unless he had to,” Terry d\n",
            "d!” he said hastily. “No one, I mean, man or woman, would work without incentiv\n",
            " one the nice smooth mother-feeling a man likes in a woman, and yet giving also\n",
            "ry did stand out rather strong. As “a man among men,” he didn’t; as a man among\n",
            "As “a man among men,” he didn’t; as a man among--I shall have to say, “females,\n",
            "t which museum to put them in. When a man has nothing to give a woman, is depen\n",
            "early lost her forever. You see, if a man loves a girl who is in the first plac\n",
            "but he only laughed, and said, “Every man to his trade!” We couldn’t do anythin\n",
            "e same thing at all,” he insisted. “A man wants a home of his own, with his wif\n",
            "istractions,” he grumbled. “Nowhere a man can go and cut loose a bit. It’s an e\n",
            "es: the man’s and the woman’s. To the man there is growth, struggle, conquest, \n"
          ]
        }
      ],
      "source": [
        "# herland.concordance('man')\n",
        "# herland.concordance_list('man')\n",
        "t = nltk.tokenize.WhitespaceTokenizer()\n",
        "text = Text(t.tokenize(herland))\n",
        "text.concordance('man')"
      ]
    },
    {
      "cell_type": "markdown",
      "metadata": {
        "collapsed": true,
        "id": "4v3F7E7j_uya"
      },
      "source": [
        "Why do you think the statement above threw an error? "
      ]
    },
    {
      "attachments": {},
      "cell_type": "markdown",
      "metadata": {},
      "source": [
        "Herland is a single string with the entire text enclosed. In order to be able to use the concordance method, the string must be tokenized and then a 'Text' instance needs to be created from the sequence.\n",
        "\n"
      ]
    },
    {
      "cell_type": "code",
      "execution_count": 98,
      "metadata": {
        "id": "QVinwNwY_uyb"
      },
      "outputs": [],
      "source": [
        "# print(herland)"
      ]
    },
    {
      "cell_type": "markdown",
      "metadata": {
        "id": "xMkAQZpg_uyb"
      },
      "source": [
        "**REFLECTION**: In _The Textual Condition_ McGann discusses the difference between \"text\" and \"paratext.\" In the printed version of Herland (above), what would be considered \"paratext\"?"
      ]
    },
    {
      "attachments": {},
      "cell_type": "markdown",
      "metadata": {
        "id": "a6Up6Qm__uyb"
      },
      "source": [
        "The 'paratext' of Herland include all the metadata about the book itself including the obvious title, author, release date, etc. and the less obvious headings which describe the Gutenberg project and the context from which the e-book is released. Even the marker which precedes the start of the 'text', '\\*** START ... HERLAND ***\\' and the closing request to subscribe to the Gutenberg Project's email newsletter are considered part of teh 'paratext'."
      ]
    },
    {
      "cell_type": "code",
      "execution_count": 85,
      "metadata": {
        "id": "9K1VI9UQ_uyc"
      },
      "outputs": [],
      "source": [
        "from nltk.tokenize import sent_tokenize, word_tokenize\n",
        "herland_word_tokenize = word_tokenize(herland)\n",
        "# print(word_tokenize(herland))"
      ]
    },
    {
      "cell_type": "code",
      "execution_count": 87,
      "metadata": {
        "id": "Zq2K1EHY_uyc"
      },
      "outputs": [],
      "source": [
        "herland_sent_tokenize = sent_tokenize(herland)"
      ]
    },
    {
      "cell_type": "code",
      "execution_count": 88,
      "metadata": {
        "id": "GSeU_rSn_uyc"
      },
      "outputs": [],
      "source": [
        "phrases = sent_tokenize(herland)"
      ]
    },
    {
      "cell_type": "code",
      "execution_count": 89,
      "metadata": {
        "id": "mR-iEo8O_uyc"
      },
      "outputs": [],
      "source": [
        "words = word_tokenize(herland)"
      ]
    },
    {
      "cell_type": "code",
      "execution_count": 99,
      "metadata": {
        "id": "l0ShWRLu_uyc"
      },
      "outputs": [],
      "source": [
        "# phrases"
      ]
    },
    {
      "cell_type": "code",
      "execution_count": 100,
      "metadata": {
        "id": "0lHSpJxL_uyd"
      },
      "outputs": [],
      "source": [
        "# words"
      ]
    },
    {
      "cell_type": "markdown",
      "metadata": {
        "id": "Te2SuOp7_uyd"
      },
      "source": [
        "**Reflection**: How does the definition of _text_ employed by McGann differ from the definition of _text_ employed by the Natural Language Processing book? What similar assumptions might be made about what a text is? "
      ]
    },
    {
      "attachments": {},
      "cell_type": "markdown",
      "metadata": {
        "id": "HKK8Oj4Z_uyd"
      },
      "source": [
        "To McGann the 'text' is something that exists in the context of how it's read and interpreted which can be done from a large number of perspectives using innumerous tools. NLTK's text is a particularly structured object of a text that then has a larger number of functions and methods that might be applied to 'read' the text. The NLTK text and its reading is constrained by the neccessary structure required by the creators of the toolkit that have defined what form a 'text' must take before it might be interpreted. McGann would allow a reader to imagine any number of tools and any number of ways we might read a text in order to interpret it."
      ]
    },
    {
      "cell_type": "code",
      "execution_count": 102,
      "metadata": {},
      "outputs": [
        {
          "name": "stdout",
          "output_type": "stream",
          "text": [
            "{'should', 'wasn', \"don't\", 'm', 'o', \"you're\", 'won', \"wasn't\", 'then', 'of', \"you'll\", 'when', 'am', 'for', 'which', 'his', 'are', 'the', 've', \"aren't\", 'd', 'but', 'mustn', 'do', 'against', \"you've\", 'here', 'than', 'ma', 'with', 'other', 'can', 'our', 'if', 'haven', 'were', 'after', 'over', 't', 'now', 'them', 'too', \"haven't\", 'because', 'shan', 'is', 'on', 'its', 'below', 'down', \"hadn't\", 'itself', 'aren', 'who', 'through', 'did', 'my', 'at', 'hers', 'own', \"doesn't\", 'mightn', 'being', \"needn't\", 'why', 'does', 'most', 'an', 'same', 'himself', 'up', \"didn't\", 'herself', 'will', 'their', 'again', 'further', 'not', 'all', \"isn't\", 'themselves', 'they', 'yours', 'him', 'had', 'into', 'be', \"won't\", \"mustn't\", 'he', 'there', 'yourselves', \"weren't\", 'it', 'you', 'some', 'only', 'have', 'where', 'before', 'off', 'how', 'don', 'each', 'this', 'between', 'under', 'such', 'your', \"it's\", \"shan't\", 'her', 'doesn', 'hasn', 'by', 'ain', \"mightn't\", 'nor', 'just', 'hadn', 'i', 'about', 'needn', 'these', 'to', \"that'll\", \"should've\", 'yourself', \"couldn't\", 'no', 'those', 'weren', 'wouldn', 'whom', \"wouldn't\", 'has', 'what', 're', 'very', 'myself', 'theirs', \"you'd\", 'doing', 'and', 'isn', 'me', 'out', 'once', 'while', 'during', 'having', 'from', 'so', 'was', 's', \"shouldn't\", 'or', 'both', 'we', 'didn', 'ourselves', \"hasn't\", 'until', 'any', \"she's\", 'ours', 'll', 'above', 'few', 'a', 'in', 'y', 'shouldn', 'more', 'been', 'she', 'couldn', 'that', 'as'}\n"
          ]
        }
      ],
      "source": [
        "from nltk.corpus import stopwords\n",
        "\n",
        "stops = set(stopwords.words('english'))\n",
        "print(stops)"
      ]
    }
  ],
  "metadata": {
    "colab": {
      "include_colab_link": true,
      "provenance": []
    },
    "kernelspec": {
      "display_name": "base",
      "language": "python",
      "name": "python3"
    },
    "language_info": {
      "codemirror_mode": {
        "name": "ipython",
        "version": 3
      },
      "file_extension": ".py",
      "mimetype": "text/x-python",
      "name": "python",
      "nbconvert_exporter": "python",
      "pygments_lexer": "ipython3",
      "version": "3.9.13"
    },
    "vscode": {
      "interpreter": {
        "hash": "bffae61b4a647f5c3a2b9689cc2bbc523f2c1227093a073b0d809d31c71c3583"
      }
    }
  },
  "nbformat": 4,
  "nbformat_minor": 0
}

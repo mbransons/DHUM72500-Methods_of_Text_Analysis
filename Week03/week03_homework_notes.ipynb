{
 "cells": [
  {
   "attachments": {},
   "cell_type": "markdown",
   "metadata": {},
   "source": [
    "Jerome McGann's concept of \"context\" and \"symbolic exchange\" focuses on the material conditions and historical, social, and cultural forces that shape the production and circulation of meaning. When analyzing the frequency of a word's use distributed across a novel using a \"dispersion plot,\" this perspective on context and symbolic exchange may be both affirmed and expanded upon.\n",
    "\n",
    "On the one hand, a dispersion plot can help to highlight the importance of the material context of a novel's production and reception. For example, it might reveal patterns of word usage that reflect particular historical or cultural moments, such as the influence of a particular literary movement or the impact of a major historical event. These patterns can shed light on the ways in which the novel engages with and responds to its broader cultural context, and they can help us understand how meaning is produced and negotiated through the use of language.\n",
    "\n",
    "At the same time, a dispersion plot can also reveal the internal dynamics of a novel's symbolic exchange. By showing the frequency of a word's use across different sections of the novel, a dispersion plot can help us see how meaning is produced and circulated within the text itself. For example, it might reveal the recurrence of certain themes or motifs, or it might highlight the ways in which characters or events are connected through the use of particular words or phrases. This can help us understand how the novel creates its own internal symbolic system, and how meaning is negotiated and transformed through the interactions between different elements of the text.\n",
    "\n",
    "Overall, while a dispersion plot may not fundamentally change McGann's concepts of context and symbolic exchange, it can provide a powerful tool for exploring the ways in which meaning is produced and negotiated through the use of language in a particular cultural context, as well as within the internal dynamics of a literary text."
   ]
  },
  {
   "attachments": {},
   "cell_type": "markdown",
   "metadata": {},
   "source": [
    "Jerome McGann uses the terms \"text\" and \"paratext\" to describe different elements of a literary work. According to McGann, the \"text\" refers to the primary written work itself, including its language, structure, and content. The text is the core of the literary work and is typically considered the primary object of literary analysis.\n",
    "\n",
    "In contrast, the \"paratext\" refers to the various elements that surround and support the text, but which are not part of the text itself. This can include things like the title, the author's name, the preface or introduction, footnotes or annotations, and other supplementary materials. While the paratext may be physically separate from the text, it is intimately connected to it and can have a significant impact on the reader's interpretation and reception of the work.\n",
    "\n",
    "McGann argues that the paratext is an essential component of the literary work and should not be overlooked or dismissed as mere ancillary material. Instead, he suggests that the paratext plays a crucial role in shaping the reader's engagement with the text and can help to frame the work's interpretation and reception. For example, the title or cover art might suggest a particular theme or tone, while the author's name or biography might influence the reader's expectations and assumptions about the work.\n",
    "\n",
    "In this way, McGann's distinction between text and paratext highlights the complex interplay between different elements of a literary work and emphasizes the importance of considering all aspects of the work in any analysis or interpretation. By examining both the text and its paratext, scholars can gain a more nuanced understanding of the work and its broader cultural significance."
   ]
  }
 ],
 "metadata": {
  "kernelspec": {
   "display_name": "Python 3",
   "language": "python",
   "name": "python3"
  },
  "language_info": {
   "name": "python",
   "version": "3.9.6"
  },
  "orig_nbformat": 4,
  "vscode": {
   "interpreter": {
    "hash": "31f2aee4e71d21fbe5cf8b01ff0e069b9275f58929596ceb00d14d90e3e16cd6"
   }
  }
 },
 "nbformat": 4,
 "nbformat_minor": 2
}

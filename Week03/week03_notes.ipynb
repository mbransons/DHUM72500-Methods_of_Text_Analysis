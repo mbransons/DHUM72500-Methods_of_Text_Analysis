{
 "cells": [
  {
   "attachments": {},
   "cell_type": "markdown",
   "metadata": {},
   "source": [
    "McGann – poetry is designed to be in conversation with itself given how its use of layout can be unconventional.\n",
    "\n",
    "Making it material sets limits... the possibilities are becoming static. The text has a material existence, the work is the experiential process.\n",
    "\n"
   ]
  }
 ],
 "metadata": {
  "language_info": {
   "name": "python"
  },
  "orig_nbformat": 4
 },
 "nbformat": 4,
 "nbformat_minor": 2
}

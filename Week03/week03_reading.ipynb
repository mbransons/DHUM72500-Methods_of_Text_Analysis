{
 "cells": [
  {
   "attachments": {},
   "cell_type": "markdown",
   "metadata": {},
   "source": [
    "### The Textual Condition\n",
    "*McGann*\n"
   ]
  },
  {
   "attachments": {},
   "cell_type": "markdown",
   "metadata": {},
   "source": [
    "* 'to be human is to be involved with another, and ultimately with many others.'\n",
    "* 'Textuality is a scene in which readers respond to the texts they encounter.'\n",
    "\n",
    "All interpretations are imperfect. There is necessarily doubt in our understanding of what we read. We are part of the 'scene' of reading and interpreting. \n",
    "\n",
    "We are all failing ourselves the moment we compose a version of our conception of thought. \n",
    "\n",
    "* '...a world where the many departures from grace – our damaged orders and beings – appear in correspondingly determinate forms.'\n",
    "\n",
    "* 'To study texts and textualities, then, we have to study these complex (and open-ended) histories of textual change and variance.'"
   ]
  },
  {
   "attachments": {},
   "cell_type": "markdown",
   "metadata": {},
   "source": [
    "### Theories of Text\n",
    "*Walsh, Marus*"
   ]
  },
  {
   "attachments": {},
   "cell_type": "markdown",
   "metadata": {},
   "source": [
    "* 'Texts are products of human agency...by a variety of technologies, all embodying human crafts and decisions.'\n",
    "\n",
    "Errors in the machine and translation...\n",
    "\n",
    "* 'misconstruction'\n",
    "\n",
    "* texts as author's intention vs. texts as a negotiation betwen author and the various influences that negotiate what is communicated\n",
    "\n",
    "Reminds me of the 'original framers' argument of constitutional interpretation vs. modern perspectives \n",
    "\n",
    "* 'texts have been adapted according to the perceived taste or capabilities of their target audience.'\n",
    "\n",
    "emendation – the process of making a revision or correction to a text.\n",
    "\n",
    "* 'the distance of all surviving documents from their originals.' And Bentley with this understanding of the already existing imperfections was willing to make changes guided by '...reason and common sense are better than a hundred codices.'\n",
    "\n",
    "* The 'want of Originals' may require us to guess, but 'these Guesses turn into Something of a more *substantial* Nature, when they are tolerably supported by *Reason* or *Authorities*'.\n",
    "\n",
    "* Authorial intention – 'its knowability and reconstructability' based on editorial interpretations through a multifaceted 'best' understanding of the author and their intentions.\n",
    "\n",
    "Authorial intention an interogated 'problem'\n",
    "* 'privileging of authorial intention not as a rational choice, but determined by ideologies of individualism.'\n",
    "* '...authorial intention is a form of 'hagiolatry', attributing to the author divine inspiration or charisma.'\n",
    "\n",
    "* McGann insisted that 'literary works are fundamentally social rather than personal or psychological products, they do not even acquire an artistic form of being until their engagement with an audience has been determined...literary works must be produced within some appropriate set of social institutions.' \n",
    "\n",
    "* Based on McGann – it's a negotiation between writer, reader, performer, audience, etc...\n",
    "\n",
    "Reminds me of the obsession over authorial intention vs. the film adaptation and the 'flaws' found in the production."
   ]
  },
  {
   "attachments": {},
   "cell_type": "markdown",
   "metadata": {},
   "source": [
    "### The Electric Book\n",
    "*Eileen Gardiner and Ronald G. Musto*"
   ]
  },
  {
   "attachments": {},
   "cell_type": "markdown",
   "metadata": {},
   "source": [
    "* book 'as cultural practice and process, with the e-book as one manifestation of this practice.'\n",
    "\n",
    "* the 'paper paradigm' in user interface design – black text on a white background, files, folders, and a desktop.\n",
    "\n",
    "* 'Hyperlinking, non-linear and multipolar connections, and vast quantities of supplemental materials open up myriad paths to reading and interpretation: deconstruction and reassembly of an author's argument and ultimate sense may be central to the online experience; authorial voice and point of view are contested far more actively than in print.'\n",
    "\n",
    "* 'Are games, telephone directories, interactive narratives, or the results of data mining, meaningfully conceived as books? What roles do the author, the reader, and the medium play in our evolving understandings?'\n",
    "\n",
    "* 'The radical dismemberment and reassociation of content in the digital realm compels us to consider these questions in a new light, with a newly focused urgency.'"
   ]
  }
 ],
 "metadata": {
  "kernelspec": {
   "display_name": "Python 3",
   "language": "python",
   "name": "python3"
  },
  "language_info": {
   "name": "python",
   "version": "3.9.6"
  },
  "orig_nbformat": 4,
  "vscode": {
   "interpreter": {
    "hash": "31f2aee4e71d21fbe5cf8b01ff0e069b9275f58929596ceb00d14d90e3e16cd6"
   }
  }
 },
 "nbformat": 4,
 "nbformat_minor": 2
}
